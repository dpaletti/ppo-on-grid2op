{
 "cells": [
  {
   "cell_type": "markdown",
   "id": "0ffda1c8",
   "metadata": {},
   "source": [
    "# Agent evaluation"
   ]
  },
  {
   "cell_type": "markdown",
   "id": "78d3a0be",
   "metadata": {},
   "source": [
    "## Imports"
   ]
  },
  {
   "cell_type": "code",
   "execution_count": 92,
   "id": "931d0b2a",
   "metadata": {},
   "outputs": [],
   "source": [
    "from grid2op.Episode import EpisodeData\n",
    "from pathlib import Path\n",
    "import re\n",
    "from tqdm import tqdm\n",
    "import numpy as np\n",
    "from pprint import pprint"
   ]
  },
  {
   "cell_type": "markdown",
   "id": "e8b48a76",
   "metadata": {},
   "source": [
    "## Configs"
   ]
  },
  {
   "cell_type": "code",
   "execution_count": null,
   "id": "b069aa61",
   "metadata": {},
   "outputs": [],
   "source": [
    "AGENTS = {\n",
    "    \"PPO\",  # baseline agent\n",
    "    \"PPO_reward\",  # baseline with improved reward\n",
    "    \"MaskablePPO\",  # MaskablePPO (standard reward)\n",
    "    \"MaskablePPO_reward\",  # MaskablePPO with improved reward\n",
    "    # \"GraphPPO\",  # baseline with graph embeddings\n",
    "    \"GraphPPO_reward\"  # baseline with graph embeddins and improved reward\n",
    "    \"MaskableGraphPPO\",  # MaskablePPO with graph embeddings\n",
    "    \"MaskableGraphPPO_reward\",  # MaskablePPO with graph embeddings and improved reward\n",
    "}\n",
    "RAW_DATA_FOLDER = \"raw_zips\"  # this folder gets ignored\n",
    "\n",
    "EVALUATION_LOGS_DIR = \"../presentation_data/eval_logs/\"\n",
    "EPISODE_FOLDER_REGEX = r\"^\\d{4}$\"  # matches 0010, 0020, 0200, 4000...\n"
   ]
  },
  {
   "cell_type": "markdown",
   "id": "d8266eb8",
   "metadata": {},
   "source": [
    "## Data loading"
   ]
  },
  {
   "cell_type": "code",
   "execution_count": 94,
   "id": "352b3975",
   "metadata": {},
   "outputs": [
    {
     "name": "stdout",
     "output_type": "stream",
     "text": [
      "Loading episode data for agent MaskablePPO from ../presentation_data/eval_logs/MaskablePPO_env=l2rpn_case14_sandbox_iterations=10000_2025-09-14_20:37:50\n"
     ]
    },
    {
     "name": "stderr",
     "output_type": "stream",
     "text": [
      "100%|██████████| 20/20 [00:31<00:00,  1.56s/it]\n"
     ]
    },
    {
     "name": "stdout",
     "output_type": "stream",
     "text": [
      "Loading episode data for agent PPO_reward from ../presentation_data/eval_logs/PPO_reward_env=l2rpn_case14_sandbox_iterations=10000_2025-09-14_17:06:53\n"
     ]
    },
    {
     "name": "stderr",
     "output_type": "stream",
     "text": [
      "100%|██████████| 20/20 [00:59<00:00,  2.96s/it]\n"
     ]
    },
    {
     "name": "stdout",
     "output_type": "stream",
     "text": [
      "Loading episode data for agent PPO from ../presentation_data/eval_logs/GraphPPO_reward_env=l2rpn_case14_sandbox_iterations=10000_2025-09-15_20:54:44\n"
     ]
    },
    {
     "name": "stderr",
     "output_type": "stream",
     "text": [
      "100%|██████████| 20/20 [00:39<00:00,  1.96s/it]\n"
     ]
    },
    {
     "name": "stdout",
     "output_type": "stream",
     "text": [
      "Loading episode data for agent MaskablePPO_reward from ../presentation_data/eval_logs/MaskablePPO_reward_env=l2rpn_case14_sandbox_iterations=10000_2025-09-14_20:34:47\n"
     ]
    },
    {
     "name": "stderr",
     "output_type": "stream",
     "text": [
      "100%|██████████| 20/20 [01:01<00:00,  3.08s/it]"
     ]
    },
    {
     "name": "stdout",
     "output_type": "stream",
     "text": [
      "Could not match some agents: {'MaskableGraphPPO', 'MaskableGraphPPO_reward'}\n"
     ]
    },
    {
     "name": "stderr",
     "output_type": "stream",
     "text": [
      "\n"
     ]
    }
   ],
   "source": [
    "agent_data = {}\n",
    "for agent_dir in Path(EVALUATION_LOGS_DIR).iterdir():\n",
    "    if agent_dir.is_dir():\n",
    "        longest_matched_agent = \"\"\n",
    "        for agent in AGENTS.difference(\n",
    "            agent_data.keys()\n",
    "        ):  # ignore already matched agents\n",
    "            if agent in agent_dir.name and len(agent) > len(longest_matched_agent):\n",
    "                longest_matched_agent = agent\n",
    "        if len(longest_matched_agent) > 0:\n",
    "            if longest_matched_agent in agent_data:\n",
    "                raise ValueError(\n",
    "                    f\"Matched the same agent {longest_matched_agent} twice.\"\n",
    "                )\n",
    "\n",
    "            agent_data[longest_matched_agent] = {}\n",
    "            print(\n",
    "                f\"Loading episode data for agent {longest_matched_agent} from {agent_dir}\"\n",
    "            )\n",
    "            for episode_dir in tqdm(\n",
    "                list(agent_dir.iterdir())\n",
    "            ):  # list needed for tqdm to predict timing\n",
    "                if re.match(EPISODE_FOLDER_REGEX, str(episode_dir.name)):\n",
    "                    agent_data[longest_matched_agent][episode_dir.name] = (\n",
    "                        EpisodeData.from_disk(str(agent_dir), episode_dir.name)\n",
    "                    )\n",
    "unmatched_agents = AGENTS.difference(agent_data.keys())\n",
    "if len(unmatched_agents) > 0:\n",
    "    print(f\"Could not match some agents: {unmatched_agents}\")"
   ]
  },
  {
   "cell_type": "markdown",
   "id": "0ec13444",
   "metadata": {},
   "source": [
    "## Agent statistics"
   ]
  },
  {
   "cell_type": "code",
   "execution_count": 95,
   "id": "62143546",
   "metadata": {},
   "outputs": [],
   "source": [
    "agent_statistics = {}\n",
    "for agent in agent_data:\n",
    "    agent_statistics[agent] = {}\n",
    "    agent_statistics[agent][\"score\"] = {}\n",
    "    agent_statistics[agent][\"timesteps_survived\"] = {}\n",
    "    agent_statistics[agent][\"total_timesteps\"] = {}\n",
    "    for episode_name, episode_data in agent_data[agent].items():\n",
    "        total_timesteps = len(episode_data.rewards)\n",
    "        timesteps_survived = np.count_nonzero(~np.isnan(episode_data.rewards))\n",
    "        agent_statistics[agent][\"total_timesteps\"][episode_name] = total_timesteps\n",
    "        agent_statistics[agent][\"timesteps_survived\"][episode_name] = timesteps_survived\n",
    "        agent_statistics[agent][\"score\"][episode_name] = (\n",
    "            timesteps_survived / total_timesteps\n",
    "        )\n",
    "\n",
    "    scores = list(agent_statistics[agent][\"score\"].values())\n",
    "    agent_statistics[agent][\"mean_score\"] = np.mean(scores)\n",
    "    agent_statistics[agent][\"median_score\"] = np.median(scores)\n",
    "    agent_statistics[agent][\"min_score\"] = {\n",
    "        min(agent_statistics[agent][\"score\"], key=agent_statistics[agent][\"score\"].get),\n",
    "        min(scores),\n",
    "    }\n",
    "    agent_statistics[agent][\"max_score\"] = {\n",
    "        max(agent_statistics[agent][\"score\"], key=agent_statistics[agent][\"score\"].get),\n",
    "        max(scores),\n",
    "    }\n"
   ]
  },
  {
   "cell_type": "code",
   "execution_count": 96,
   "id": "a6f6075b",
   "metadata": {},
   "outputs": [
    {
     "name": "stdout",
     "output_type": "stream",
     "text": [
      "{'MaskablePPO': np.float64(0.12759641617063494),\n",
      " 'MaskablePPO_reward': np.float64(0.2951776413690476),\n",
      " 'PPO': np.float64(0.1697901165674603),\n",
      " 'PPO_reward': np.float64(0.2951776413690476)}\n"
     ]
    }
   ],
   "source": [
    "# WARNING: here the score is equal due to the small evaluation set\n",
    "# they do not play the same actions by but in the end they have the same effect\n",
    "mean_scores = {}\n",
    "for agent in agent_statistics:\n",
    "    mean_scores[agent] = agent_statistics[agent][\"mean_score\"]\n",
    "pprint(mean_scores)\n",
    "\n",
    "# TODO: recover the data from colab"
   ]
  },
  {
   "cell_type": "code",
   "execution_count": null,
   "id": "6b1a17a4",
   "metadata": {},
   "outputs": [],
   "source": []
  }
 ],
 "metadata": {
  "kernelspec": {
   "display_name": "ppo-on-grid2op",
   "language": "python",
   "name": "python3"
  },
  "language_info": {
   "codemirror_mode": {
    "name": "ipython",
    "version": 3
   },
   "file_extension": ".py",
   "mimetype": "text/x-python",
   "name": "python",
   "nbconvert_exporter": "python",
   "pygments_lexer": "ipython3",
   "version": "3.13.7"
  }
 },
 "nbformat": 4,
 "nbformat_minor": 5
}
