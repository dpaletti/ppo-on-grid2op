{
 "cells": [
  {
   "cell_type": "markdown",
   "id": "a4160d3d",
   "metadata": {},
   "source": [
    "# Train maskable model on Colab\n",
    "The experiments have been run on a **v6e1 instance** (TPU does not get used) for faster single and multi core performance essential for stable-baselines3 PPO implementation.\n",
    "\n",
    "These instances require Colab PRO."
   ]
  },
  {
   "cell_type": "code",
   "execution_count": null,
   "id": "4717c09b",
   "metadata": {},
   "outputs": [],
   "source": [
    "# Clone repository\n",
    "!git clone https://github.com/dpaletti/ppo-on-grid2op.git"
   ]
  },
  {
   "cell_type": "code",
   "execution_count": null,
   "id": "edb32bc7",
   "metadata": {},
   "outputs": [],
   "source": [
    "# Install UV for dependencies\n",
    "!curl -LsSf https://astral.sh/uv/install.sh | sh"
   ]
  },
  {
   "cell_type": "code",
   "execution_count": null,
   "id": "80474440",
   "metadata": {},
   "outputs": [],
   "source": [
    "# Create necessary directory for logging\n",
    "!mkdir -p ppo-on-grid2op/models/"
   ]
  },
  {
   "cell_type": "code",
   "execution_count": null,
   "id": "f8cbb883",
   "metadata": {},
   "outputs": [],
   "source": [
    "# Install dependencies and run baseline training:\n",
    "# 1. hyperparameter tuning\n",
    "# 2. training best model\n",
    "# 3. evaluating trained model\n",
    "!cd ppo-on-grid2op/ && uv sync && uv run python src/ppo_on_grid2op/training_scripts/train_maskable.py"
   ]
  },
  {
   "cell_type": "code",
   "execution_count": null,
   "id": "0704591b",
   "metadata": {},
   "outputs": [],
   "source": [
    "# Zip all data that has been produced for easier and faster download\n",
    "!zip -r models_maskable_training.zip ppo-on-grid2op/models/\n",
    "!zip -r eval_logs_maskable_training.zip ppo-on-grid2op/eval_logs/\n",
    "!zip -r tensorboard_logs_maskable_training.zip ppo-on-grid2op/tensorboard_logs/\n",
    "!zip -r tuning_logs_maskable_training.zip ppo-on-grid2op/tuning_logs/"
   ]
  },
  {
   "cell_type": "code",
   "execution_count": null,
   "id": "b48d9bbc",
   "metadata": {},
   "outputs": [],
   "source": [
    "try:\n",
    "    # download files from colab to local\n",
    "    from google.colab import files  # colab specific import\n",
    "\n",
    "    files.download(\"models_maskable_training.zip\")\n",
    "    files.download(\"eval_logs_maskable_training.zip\")\n",
    "    files.download(\"tensorboard_logs_maskable_training.zip\")\n",
    "    files.download(\"tuning_logs_maskable_training.zip\")\n",
    "except ImportError:\n",
    "    print(\n",
    "        \"Could not import colab, probably not a colab notebook, files won't get downloaded.\"\n",
    "    )"
   ]
  }
 ],
 "metadata": {
  "language_info": {
   "name": "python"
  }
 },
 "nbformat": 4,
 "nbformat_minor": 5
}
