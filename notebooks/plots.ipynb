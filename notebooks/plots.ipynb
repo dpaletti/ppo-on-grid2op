{
 "cells": [
  {
   "cell_type": "markdown",
   "id": "0d027a65",
   "metadata": {},
   "source": [
    "# Generate plots from tensorboard data"
   ]
  },
  {
   "cell_type": "code",
   "execution_count": 2,
   "id": "a96a95f9",
   "metadata": {},
   "outputs": [],
   "source": [
    "import polars as pl\n",
    "import plotly.express as px\n"
   ]
  },
  {
   "cell_type": "markdown",
   "id": "e16a6ebc",
   "metadata": {},
   "source": [
    "## Configs"
   ]
  },
  {
   "cell_type": "code",
   "execution_count": null,
   "id": "181226f4",
   "metadata": {},
   "outputs": [],
   "source": [
    "THEME = \"plotly_white\""
   ]
  },
  {
   "cell_type": "markdown",
   "id": "a2ddea28",
   "metadata": {},
   "source": [
    "## Plots"
   ]
  },
  {
   "cell_type": "markdown",
   "id": "45f1a915",
   "metadata": {},
   "source": [
    "### Baseline"
   ]
  },
  {
   "cell_type": "code",
   "execution_count": 27,
   "id": "403b5f43",
   "metadata": {},
   "outputs": [
    {
     "data": {
      "application/vnd.plotly.v1+json": {
       "config": {
        "plotlyServerURL": "https://plot.ly"
       },
       "data": [
        {
         "hovertemplate": "training_step=%{x}<br>reward=%{y}<extra></extra>",
         "legendgroup": "",
         "line": {
          "color": "#612b94",
          "dash": "solid"
         },
         "marker": {
          "symbol": "circle"
         },
         "mode": "lines",
         "name": "",
         "orientation": "v",
         "showlegend": false,
         "type": "scatter",
         "x": {
          "bdata": "gAAAAYABAAKAAgADgAMABIAEAAWABQAGgAYAB4AHAAiACAAJgAkACoAKAAuACwAMgAwADYANAA6ADgAPgA8AEIAQABGAEQASgBIAE4ATABSAFAAVgBUAFoAWABeAFwAYgBgAGYAZABqAGgAbgBsAHIAcAB2AHQAegB4AH4AfACCAIAAhgCEAIoAiACOAIwAkgCQAJYAlACaAJgAngCc=",
          "dtype": "i2"
         },
         "xaxis": "x",
         "y": {
          "bdata": "AAAAAG3btD8AAACA0Ma1PwAAAABlB7U/AAAAoFBZtT8AAACANOS0PwAAAOAzErU/AAAAAKTZtT8AAABAT6i2PwAAAGB5zLU/AAAAgAdHtD8AAADAX6KzPwAAAKDdr7M/AAAAgGpLtD8AAACAGzq0PwAAAOCdWrU/AAAAgDrMtD8AAAAgSue0PwAAACDNQrc/AAAAYOA/tz8AAABg7+SzPwAAAOA+DbQ/AAAAQEJltD8AAADAeua2PwAAAICLPLY/AAAA4LOYsz8AAABADlOzPwAAAOAPG7M/AAAAgOzrtT8AAAAA0521PwAAACBcyrM/AAAAAGHqtT8AAACA3PS2PwAAAOBsRLg/AAAAIJEAtz8AAACAhfi3PwAAAIBjqLc/AAAAgKAOtj8AAAAA/UG1PwAAAKDePLU/AAAAYPqatD8AAAAgO9m1PwAAAOCwZLY/AAAAwBv1tz8AAADguly3PwAAAGBlY7Y/AAAAYPpItj8AAADg+lW4PwAAAOASirk/AAAAYIefuT8AAABgi1O5PwAAACDJGLc/AAAA4CK8tz8AAAAgEs+2PwAAAKDIU7Y/AAAAoCYUtj8AAACAU/a3PwAAAGCHNrY/AAAAIMqytD8AAABg4cK0PwAAAGA2mLU/AAAAYDXQtT8AAACAjoe3PwAAAOBRz7c/AAAAQIjatT8AAAAAuAe2PwAAACDtJrY/AAAAoPYrtj8AAADga861PwAAAEAvUbc/AAAAoDzztj8AAABALom2PwAAAABxBbY/AAAAwB0ctT8AAABA/DS1PwAAAADhNbU/AAAAAPa1tj8AAABAj5S2PwAAAMD/aLQ/AAAA4K1HtT8=",
          "dtype": "f8"
         },
         "yaxis": "y"
        }
       ],
       "layout": {
        "legend": {
         "tracegroupgap": 0
        },
        "margin": {
         "t": 60
        },
        "template": {
         "data": {
          "bar": [
           {
            "error_x": {
             "color": "#2a3f5f"
            },
            "error_y": {
             "color": "#2a3f5f"
            },
            "marker": {
             "line": {
              "color": "white",
              "width": 0.5
             },
             "pattern": {
              "fillmode": "overlay",
              "size": 10,
              "solidity": 0.2
             }
            },
            "type": "bar"
           }
          ],
          "barpolar": [
           {
            "marker": {
             "line": {
              "color": "white",
              "width": 0.5
             },
             "pattern": {
              "fillmode": "overlay",
              "size": 10,
              "solidity": 0.2
             }
            },
            "type": "barpolar"
           }
          ],
          "carpet": [
           {
            "aaxis": {
             "endlinecolor": "#2a3f5f",
             "gridcolor": "#C8D4E3",
             "linecolor": "#C8D4E3",
             "minorgridcolor": "#C8D4E3",
             "startlinecolor": "#2a3f5f"
            },
            "baxis": {
             "endlinecolor": "#2a3f5f",
             "gridcolor": "#C8D4E3",
             "linecolor": "#C8D4E3",
             "minorgridcolor": "#C8D4E3",
             "startlinecolor": "#2a3f5f"
            },
            "type": "carpet"
           }
          ],
          "choropleth": [
           {
            "colorbar": {
             "outlinewidth": 0,
             "ticks": ""
            },
            "type": "choropleth"
           }
          ],
          "contour": [
           {
            "colorbar": {
             "outlinewidth": 0,
             "ticks": ""
            },
            "colorscale": [
             [
              0,
              "#0d0887"
             ],
             [
              0.1111111111111111,
              "#46039f"
             ],
             [
              0.2222222222222222,
              "#7201a8"
             ],
             [
              0.3333333333333333,
              "#9c179e"
             ],
             [
              0.4444444444444444,
              "#bd3786"
             ],
             [
              0.5555555555555556,
              "#d8576b"
             ],
             [
              0.6666666666666666,
              "#ed7953"
             ],
             [
              0.7777777777777778,
              "#fb9f3a"
             ],
             [
              0.8888888888888888,
              "#fdca26"
             ],
             [
              1,
              "#f0f921"
             ]
            ],
            "type": "contour"
           }
          ],
          "contourcarpet": [
           {
            "colorbar": {
             "outlinewidth": 0,
             "ticks": ""
            },
            "type": "contourcarpet"
           }
          ],
          "heatmap": [
           {
            "colorbar": {
             "outlinewidth": 0,
             "ticks": ""
            },
            "colorscale": [
             [
              0,
              "#0d0887"
             ],
             [
              0.1111111111111111,
              "#46039f"
             ],
             [
              0.2222222222222222,
              "#7201a8"
             ],
             [
              0.3333333333333333,
              "#9c179e"
             ],
             [
              0.4444444444444444,
              "#bd3786"
             ],
             [
              0.5555555555555556,
              "#d8576b"
             ],
             [
              0.6666666666666666,
              "#ed7953"
             ],
             [
              0.7777777777777778,
              "#fb9f3a"
             ],
             [
              0.8888888888888888,
              "#fdca26"
             ],
             [
              1,
              "#f0f921"
             ]
            ],
            "type": "heatmap"
           }
          ],
          "histogram": [
           {
            "marker": {
             "pattern": {
              "fillmode": "overlay",
              "size": 10,
              "solidity": 0.2
             }
            },
            "type": "histogram"
           }
          ],
          "histogram2d": [
           {
            "colorbar": {
             "outlinewidth": 0,
             "ticks": ""
            },
            "colorscale": [
             [
              0,
              "#0d0887"
             ],
             [
              0.1111111111111111,
              "#46039f"
             ],
             [
              0.2222222222222222,
              "#7201a8"
             ],
             [
              0.3333333333333333,
              "#9c179e"
             ],
             [
              0.4444444444444444,
              "#bd3786"
             ],
             [
              0.5555555555555556,
              "#d8576b"
             ],
             [
              0.6666666666666666,
              "#ed7953"
             ],
             [
              0.7777777777777778,
              "#fb9f3a"
             ],
             [
              0.8888888888888888,
              "#fdca26"
             ],
             [
              1,
              "#f0f921"
             ]
            ],
            "type": "histogram2d"
           }
          ],
          "histogram2dcontour": [
           {
            "colorbar": {
             "outlinewidth": 0,
             "ticks": ""
            },
            "colorscale": [
             [
              0,
              "#0d0887"
             ],
             [
              0.1111111111111111,
              "#46039f"
             ],
             [
              0.2222222222222222,
              "#7201a8"
             ],
             [
              0.3333333333333333,
              "#9c179e"
             ],
             [
              0.4444444444444444,
              "#bd3786"
             ],
             [
              0.5555555555555556,
              "#d8576b"
             ],
             [
              0.6666666666666666,
              "#ed7953"
             ],
             [
              0.7777777777777778,
              "#fb9f3a"
             ],
             [
              0.8888888888888888,
              "#fdca26"
             ],
             [
              1,
              "#f0f921"
             ]
            ],
            "type": "histogram2dcontour"
           }
          ],
          "mesh3d": [
           {
            "colorbar": {
             "outlinewidth": 0,
             "ticks": ""
            },
            "type": "mesh3d"
           }
          ],
          "parcoords": [
           {
            "line": {
             "colorbar": {
              "outlinewidth": 0,
              "ticks": ""
             }
            },
            "type": "parcoords"
           }
          ],
          "pie": [
           {
            "automargin": true,
            "type": "pie"
           }
          ],
          "scatter": [
           {
            "fillpattern": {
             "fillmode": "overlay",
             "size": 10,
             "solidity": 0.2
            },
            "type": "scatter"
           }
          ],
          "scatter3d": [
           {
            "line": {
             "colorbar": {
              "outlinewidth": 0,
              "ticks": ""
             }
            },
            "marker": {
             "colorbar": {
              "outlinewidth": 0,
              "ticks": ""
             }
            },
            "type": "scatter3d"
           }
          ],
          "scattercarpet": [
           {
            "marker": {
             "colorbar": {
              "outlinewidth": 0,
              "ticks": ""
             }
            },
            "type": "scattercarpet"
           }
          ],
          "scattergeo": [
           {
            "marker": {
             "colorbar": {
              "outlinewidth": 0,
              "ticks": ""
             }
            },
            "type": "scattergeo"
           }
          ],
          "scattergl": [
           {
            "marker": {
             "colorbar": {
              "outlinewidth": 0,
              "ticks": ""
             }
            },
            "type": "scattergl"
           }
          ],
          "scattermap": [
           {
            "marker": {
             "colorbar": {
              "outlinewidth": 0,
              "ticks": ""
             }
            },
            "type": "scattermap"
           }
          ],
          "scattermapbox": [
           {
            "marker": {
             "colorbar": {
              "outlinewidth": 0,
              "ticks": ""
             }
            },
            "type": "scattermapbox"
           }
          ],
          "scatterpolar": [
           {
            "marker": {
             "colorbar": {
              "outlinewidth": 0,
              "ticks": ""
             }
            },
            "type": "scatterpolar"
           }
          ],
          "scatterpolargl": [
           {
            "marker": {
             "colorbar": {
              "outlinewidth": 0,
              "ticks": ""
             }
            },
            "type": "scatterpolargl"
           }
          ],
          "scatterternary": [
           {
            "marker": {
             "colorbar": {
              "outlinewidth": 0,
              "ticks": ""
             }
            },
            "type": "scatterternary"
           }
          ],
          "surface": [
           {
            "colorbar": {
             "outlinewidth": 0,
             "ticks": ""
            },
            "colorscale": [
             [
              0,
              "#0d0887"
             ],
             [
              0.1111111111111111,
              "#46039f"
             ],
             [
              0.2222222222222222,
              "#7201a8"
             ],
             [
              0.3333333333333333,
              "#9c179e"
             ],
             [
              0.4444444444444444,
              "#bd3786"
             ],
             [
              0.5555555555555556,
              "#d8576b"
             ],
             [
              0.6666666666666666,
              "#ed7953"
             ],
             [
              0.7777777777777778,
              "#fb9f3a"
             ],
             [
              0.8888888888888888,
              "#fdca26"
             ],
             [
              1,
              "#f0f921"
             ]
            ],
            "type": "surface"
           }
          ],
          "table": [
           {
            "cells": {
             "fill": {
              "color": "#EBF0F8"
             },
             "line": {
              "color": "white"
             }
            },
            "header": {
             "fill": {
              "color": "#C8D4E3"
             },
             "line": {
              "color": "white"
             }
            },
            "type": "table"
           }
          ]
         },
         "layout": {
          "annotationdefaults": {
           "arrowcolor": "#2a3f5f",
           "arrowhead": 0,
           "arrowwidth": 1
          },
          "autotypenumbers": "strict",
          "coloraxis": {
           "colorbar": {
            "outlinewidth": 0,
            "ticks": ""
           }
          },
          "colorscale": {
           "diverging": [
            [
             0,
             "#8e0152"
            ],
            [
             0.1,
             "#c51b7d"
            ],
            [
             0.2,
             "#de77ae"
            ],
            [
             0.3,
             "#f1b6da"
            ],
            [
             0.4,
             "#fde0ef"
            ],
            [
             0.5,
             "#f7f7f7"
            ],
            [
             0.6,
             "#e6f5d0"
            ],
            [
             0.7,
             "#b8e186"
            ],
            [
             0.8,
             "#7fbc41"
            ],
            [
             0.9,
             "#4d9221"
            ],
            [
             1,
             "#276419"
            ]
           ],
           "sequential": [
            [
             0,
             "#0d0887"
            ],
            [
             0.1111111111111111,
             "#46039f"
            ],
            [
             0.2222222222222222,
             "#7201a8"
            ],
            [
             0.3333333333333333,
             "#9c179e"
            ],
            [
             0.4444444444444444,
             "#bd3786"
            ],
            [
             0.5555555555555556,
             "#d8576b"
            ],
            [
             0.6666666666666666,
             "#ed7953"
            ],
            [
             0.7777777777777778,
             "#fb9f3a"
            ],
            [
             0.8888888888888888,
             "#fdca26"
            ],
            [
             1,
             "#f0f921"
            ]
           ],
           "sequentialminus": [
            [
             0,
             "#0d0887"
            ],
            [
             0.1111111111111111,
             "#46039f"
            ],
            [
             0.2222222222222222,
             "#7201a8"
            ],
            [
             0.3333333333333333,
             "#9c179e"
            ],
            [
             0.4444444444444444,
             "#bd3786"
            ],
            [
             0.5555555555555556,
             "#d8576b"
            ],
            [
             0.6666666666666666,
             "#ed7953"
            ],
            [
             0.7777777777777778,
             "#fb9f3a"
            ],
            [
             0.8888888888888888,
             "#fdca26"
            ],
            [
             1,
             "#f0f921"
            ]
           ]
          },
          "colorway": [
           "#636efa",
           "#EF553B",
           "#00cc96",
           "#ab63fa",
           "#FFA15A",
           "#19d3f3",
           "#FF6692",
           "#B6E880",
           "#FF97FF",
           "#FECB52"
          ],
          "font": {
           "color": "#2a3f5f"
          },
          "geo": {
           "bgcolor": "white",
           "lakecolor": "white",
           "landcolor": "white",
           "showlakes": true,
           "showland": true,
           "subunitcolor": "#C8D4E3"
          },
          "hoverlabel": {
           "align": "left"
          },
          "hovermode": "closest",
          "mapbox": {
           "style": "light"
          },
          "paper_bgcolor": "white",
          "plot_bgcolor": "white",
          "polar": {
           "angularaxis": {
            "gridcolor": "#EBF0F8",
            "linecolor": "#EBF0F8",
            "ticks": ""
           },
           "bgcolor": "white",
           "radialaxis": {
            "gridcolor": "#EBF0F8",
            "linecolor": "#EBF0F8",
            "ticks": ""
           }
          },
          "scene": {
           "xaxis": {
            "backgroundcolor": "white",
            "gridcolor": "#DFE8F3",
            "gridwidth": 2,
            "linecolor": "#EBF0F8",
            "showbackground": true,
            "ticks": "",
            "zerolinecolor": "#EBF0F8"
           },
           "yaxis": {
            "backgroundcolor": "white",
            "gridcolor": "#DFE8F3",
            "gridwidth": 2,
            "linecolor": "#EBF0F8",
            "showbackground": true,
            "ticks": "",
            "zerolinecolor": "#EBF0F8"
           },
           "zaxis": {
            "backgroundcolor": "white",
            "gridcolor": "#DFE8F3",
            "gridwidth": 2,
            "linecolor": "#EBF0F8",
            "showbackground": true,
            "ticks": "",
            "zerolinecolor": "#EBF0F8"
           }
          },
          "shapedefaults": {
           "line": {
            "color": "#2a3f5f"
           }
          },
          "ternary": {
           "aaxis": {
            "gridcolor": "#DFE8F3",
            "linecolor": "#A2B1C6",
            "ticks": ""
           },
           "baxis": {
            "gridcolor": "#DFE8F3",
            "linecolor": "#A2B1C6",
            "ticks": ""
           },
           "bgcolor": "white",
           "caxis": {
            "gridcolor": "#DFE8F3",
            "linecolor": "#A2B1C6",
            "ticks": ""
           }
          },
          "title": {
           "x": 0.05
          },
          "xaxis": {
           "automargin": true,
           "gridcolor": "#EBF0F8",
           "linecolor": "#EBF0F8",
           "ticks": "",
           "title": {
            "standoff": 15
           },
           "zerolinecolor": "#EBF0F8",
           "zerolinewidth": 2
          },
          "yaxis": {
           "automargin": true,
           "gridcolor": "#EBF0F8",
           "linecolor": "#EBF0F8",
           "ticks": "",
           "title": {
            "standoff": 15
           },
           "zerolinecolor": "#EBF0F8",
           "zerolinewidth": 2
          }
         }
        },
        "xaxis": {
         "anchor": "y",
         "domain": [
          0,
          1
         ],
         "tickfont": {
          "size": 18
         },
         "title": {
          "font": {
           "size": 22
          },
          "text": "training_step"
         }
        },
        "yaxis": {
         "anchor": "x",
         "domain": [
          0,
          1
         ],
         "tickfont": {
          "size": 18
         },
         "title": {
          "font": {
           "size": 22
          },
          "text": "reward"
         }
        }
       }
      }
     },
     "metadata": {},
     "output_type": "display_data"
    }
   ],
   "source": [
    "baseline_training_reward = pl.read_csv(\n",
    "    \"../presentation_data/plotting/PPO_best_baseline_env=l2rpn_case14_sandbox_iterations=10000_2025-09-14_15_16_50_PPO_1.csv\"\n",
    ")\n",
    "fig = px.line(\n",
    "    baseline_training_reward,\n",
    "    x=\"Step\",\n",
    "    y=\"Value\",\n",
    "    labels={\n",
    "        \"Step\": \"training_step\",\n",
    "        \"Value\": \"reward\",\n",
    "    },\n",
    "    template=THEME,\n",
    ")\n",
    "fig.update_xaxes({\"title\": {\"font\": {\"size\": 22}}, \"tickfont\": {\"size\": 18}})\n",
    "fig.update_yaxes({\"title\": {\"font\": {\"size\": 22}}, \"tickfont\": {\"size\": 18}})\n",
    "fig.update_traces(line_color=\"#612b94\")\n"
   ]
  },
  {
   "cell_type": "markdown",
   "id": "f9149776",
   "metadata": {},
   "source": [
    "### Improved reward"
   ]
  },
  {
   "cell_type": "code",
   "execution_count": null,
   "id": "15620e1f",
   "metadata": {},
   "outputs": [
    {
     "data": {
      "application/vnd.plotly.v1+json": {
       "config": {
        "plotlyServerURL": "https://plot.ly"
       },
       "data": [
        {
         "hovertemplate": "training_step=%{x}<br>reward=%{y}<extra></extra>",
         "legendgroup": "",
         "line": {
          "color": "#612b94",
          "dash": "solid"
         },
         "marker": {
          "symbol": "circle"
         },
         "mode": "lines",
         "name": "",
         "orientation": "v",
         "showlegend": false,
         "type": "scatter",
         "x": {
          "bdata": "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",
          "dtype": "i2"
         },
         "xaxis": "x",
         "y": {
          "bdata": "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",
          "dtype": "f8"
         },
         "yaxis": "y"
        }
       ],
       "layout": {
        "legend": {
         "tracegroupgap": 0
        },
        "margin": {
         "t": 60
        },
        "template": {
         "data": {
          "bar": [
           {
            "error_x": {
             "color": "#2a3f5f"
            },
            "error_y": {
             "color": "#2a3f5f"
            },
            "marker": {
             "line": {
              "color": "white",
              "width": 0.5
             },
             "pattern": {
              "fillmode": "overlay",
              "size": 10,
              "solidity": 0.2
             }
            },
            "type": "bar"
           }
          ],
          "barpolar": [
           {
            "marker": {
             "line": {
              "color": "white",
              "width": 0.5
             },
             "pattern": {
              "fillmode": "overlay",
              "size": 10,
              "solidity": 0.2
             }
            },
            "type": "barpolar"
           }
          ],
          "carpet": [
           {
            "aaxis": {
             "endlinecolor": "#2a3f5f",
             "gridcolor": "#C8D4E3",
             "linecolor": "#C8D4E3",
             "minorgridcolor": "#C8D4E3",
             "startlinecolor": "#2a3f5f"
            },
            "baxis": {
             "endlinecolor": "#2a3f5f",
             "gridcolor": "#C8D4E3",
             "linecolor": "#C8D4E3",
             "minorgridcolor": "#C8D4E3",
             "startlinecolor": "#2a3f5f"
            },
            "type": "carpet"
           }
          ],
          "choropleth": [
           {
            "colorbar": {
             "outlinewidth": 0,
             "ticks": ""
            },
            "type": "choropleth"
           }
          ],
          "contour": [
           {
            "colorbar": {
             "outlinewidth": 0,
             "ticks": ""
            },
            "colorscale": [
             [
              0,
              "#0d0887"
             ],
             [
              0.1111111111111111,
              "#46039f"
             ],
             [
              0.2222222222222222,
              "#7201a8"
             ],
             [
              0.3333333333333333,
              "#9c179e"
             ],
             [
              0.4444444444444444,
              "#bd3786"
             ],
             [
              0.5555555555555556,
              "#d8576b"
             ],
             [
              0.6666666666666666,
              "#ed7953"
             ],
             [
              0.7777777777777778,
              "#fb9f3a"
             ],
             [
              0.8888888888888888,
              "#fdca26"
             ],
             [
              1,
              "#f0f921"
             ]
            ],
            "type": "contour"
           }
          ],
          "contourcarpet": [
           {
            "colorbar": {
             "outlinewidth": 0,
             "ticks": ""
            },
            "type": "contourcarpet"
           }
          ],
          "heatmap": [
           {
            "colorbar": {
             "outlinewidth": 0,
             "ticks": ""
            },
            "colorscale": [
             [
              0,
              "#0d0887"
             ],
             [
              0.1111111111111111,
              "#46039f"
             ],
             [
              0.2222222222222222,
              "#7201a8"
             ],
             [
              0.3333333333333333,
              "#9c179e"
             ],
             [
              0.4444444444444444,
              "#bd3786"
             ],
             [
              0.5555555555555556,
              "#d8576b"
             ],
             [
              0.6666666666666666,
              "#ed7953"
             ],
             [
              0.7777777777777778,
              "#fb9f3a"
             ],
             [
              0.8888888888888888,
              "#fdca26"
             ],
             [
              1,
              "#f0f921"
             ]
            ],
            "type": "heatmap"
           }
          ],
          "histogram": [
           {
            "marker": {
             "pattern": {
              "fillmode": "overlay",
              "size": 10,
              "solidity": 0.2
             }
            },
            "type": "histogram"
           }
          ],
          "histogram2d": [
           {
            "colorbar": {
             "outlinewidth": 0,
             "ticks": ""
            },
            "colorscale": [
             [
              0,
              "#0d0887"
             ],
             [
              0.1111111111111111,
              "#46039f"
             ],
             [
              0.2222222222222222,
              "#7201a8"
             ],
             [
              0.3333333333333333,
              "#9c179e"
             ],
             [
              0.4444444444444444,
              "#bd3786"
             ],
             [
              0.5555555555555556,
              "#d8576b"
             ],
             [
              0.6666666666666666,
              "#ed7953"
             ],
             [
              0.7777777777777778,
              "#fb9f3a"
             ],
             [
              0.8888888888888888,
              "#fdca26"
             ],
             [
              1,
              "#f0f921"
             ]
            ],
            "type": "histogram2d"
           }
          ],
          "histogram2dcontour": [
           {
            "colorbar": {
             "outlinewidth": 0,
             "ticks": ""
            },
            "colorscale": [
             [
              0,
              "#0d0887"
             ],
             [
              0.1111111111111111,
              "#46039f"
             ],
             [
              0.2222222222222222,
              "#7201a8"
             ],
             [
              0.3333333333333333,
              "#9c179e"
             ],
             [
              0.4444444444444444,
              "#bd3786"
             ],
             [
              0.5555555555555556,
              "#d8576b"
             ],
             [
              0.6666666666666666,
              "#ed7953"
             ],
             [
              0.7777777777777778,
              "#fb9f3a"
             ],
             [
              0.8888888888888888,
              "#fdca26"
             ],
             [
              1,
              "#f0f921"
             ]
            ],
            "type": "histogram2dcontour"
           }
          ],
          "mesh3d": [
           {
            "colorbar": {
             "outlinewidth": 0,
             "ticks": ""
            },
            "type": "mesh3d"
           }
          ],
          "parcoords": [
           {
            "line": {
             "colorbar": {
              "outlinewidth": 0,
              "ticks": ""
             }
            },
            "type": "parcoords"
           }
          ],
          "pie": [
           {
            "automargin": true,
            "type": "pie"
           }
          ],
          "scatter": [
           {
            "fillpattern": {
             "fillmode": "overlay",
             "size": 10,
             "solidity": 0.2
            },
            "type": "scatter"
           }
          ],
          "scatter3d": [
           {
            "line": {
             "colorbar": {
              "outlinewidth": 0,
              "ticks": ""
             }
            },
            "marker": {
             "colorbar": {
              "outlinewidth": 0,
              "ticks": ""
             }
            },
            "type": "scatter3d"
           }
          ],
          "scattercarpet": [
           {
            "marker": {
             "colorbar": {
              "outlinewidth": 0,
              "ticks": ""
             }
            },
            "type": "scattercarpet"
           }
          ],
          "scattergeo": [
           {
            "marker": {
             "colorbar": {
              "outlinewidth": 0,
              "ticks": ""
             }
            },
            "type": "scattergeo"
           }
          ],
          "scattergl": [
           {
            "marker": {
             "colorbar": {
              "outlinewidth": 0,
              "ticks": ""
             }
            },
            "type": "scattergl"
           }
          ],
          "scattermap": [
           {
            "marker": {
             "colorbar": {
              "outlinewidth": 0,
              "ticks": ""
             }
            },
            "type": "scattermap"
           }
          ],
          "scattermapbox": [
           {
            "marker": {
             "colorbar": {
              "outlinewidth": 0,
              "ticks": ""
             }
            },
            "type": "scattermapbox"
           }
          ],
          "scatterpolar": [
           {
            "marker": {
             "colorbar": {
              "outlinewidth": 0,
              "ticks": ""
             }
            },
            "type": "scatterpolar"
           }
          ],
          "scatterpolargl": [
           {
            "marker": {
             "colorbar": {
              "outlinewidth": 0,
              "ticks": ""
             }
            },
            "type": "scatterpolargl"
           }
          ],
          "scatterternary": [
           {
            "marker": {
             "colorbar": {
              "outlinewidth": 0,
              "ticks": ""
             }
            },
            "type": "scatterternary"
           }
          ],
          "surface": [
           {
            "colorbar": {
             "outlinewidth": 0,
             "ticks": ""
            },
            "colorscale": [
             [
              0,
              "#0d0887"
             ],
             [
              0.1111111111111111,
              "#46039f"
             ],
             [
              0.2222222222222222,
              "#7201a8"
             ],
             [
              0.3333333333333333,
              "#9c179e"
             ],
             [
              0.4444444444444444,
              "#bd3786"
             ],
             [
              0.5555555555555556,
              "#d8576b"
             ],
             [
              0.6666666666666666,
              "#ed7953"
             ],
             [
              0.7777777777777778,
              "#fb9f3a"
             ],
             [
              0.8888888888888888,
              "#fdca26"
             ],
             [
              1,
              "#f0f921"
             ]
            ],
            "type": "surface"
           }
          ],
          "table": [
           {
            "cells": {
             "fill": {
              "color": "#EBF0F8"
             },
             "line": {
              "color": "white"
             }
            },
            "header": {
             "fill": {
              "color": "#C8D4E3"
             },
             "line": {
              "color": "white"
             }
            },
            "type": "table"
           }
          ]
         },
         "layout": {
          "annotationdefaults": {
           "arrowcolor": "#2a3f5f",
           "arrowhead": 0,
           "arrowwidth": 1
          },
          "autotypenumbers": "strict",
          "coloraxis": {
           "colorbar": {
            "outlinewidth": 0,
            "ticks": ""
           }
          },
          "colorscale": {
           "diverging": [
            [
             0,
             "#8e0152"
            ],
            [
             0.1,
             "#c51b7d"
            ],
            [
             0.2,
             "#de77ae"
            ],
            [
             0.3,
             "#f1b6da"
            ],
            [
             0.4,
             "#fde0ef"
            ],
            [
             0.5,
             "#f7f7f7"
            ],
            [
             0.6,
             "#e6f5d0"
            ],
            [
             0.7,
             "#b8e186"
            ],
            [
             0.8,
             "#7fbc41"
            ],
            [
             0.9,
             "#4d9221"
            ],
            [
             1,
             "#276419"
            ]
           ],
           "sequential": [
            [
             0,
             "#0d0887"
            ],
            [
             0.1111111111111111,
             "#46039f"
            ],
            [
             0.2222222222222222,
             "#7201a8"
            ],
            [
             0.3333333333333333,
             "#9c179e"
            ],
            [
             0.4444444444444444,
             "#bd3786"
            ],
            [
             0.5555555555555556,
             "#d8576b"
            ],
            [
             0.6666666666666666,
             "#ed7953"
            ],
            [
             0.7777777777777778,
             "#fb9f3a"
            ],
            [
             0.8888888888888888,
             "#fdca26"
            ],
            [
             1,
             "#f0f921"
            ]
           ],
           "sequentialminus": [
            [
             0,
             "#0d0887"
            ],
            [
             0.1111111111111111,
             "#46039f"
            ],
            [
             0.2222222222222222,
             "#7201a8"
            ],
            [
             0.3333333333333333,
             "#9c179e"
            ],
            [
             0.4444444444444444,
             "#bd3786"
            ],
            [
             0.5555555555555556,
             "#d8576b"
            ],
            [
             0.6666666666666666,
             "#ed7953"
            ],
            [
             0.7777777777777778,
             "#fb9f3a"
            ],
            [
             0.8888888888888888,
             "#fdca26"
            ],
            [
             1,
             "#f0f921"
            ]
           ]
          },
          "colorway": [
           "#636efa",
           "#EF553B",
           "#00cc96",
           "#ab63fa",
           "#FFA15A",
           "#19d3f3",
           "#FF6692",
           "#B6E880",
           "#FF97FF",
           "#FECB52"
          ],
          "font": {
           "color": "#2a3f5f"
          },
          "geo": {
           "bgcolor": "white",
           "lakecolor": "white",
           "landcolor": "white",
           "showlakes": true,
           "showland": true,
           "subunitcolor": "#C8D4E3"
          },
          "hoverlabel": {
           "align": "left"
          },
          "hovermode": "closest",
          "mapbox": {
           "style": "light"
          },
          "paper_bgcolor": "white",
          "plot_bgcolor": "white",
          "polar": {
           "angularaxis": {
            "gridcolor": "#EBF0F8",
            "linecolor": "#EBF0F8",
            "ticks": ""
           },
           "bgcolor": "white",
           "radialaxis": {
            "gridcolor": "#EBF0F8",
            "linecolor": "#EBF0F8",
            "ticks": ""
           }
          },
          "scene": {
           "xaxis": {
            "backgroundcolor": "white",
            "gridcolor": "#DFE8F3",
            "gridwidth": 2,
            "linecolor": "#EBF0F8",
            "showbackground": true,
            "ticks": "",
            "zerolinecolor": "#EBF0F8"
           },
           "yaxis": {
            "backgroundcolor": "white",
            "gridcolor": "#DFE8F3",
            "gridwidth": 2,
            "linecolor": "#EBF0F8",
            "showbackground": true,
            "ticks": "",
            "zerolinecolor": "#EBF0F8"
           },
           "zaxis": {
            "backgroundcolor": "white",
            "gridcolor": "#DFE8F3",
            "gridwidth": 2,
            "linecolor": "#EBF0F8",
            "showbackground": true,
            "ticks": "",
            "zerolinecolor": "#EBF0F8"
           }
          },
          "shapedefaults": {
           "line": {
            "color": "#2a3f5f"
           }
          },
          "ternary": {
           "aaxis": {
            "gridcolor": "#DFE8F3",
            "linecolor": "#A2B1C6",
            "ticks": ""
           },
           "baxis": {
            "gridcolor": "#DFE8F3",
            "linecolor": "#A2B1C6",
            "ticks": ""
           },
           "bgcolor": "white",
           "caxis": {
            "gridcolor": "#DFE8F3",
            "linecolor": "#A2B1C6",
            "ticks": ""
           }
          },
          "title": {
           "x": 0.05
          },
          "xaxis": {
           "automargin": true,
           "gridcolor": "#EBF0F8",
           "linecolor": "#EBF0F8",
           "ticks": "",
           "title": {
            "standoff": 15
           },
           "zerolinecolor": "#EBF0F8",
           "zerolinewidth": 2
          },
          "yaxis": {
           "automargin": true,
           "gridcolor": "#EBF0F8",
           "linecolor": "#EBF0F8",
           "ticks": "",
           "title": {
            "standoff": 15
           },
           "zerolinecolor": "#EBF0F8",
           "zerolinewidth": 2
          }
         }
        },
        "xaxis": {
         "anchor": "y",
         "domain": [
          0,
          1
         ],
         "tickfont": {
          "size": 18
         },
         "title": {
          "font": {
           "size": 22
          },
          "text": "training_step"
         }
        },
        "yaxis": {
         "anchor": "x",
         "domain": [
          0,
          1
         ],
         "tickfont": {
          "size": 18
         },
         "title": {
          "font": {
           "size": 22
          },
          "text": "reward"
         }
        }
       }
      }
     },
     "metadata": {},
     "output_type": "display_data"
    }
   ],
   "source": [
    "improved_reward_training_reward = pl.read_csv(\n",
    "    \"../presentation_data/plotting/PPO_best_reward_env=l2rpn_case14_sandbox_iterations=10000_2025-09-14_17_06_53_PPO_1.csv\"\n",
    ")\n",
    "fig = px.line(\n",
    "    improved_reward_training_reward,\n",
    "    x=\"Step\",\n",
    "    y=\"Value\",\n",
    "    labels={\n",
    "        \"Step\": \"training_step\",\n",
    "        \"Value\": \"reward\",\n",
    "    },\n",
    "    template=THEME,\n",
    ")\n",
    "fig.update_xaxes({\"title\": {\"font\": {\"size\": 22}}, \"tickfont\": {\"size\": 18}})\n",
    "fig.update_yaxes({\"title\": {\"font\": {\"size\": 22}}, \"tickfont\": {\"size\": 18}})\n",
    "fig.update_traces(line_color=\"#612b94\")"
   ]
  },
  {
   "cell_type": "code",
   "execution_count": null,
   "id": "94479f50",
   "metadata": {},
   "outputs": [
    {
     "data": {
      "text/html": [
       "<div><style>\n",
       ".dataframe > thead > tr,\n",
       ".dataframe > tbody > tr {\n",
       "  text-align: right;\n",
       "  white-space: pre-wrap;\n",
       "}\n",
       "</style>\n",
       "<small>shape: (1, 13)</small><table border=\"1\" class=\"dataframe\"><thead><tr><th></th><th>number</th><th>value</th><th>datetime_start</th><th>datetime_complete</th><th>duration</th><th>params_batch_size</th><th>params_gamma</th><th>params_learning_rate</th><th>params_n_steps</th><th>params_net_arch</th><th>params_safe_max_rho</th><th>state</th></tr><tr><td>i64</td><td>i64</td><td>f64</td><td>str</td><td>str</td><td>str</td><td>i64</td><td>f64</td><td>f64</td><td>i64</td><td>i64</td><td>f64</td><td>str</td></tr></thead><tbody><tr><td>10</td><td>10</td><td>0.244196</td><td>&quot;2025-09-14 16:11:25.844427&quot;</td><td>&quot;2025-09-14 16:18:09.204066&quot;</td><td>&quot;0 days 00:06:43.359639&quot;</td><td>32</td><td>0.962539</td><td>0.000009</td><td>8</td><td>400</td><td>0.993905</td><td>&quot;COMPLETE&quot;</td></tr></tbody></table></div>"
      ],
      "text/plain": [
       "shape: (1, 13)\n",
       "┌─────┬────────┬──────────┬──────────────┬───┬──────────────┬─────────────┬─────────────┬──────────┐\n",
       "│     ┆ number ┆ value    ┆ datetime_sta ┆ … ┆ params_n_ste ┆ params_net_ ┆ params_safe ┆ state    │\n",
       "│ --- ┆ ---    ┆ ---      ┆ rt           ┆   ┆ ps           ┆ arch        ┆ _max_rho    ┆ ---      │\n",
       "│ i64 ┆ i64    ┆ f64      ┆ ---          ┆   ┆ ---          ┆ ---         ┆ ---         ┆ str      │\n",
       "│     ┆        ┆          ┆ str          ┆   ┆ i64          ┆ i64         ┆ f64         ┆          │\n",
       "╞═════╪════════╪══════════╪══════════════╪═══╪══════════════╪═════════════╪═════════════╪══════════╡\n",
       "│ 10  ┆ 10     ┆ 0.244196 ┆ 2025-09-14   ┆ … ┆ 8            ┆ 400         ┆ 0.993905    ┆ COMPLETE │\n",
       "│     ┆        ┆          ┆ 16:11:25.844 ┆   ┆              ┆             ┆             ┆          │\n",
       "│     ┆        ┆          ┆ 427          ┆   ┆              ┆             ┆             ┆          │\n",
       "└─────┴────────┴──────────┴──────────────┴───┴──────────────┴─────────────┴─────────────┴──────────┘"
      ]
     },
     "execution_count": 51,
     "metadata": {},
     "output_type": "execute_result"
    }
   ],
   "source": [
    "tuning_iterations = pl.read_csv(\n",
    "    \"../presentation_data/tuning_logs/study_PPO_reward_2025-09-14_15:24:41.csv\"\n",
    ")\n",
    "tuning_iterations.sort(\"value\", descending=True)[0]"
   ]
  },
  {
   "cell_type": "markdown",
   "id": "65f6a595",
   "metadata": {},
   "source": [
    "### Masked actions"
   ]
  },
  {
   "cell_type": "code",
   "execution_count": 53,
   "id": "0b869f98",
   "metadata": {},
   "outputs": [
    {
     "data": {
      "application/vnd.plotly.v1+json": {
       "config": {
        "plotlyServerURL": "https://plot.ly"
       },
       "data": [
        {
         "hovertemplate": "training_step=%{x}<br>reward=%{y}<extra></extra>",
         "legendgroup": "",
         "line": {
          "color": "#612b94",
          "dash": "solid"
         },
         "marker": {
          "symbol": "circle"
         },
         "mode": "lines",
         "name": "",
         "orientation": "v",
         "showlegend": false,
         "type": "scatter",
         "x": {
          "bdata": "QACAAMAAAAFAAYABwAEAAkACgALAAgADQAOAA8ADAARABIAEwAQABUAFgAXABQAGQAaABsAGAAdAB4AHwAcACEAIgAjACAAJQAmACcAJAApACoAKwAoAC0ALgAvACwAMQAyADMAMAA1ADYANwA0ADkAOgA7ADgAPQA+AD8APABBAEIAQwBAAEUARgBHAEQASQBKAEsASABNAE4ATwBMAFEAUgBTAFAAVQBWAFcAVABZAFoAWwBYAF0AXgBfAFwAYQBiAGMAYABlAGYAZwBkAGkAagBrAGgAbQBuAG8AbABxAHIAcwBwAHUAdgB3AHQAeQB6AHsAeAB9AH4AfwB8AIEAggCDAIAAhQCGAIcAhACJAIoAiwCIAI0AjgCPAIwAkQCSAJMAkACVAJYAlwCUAJkAmgCbAJgAnQCc=",
          "dtype": "i2"
         },
         "xaxis": "x",
         "y": {
          "bdata": "AAAAYEDD6z8AAABgP2XtPwAAAMBBTes/AAAAIG286j8AAABgraztPwAAAACn0ew/AAAAIHYb6j8AAACg5wHsPwAAAMDc9+s/AAAAQKGW6j8AAAAANBzrPwAAACCCRe0/AAAA4JS57T8AAADgW/DsPwAAAIAi4Ow/AAAAoPZB7T8AAADAJXzsPwAAAEAV6us/AAAAgGn97T8AAAAg7aztPwAAAOB/Q/A/AAAA4EsF8D8AAABAW9bwPwAAAMB/7vA/AAAAgNXg8D8AAACAHBvxPwAAAMDSvPA/AAAAANp/8D8AAAAAgZ3vPwAAAMAYPPA/AAAAAEcm8D8AAABgP2/wPwAAAKBpivE/AAAAoMmP8T8AAADgQdvxPwAAAKA0bvI/AAAAgOVj8z8AAAAA5D3zPwAAAIDZtvM/AAAAAKYu8z8AAADAIXXzPwAAAECSAvM/AAAAgHz28j8AAADgvPfyPwAAAAB02PI/AAAA4GYI9D8AAABgKmbzPwAAAGC70/M/AAAAYJE78z8AAAAgewTzPwAAAMDTVvM/AAAAQOc/8z8AAACgVVP0PwAAAMAtJfU/AAAA4Ca39T8AAADAhoL2PwAAAIAEH/c/AAAA4Fx69j8AAADAx2/2PwAAAIC14PU/AAAAIBsQ9j8AAAAA/M71PwAAAIAw0vQ/AAAAYJNt9T8AAADApOv0PwAAAED7v/U/AAAAYG7b9j8AAABAVC34PwAAAMDtafg/AAAAILM1+T8AAAAAqSv5PwAAAMB11Po/AAAAwInK+T8AAACg+3T4PwAAACDmYPY/AAAAYMmk9j8AAAAgmWT3PwAAACCfH/c/AAAAwHGy9j8AAAAAT8z1PwAAAOBmcPY/AAAAQPD4+D8AAACgDWD6PwAAAOBGFfs/AAAAADfA+j8AAAAgRxD7PwAAAEDPN/w/AAAAANBj/D8AAABgeAL6PwAAAMCLb/k/AAAAgOle+D8AAABgDDn4PwAAAOBGvfk/AAAAAGyP+j8AAACAxN/6PwAAAIAr9vk/AAAAIBVU+j8AAAAAcND6PwAAAKDvGvs/AAAA4LII+j8AAABAVv36PwAAAEDt3Po/AAAAgL23/D8AAABg4KP9PwAAAMACN/0/AAAAAAFa/D8AAACAKvv9PwAAAAA9Yf0/AAAA4It5/T8AAAAAiQn+PwAAAAC92/0/AAAAwNXe/j8AAAAA+Zv/PwAAAGAnLgBAAAAAYB/j/z8AAADA8iAAQAAAAKAeHwBAAAAAQIqq/z8AAADg+JD/PwAAAECQhP8/AAAA4EVZAEAAAACgSygAQAAAAACF7/8/AAAAQAItAUAAAAAgliMCQAAAAADJhQJAAAAAwFGSAkAAAABAYXYCQAAAACAkhwJAAAAAQMAsAkAAAAAgjzADQAAAAOBvMANAAAAAADGPA0AAAAAgnWECQAAAAAA4lwJAAAAAwAeeAkAAAAAAk7QCQAAAAABgkQNAAAAAYHeKA0AAAADgvDwEQAAAAGC/LANAAAAAIFSFA0AAAAAgUFEEQAAAAKChqgRAAAAAAOKABUAAAACAJXYFQAAAAIAfvAVAAAAAwEuUBkAAAAAg9BEGQAAAAKBpCQZAAAAAIBLjBUAAAABAemwGQAAAAMBfogVAAAAAINbOBUAAAABANMEFQAAAAKCwfwVAAAAAgJS0BUA=",
          "dtype": "f8"
         },
         "yaxis": "y"
        }
       ],
       "layout": {
        "legend": {
         "tracegroupgap": 0
        },
        "margin": {
         "t": 60
        },
        "template": {
         "data": {
          "bar": [
           {
            "error_x": {
             "color": "#2a3f5f"
            },
            "error_y": {
             "color": "#2a3f5f"
            },
            "marker": {
             "line": {
              "color": "white",
              "width": 0.5
             },
             "pattern": {
              "fillmode": "overlay",
              "size": 10,
              "solidity": 0.2
             }
            },
            "type": "bar"
           }
          ],
          "barpolar": [
           {
            "marker": {
             "line": {
              "color": "white",
              "width": 0.5
             },
             "pattern": {
              "fillmode": "overlay",
              "size": 10,
              "solidity": 0.2
             }
            },
            "type": "barpolar"
           }
          ],
          "carpet": [
           {
            "aaxis": {
             "endlinecolor": "#2a3f5f",
             "gridcolor": "#C8D4E3",
             "linecolor": "#C8D4E3",
             "minorgridcolor": "#C8D4E3",
             "startlinecolor": "#2a3f5f"
            },
            "baxis": {
             "endlinecolor": "#2a3f5f",
             "gridcolor": "#C8D4E3",
             "linecolor": "#C8D4E3",
             "minorgridcolor": "#C8D4E3",
             "startlinecolor": "#2a3f5f"
            },
            "type": "carpet"
           }
          ],
          "choropleth": [
           {
            "colorbar": {
             "outlinewidth": 0,
             "ticks": ""
            },
            "type": "choropleth"
           }
          ],
          "contour": [
           {
            "colorbar": {
             "outlinewidth": 0,
             "ticks": ""
            },
            "colorscale": [
             [
              0,
              "#0d0887"
             ],
             [
              0.1111111111111111,
              "#46039f"
             ],
             [
              0.2222222222222222,
              "#7201a8"
             ],
             [
              0.3333333333333333,
              "#9c179e"
             ],
             [
              0.4444444444444444,
              "#bd3786"
             ],
             [
              0.5555555555555556,
              "#d8576b"
             ],
             [
              0.6666666666666666,
              "#ed7953"
             ],
             [
              0.7777777777777778,
              "#fb9f3a"
             ],
             [
              0.8888888888888888,
              "#fdca26"
             ],
             [
              1,
              "#f0f921"
             ]
            ],
            "type": "contour"
           }
          ],
          "contourcarpet": [
           {
            "colorbar": {
             "outlinewidth": 0,
             "ticks": ""
            },
            "type": "contourcarpet"
           }
          ],
          "heatmap": [
           {
            "colorbar": {
             "outlinewidth": 0,
             "ticks": ""
            },
            "colorscale": [
             [
              0,
              "#0d0887"
             ],
             [
              0.1111111111111111,
              "#46039f"
             ],
             [
              0.2222222222222222,
              "#7201a8"
             ],
             [
              0.3333333333333333,
              "#9c179e"
             ],
             [
              0.4444444444444444,
              "#bd3786"
             ],
             [
              0.5555555555555556,
              "#d8576b"
             ],
             [
              0.6666666666666666,
              "#ed7953"
             ],
             [
              0.7777777777777778,
              "#fb9f3a"
             ],
             [
              0.8888888888888888,
              "#fdca26"
             ],
             [
              1,
              "#f0f921"
             ]
            ],
            "type": "heatmap"
           }
          ],
          "histogram": [
           {
            "marker": {
             "pattern": {
              "fillmode": "overlay",
              "size": 10,
              "solidity": 0.2
             }
            },
            "type": "histogram"
           }
          ],
          "histogram2d": [
           {
            "colorbar": {
             "outlinewidth": 0,
             "ticks": ""
            },
            "colorscale": [
             [
              0,
              "#0d0887"
             ],
             [
              0.1111111111111111,
              "#46039f"
             ],
             [
              0.2222222222222222,
              "#7201a8"
             ],
             [
              0.3333333333333333,
              "#9c179e"
             ],
             [
              0.4444444444444444,
              "#bd3786"
             ],
             [
              0.5555555555555556,
              "#d8576b"
             ],
             [
              0.6666666666666666,
              "#ed7953"
             ],
             [
              0.7777777777777778,
              "#fb9f3a"
             ],
             [
              0.8888888888888888,
              "#fdca26"
             ],
             [
              1,
              "#f0f921"
             ]
            ],
            "type": "histogram2d"
           }
          ],
          "histogram2dcontour": [
           {
            "colorbar": {
             "outlinewidth": 0,
             "ticks": ""
            },
            "colorscale": [
             [
              0,
              "#0d0887"
             ],
             [
              0.1111111111111111,
              "#46039f"
             ],
             [
              0.2222222222222222,
              "#7201a8"
             ],
             [
              0.3333333333333333,
              "#9c179e"
             ],
             [
              0.4444444444444444,
              "#bd3786"
             ],
             [
              0.5555555555555556,
              "#d8576b"
             ],
             [
              0.6666666666666666,
              "#ed7953"
             ],
             [
              0.7777777777777778,
              "#fb9f3a"
             ],
             [
              0.8888888888888888,
              "#fdca26"
             ],
             [
              1,
              "#f0f921"
             ]
            ],
            "type": "histogram2dcontour"
           }
          ],
          "mesh3d": [
           {
            "colorbar": {
             "outlinewidth": 0,
             "ticks": ""
            },
            "type": "mesh3d"
           }
          ],
          "parcoords": [
           {
            "line": {
             "colorbar": {
              "outlinewidth": 0,
              "ticks": ""
             }
            },
            "type": "parcoords"
           }
          ],
          "pie": [
           {
            "automargin": true,
            "type": "pie"
           }
          ],
          "scatter": [
           {
            "fillpattern": {
             "fillmode": "overlay",
             "size": 10,
             "solidity": 0.2
            },
            "type": "scatter"
           }
          ],
          "scatter3d": [
           {
            "line": {
             "colorbar": {
              "outlinewidth": 0,
              "ticks": ""
             }
            },
            "marker": {
             "colorbar": {
              "outlinewidth": 0,
              "ticks": ""
             }
            },
            "type": "scatter3d"
           }
          ],
          "scattercarpet": [
           {
            "marker": {
             "colorbar": {
              "outlinewidth": 0,
              "ticks": ""
             }
            },
            "type": "scattercarpet"
           }
          ],
          "scattergeo": [
           {
            "marker": {
             "colorbar": {
              "outlinewidth": 0,
              "ticks": ""
             }
            },
            "type": "scattergeo"
           }
          ],
          "scattergl": [
           {
            "marker": {
             "colorbar": {
              "outlinewidth": 0,
              "ticks": ""
             }
            },
            "type": "scattergl"
           }
          ],
          "scattermap": [
           {
            "marker": {
             "colorbar": {
              "outlinewidth": 0,
              "ticks": ""
             }
            },
            "type": "scattermap"
           }
          ],
          "scattermapbox": [
           {
            "marker": {
             "colorbar": {
              "outlinewidth": 0,
              "ticks": ""
             }
            },
            "type": "scattermapbox"
           }
          ],
          "scatterpolar": [
           {
            "marker": {
             "colorbar": {
              "outlinewidth": 0,
              "ticks": ""
             }
            },
            "type": "scatterpolar"
           }
          ],
          "scatterpolargl": [
           {
            "marker": {
             "colorbar": {
              "outlinewidth": 0,
              "ticks": ""
             }
            },
            "type": "scatterpolargl"
           }
          ],
          "scatterternary": [
           {
            "marker": {
             "colorbar": {
              "outlinewidth": 0,
              "ticks": ""
             }
            },
            "type": "scatterternary"
           }
          ],
          "surface": [
           {
            "colorbar": {
             "outlinewidth": 0,
             "ticks": ""
            },
            "colorscale": [
             [
              0,
              "#0d0887"
             ],
             [
              0.1111111111111111,
              "#46039f"
             ],
             [
              0.2222222222222222,
              "#7201a8"
             ],
             [
              0.3333333333333333,
              "#9c179e"
             ],
             [
              0.4444444444444444,
              "#bd3786"
             ],
             [
              0.5555555555555556,
              "#d8576b"
             ],
             [
              0.6666666666666666,
              "#ed7953"
             ],
             [
              0.7777777777777778,
              "#fb9f3a"
             ],
             [
              0.8888888888888888,
              "#fdca26"
             ],
             [
              1,
              "#f0f921"
             ]
            ],
            "type": "surface"
           }
          ],
          "table": [
           {
            "cells": {
             "fill": {
              "color": "#EBF0F8"
             },
             "line": {
              "color": "white"
             }
            },
            "header": {
             "fill": {
              "color": "#C8D4E3"
             },
             "line": {
              "color": "white"
             }
            },
            "type": "table"
           }
          ]
         },
         "layout": {
          "annotationdefaults": {
           "arrowcolor": "#2a3f5f",
           "arrowhead": 0,
           "arrowwidth": 1
          },
          "autotypenumbers": "strict",
          "coloraxis": {
           "colorbar": {
            "outlinewidth": 0,
            "ticks": ""
           }
          },
          "colorscale": {
           "diverging": [
            [
             0,
             "#8e0152"
            ],
            [
             0.1,
             "#c51b7d"
            ],
            [
             0.2,
             "#de77ae"
            ],
            [
             0.3,
             "#f1b6da"
            ],
            [
             0.4,
             "#fde0ef"
            ],
            [
             0.5,
             "#f7f7f7"
            ],
            [
             0.6,
             "#e6f5d0"
            ],
            [
             0.7,
             "#b8e186"
            ],
            [
             0.8,
             "#7fbc41"
            ],
            [
             0.9,
             "#4d9221"
            ],
            [
             1,
             "#276419"
            ]
           ],
           "sequential": [
            [
             0,
             "#0d0887"
            ],
            [
             0.1111111111111111,
             "#46039f"
            ],
            [
             0.2222222222222222,
             "#7201a8"
            ],
            [
             0.3333333333333333,
             "#9c179e"
            ],
            [
             0.4444444444444444,
             "#bd3786"
            ],
            [
             0.5555555555555556,
             "#d8576b"
            ],
            [
             0.6666666666666666,
             "#ed7953"
            ],
            [
             0.7777777777777778,
             "#fb9f3a"
            ],
            [
             0.8888888888888888,
             "#fdca26"
            ],
            [
             1,
             "#f0f921"
            ]
           ],
           "sequentialminus": [
            [
             0,
             "#0d0887"
            ],
            [
             0.1111111111111111,
             "#46039f"
            ],
            [
             0.2222222222222222,
             "#7201a8"
            ],
            [
             0.3333333333333333,
             "#9c179e"
            ],
            [
             0.4444444444444444,
             "#bd3786"
            ],
            [
             0.5555555555555556,
             "#d8576b"
            ],
            [
             0.6666666666666666,
             "#ed7953"
            ],
            [
             0.7777777777777778,
             "#fb9f3a"
            ],
            [
             0.8888888888888888,
             "#fdca26"
            ],
            [
             1,
             "#f0f921"
            ]
           ]
          },
          "colorway": [
           "#636efa",
           "#EF553B",
           "#00cc96",
           "#ab63fa",
           "#FFA15A",
           "#19d3f3",
           "#FF6692",
           "#B6E880",
           "#FF97FF",
           "#FECB52"
          ],
          "font": {
           "color": "#2a3f5f"
          },
          "geo": {
           "bgcolor": "white",
           "lakecolor": "white",
           "landcolor": "white",
           "showlakes": true,
           "showland": true,
           "subunitcolor": "#C8D4E3"
          },
          "hoverlabel": {
           "align": "left"
          },
          "hovermode": "closest",
          "mapbox": {
           "style": "light"
          },
          "paper_bgcolor": "white",
          "plot_bgcolor": "white",
          "polar": {
           "angularaxis": {
            "gridcolor": "#EBF0F8",
            "linecolor": "#EBF0F8",
            "ticks": ""
           },
           "bgcolor": "white",
           "radialaxis": {
            "gridcolor": "#EBF0F8",
            "linecolor": "#EBF0F8",
            "ticks": ""
           }
          },
          "scene": {
           "xaxis": {
            "backgroundcolor": "white",
            "gridcolor": "#DFE8F3",
            "gridwidth": 2,
            "linecolor": "#EBF0F8",
            "showbackground": true,
            "ticks": "",
            "zerolinecolor": "#EBF0F8"
           },
           "yaxis": {
            "backgroundcolor": "white",
            "gridcolor": "#DFE8F3",
            "gridwidth": 2,
            "linecolor": "#EBF0F8",
            "showbackground": true,
            "ticks": "",
            "zerolinecolor": "#EBF0F8"
           },
           "zaxis": {
            "backgroundcolor": "white",
            "gridcolor": "#DFE8F3",
            "gridwidth": 2,
            "linecolor": "#EBF0F8",
            "showbackground": true,
            "ticks": "",
            "zerolinecolor": "#EBF0F8"
           }
          },
          "shapedefaults": {
           "line": {
            "color": "#2a3f5f"
           }
          },
          "ternary": {
           "aaxis": {
            "gridcolor": "#DFE8F3",
            "linecolor": "#A2B1C6",
            "ticks": ""
           },
           "baxis": {
            "gridcolor": "#DFE8F3",
            "linecolor": "#A2B1C6",
            "ticks": ""
           },
           "bgcolor": "white",
           "caxis": {
            "gridcolor": "#DFE8F3",
            "linecolor": "#A2B1C6",
            "ticks": ""
           }
          },
          "title": {
           "x": 0.05
          },
          "xaxis": {
           "automargin": true,
           "gridcolor": "#EBF0F8",
           "linecolor": "#EBF0F8",
           "ticks": "",
           "title": {
            "standoff": 15
           },
           "zerolinecolor": "#EBF0F8",
           "zerolinewidth": 2
          },
          "yaxis": {
           "automargin": true,
           "gridcolor": "#EBF0F8",
           "linecolor": "#EBF0F8",
           "ticks": "",
           "title": {
            "standoff": 15
           },
           "zerolinecolor": "#EBF0F8",
           "zerolinewidth": 2
          }
         }
        },
        "xaxis": {
         "anchor": "y",
         "domain": [
          0,
          1
         ],
         "tickfont": {
          "size": 18
         },
         "title": {
          "font": {
           "size": 22
          },
          "text": "training_step"
         }
        },
        "yaxis": {
         "anchor": "x",
         "domain": [
          0,
          1
         ],
         "tickfont": {
          "size": 18
         },
         "title": {
          "font": {
           "size": 22
          },
          "text": "reward"
         }
        }
       }
      }
     },
     "metadata": {},
     "output_type": "display_data"
    }
   ],
   "source": [
    "maskable_training_reward = pl.read_csv(\n",
    "    \"../presentation_data/plotting/PPO_best_maskable_reward_env=l2rpn_case14_sandbox_iterations=10000_2025-09-14_20_37_50_PPO_1.csv\"\n",
    ")\n",
    "fig = px.line(\n",
    "    maskable_training_reward,\n",
    "    x=\"Step\",\n",
    "    y=\"Value\",\n",
    "    labels={\n",
    "        \"Step\": \"training_step\",\n",
    "        \"Value\": \"reward\",\n",
    "    },\n",
    "    template=THEME,\n",
    ")\n",
    "fig.update_xaxes({\"title\": {\"font\": {\"size\": 22}}, \"tickfont\": {\"size\": 18}})\n",
    "fig.update_yaxes({\"title\": {\"font\": {\"size\": 22}}, \"tickfont\": {\"size\": 18}})\n",
    "fig.update_traces(line_color=\"#612b94\")"
   ]
  },
  {
   "cell_type": "code",
   "execution_count": 68,
   "id": "7fd799ec",
   "metadata": {},
   "outputs": [
    {
     "data": {
      "application/vnd.plotly.v1+json": {
       "config": {
        "plotlyServerURL": "https://plot.ly"
       },
       "data": [
        {
         "hovertemplate": "model=improved reward<br>training_step=%{x}<br>reward=%{y}<extra></extra>",
         "legendgroup": "improved reward",
         "line": {
          "color": "#612b94",
          "dash": "solid"
         },
         "marker": {
          "symbol": "circle"
         },
         "mode": "lines",
         "name": "improved reward",
         "showlegend": true,
         "type": "scattergl",
         "x": {
          "bdata": "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",
          "dtype": "i2"
         },
         "xaxis": "x",
         "y": {
          "bdata": "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",
          "dtype": "f8"
         },
         "yaxis": "y"
        },
        {
         "hovertemplate": "model=maskable + improved reward<br>training_step=%{x}<br>reward=%{y}<extra></extra>",
         "legendgroup": "maskable + improved reward",
         "line": {
          "color": "#26a6a6",
          "dash": "solid"
         },
         "marker": {
          "symbol": "circle"
         },
         "mode": "lines",
         "name": "maskable + improved reward",
         "showlegend": true,
         "type": "scattergl",
         "x": {
          "bdata": "QACAAMAAAAFAAYABwAEAAkACgALAAgADQAOAA8ADAARABIAEwAQABUAFgAXABQAGQAaABsAGAAdAB4AHwAcACEAIgAjACAAJQAmACcAJAApACoAKwAoAC0ALgAvACwAMQAyADMAMAA1ADYANwA0ADkAOgA7ADgAPQA+AD8APABBAEIAQwBAAEUARgBHAEQASQBKAEsASABNAE4ATwBMAFEAUgBTAFAAVQBWAFcAVABZAFoAWwBYAF0AXgBfAFwAYQBiAGMAYABlAGYAZwBkAGkAagBrAGgAbQBuAG8AbABxAHIAcwBwAHUAdgB3AHQAeQB6AHsAeAB9AH4AfwB8AIEAggCDAIAAhQCGAIcAhACJAIoAiwCIAI0AjgCPAIwAkQCSAJMAkACVAJYAlwCUAJkAmgCbAJgAnQCc=",
          "dtype": "i2"
         },
         "xaxis": "x",
         "y": {
          "bdata": "AAAAYEDD6z8AAABgP2XtPwAAAMBBTes/AAAAIG286j8AAABgraztPwAAAACn0ew/AAAAIHYb6j8AAACg5wHsPwAAAMDc9+s/AAAAQKGW6j8AAAAANBzrPwAAACCCRe0/AAAA4JS57T8AAADgW/DsPwAAAIAi4Ow/AAAAoPZB7T8AAADAJXzsPwAAAEAV6us/AAAAgGn97T8AAAAg7aztPwAAAOB/Q/A/AAAA4EsF8D8AAABAW9bwPwAAAMB/7vA/AAAAgNXg8D8AAACAHBvxPwAAAMDSvPA/AAAAANp/8D8AAAAAgZ3vPwAAAMAYPPA/AAAAAEcm8D8AAABgP2/wPwAAAKBpivE/AAAAoMmP8T8AAADgQdvxPwAAAKA0bvI/AAAAgOVj8z8AAAAA5D3zPwAAAIDZtvM/AAAAAKYu8z8AAADAIXXzPwAAAECSAvM/AAAAgHz28j8AAADgvPfyPwAAAAB02PI/AAAA4GYI9D8AAABgKmbzPwAAAGC70/M/AAAAYJE78z8AAAAgewTzPwAAAMDTVvM/AAAAQOc/8z8AAACgVVP0PwAAAMAtJfU/AAAA4Ca39T8AAADAhoL2PwAAAIAEH/c/AAAA4Fx69j8AAADAx2/2PwAAAIC14PU/AAAAIBsQ9j8AAAAA/M71PwAAAIAw0vQ/AAAAYJNt9T8AAADApOv0PwAAAED7v/U/AAAAYG7b9j8AAABAVC34PwAAAMDtafg/AAAAILM1+T8AAAAAqSv5PwAAAMB11Po/AAAAwInK+T8AAACg+3T4PwAAACDmYPY/AAAAYMmk9j8AAAAgmWT3PwAAACCfH/c/AAAAwHGy9j8AAAAAT8z1PwAAAOBmcPY/AAAAQPD4+D8AAACgDWD6PwAAAOBGFfs/AAAAADfA+j8AAAAgRxD7PwAAAEDPN/w/AAAAANBj/D8AAABgeAL6PwAAAMCLb/k/AAAAgOle+D8AAABgDDn4PwAAAOBGvfk/AAAAAGyP+j8AAACAxN/6PwAAAIAr9vk/AAAAIBVU+j8AAAAAcND6PwAAAKDvGvs/AAAA4LII+j8AAABAVv36PwAAAEDt3Po/AAAAgL23/D8AAABg4KP9PwAAAMACN/0/AAAAAAFa/D8AAACAKvv9PwAAAAA9Yf0/AAAA4It5/T8AAAAAiQn+PwAAAAC92/0/AAAAwNXe/j8AAAAA+Zv/PwAAAGAnLgBAAAAAYB/j/z8AAADA8iAAQAAAAKAeHwBAAAAAQIqq/z8AAADg+JD/PwAAAECQhP8/AAAA4EVZAEAAAACgSygAQAAAAACF7/8/AAAAQAItAUAAAAAgliMCQAAAAADJhQJAAAAAwFGSAkAAAABAYXYCQAAAACAkhwJAAAAAQMAsAkAAAAAgjzADQAAAAOBvMANAAAAAADGPA0AAAAAgnWECQAAAAAA4lwJAAAAAwAeeAkAAAAAAk7QCQAAAAABgkQNAAAAAYHeKA0AAAADgvDwEQAAAAGC/LANAAAAAIFSFA0AAAAAgUFEEQAAAAKChqgRAAAAAAOKABUAAAACAJXYFQAAAAIAfvAVAAAAAwEuUBkAAAAAg9BEGQAAAAKBpCQZAAAAAIBLjBUAAAABAemwGQAAAAMBfogVAAAAAINbOBUAAAABANMEFQAAAAKCwfwVAAAAAgJS0BUA=",
          "dtype": "f8"
         },
         "yaxis": "y"
        }
       ],
       "layout": {
        "font": {
         "size": 18
        },
        "legend": {
         "title": {
          "font": {
           "size": 18
          },
          "text": "model"
         },
         "tracegroupgap": 0
        },
        "margin": {
         "t": 60
        },
        "template": {
         "data": {
          "bar": [
           {
            "error_x": {
             "color": "#2a3f5f"
            },
            "error_y": {
             "color": "#2a3f5f"
            },
            "marker": {
             "line": {
              "color": "white",
              "width": 0.5
             },
             "pattern": {
              "fillmode": "overlay",
              "size": 10,
              "solidity": 0.2
             }
            },
            "type": "bar"
           }
          ],
          "barpolar": [
           {
            "marker": {
             "line": {
              "color": "white",
              "width": 0.5
             },
             "pattern": {
              "fillmode": "overlay",
              "size": 10,
              "solidity": 0.2
             }
            },
            "type": "barpolar"
           }
          ],
          "carpet": [
           {
            "aaxis": {
             "endlinecolor": "#2a3f5f",
             "gridcolor": "#C8D4E3",
             "linecolor": "#C8D4E3",
             "minorgridcolor": "#C8D4E3",
             "startlinecolor": "#2a3f5f"
            },
            "baxis": {
             "endlinecolor": "#2a3f5f",
             "gridcolor": "#C8D4E3",
             "linecolor": "#C8D4E3",
             "minorgridcolor": "#C8D4E3",
             "startlinecolor": "#2a3f5f"
            },
            "type": "carpet"
           }
          ],
          "choropleth": [
           {
            "colorbar": {
             "outlinewidth": 0,
             "ticks": ""
            },
            "type": "choropleth"
           }
          ],
          "contour": [
           {
            "colorbar": {
             "outlinewidth": 0,
             "ticks": ""
            },
            "colorscale": [
             [
              0,
              "#0d0887"
             ],
             [
              0.1111111111111111,
              "#46039f"
             ],
             [
              0.2222222222222222,
              "#7201a8"
             ],
             [
              0.3333333333333333,
              "#9c179e"
             ],
             [
              0.4444444444444444,
              "#bd3786"
             ],
             [
              0.5555555555555556,
              "#d8576b"
             ],
             [
              0.6666666666666666,
              "#ed7953"
             ],
             [
              0.7777777777777778,
              "#fb9f3a"
             ],
             [
              0.8888888888888888,
              "#fdca26"
             ],
             [
              1,
              "#f0f921"
             ]
            ],
            "type": "contour"
           }
          ],
          "contourcarpet": [
           {
            "colorbar": {
             "outlinewidth": 0,
             "ticks": ""
            },
            "type": "contourcarpet"
           }
          ],
          "heatmap": [
           {
            "colorbar": {
             "outlinewidth": 0,
             "ticks": ""
            },
            "colorscale": [
             [
              0,
              "#0d0887"
             ],
             [
              0.1111111111111111,
              "#46039f"
             ],
             [
              0.2222222222222222,
              "#7201a8"
             ],
             [
              0.3333333333333333,
              "#9c179e"
             ],
             [
              0.4444444444444444,
              "#bd3786"
             ],
             [
              0.5555555555555556,
              "#d8576b"
             ],
             [
              0.6666666666666666,
              "#ed7953"
             ],
             [
              0.7777777777777778,
              "#fb9f3a"
             ],
             [
              0.8888888888888888,
              "#fdca26"
             ],
             [
              1,
              "#f0f921"
             ]
            ],
            "type": "heatmap"
           }
          ],
          "histogram": [
           {
            "marker": {
             "pattern": {
              "fillmode": "overlay",
              "size": 10,
              "solidity": 0.2
             }
            },
            "type": "histogram"
           }
          ],
          "histogram2d": [
           {
            "colorbar": {
             "outlinewidth": 0,
             "ticks": ""
            },
            "colorscale": [
             [
              0,
              "#0d0887"
             ],
             [
              0.1111111111111111,
              "#46039f"
             ],
             [
              0.2222222222222222,
              "#7201a8"
             ],
             [
              0.3333333333333333,
              "#9c179e"
             ],
             [
              0.4444444444444444,
              "#bd3786"
             ],
             [
              0.5555555555555556,
              "#d8576b"
             ],
             [
              0.6666666666666666,
              "#ed7953"
             ],
             [
              0.7777777777777778,
              "#fb9f3a"
             ],
             [
              0.8888888888888888,
              "#fdca26"
             ],
             [
              1,
              "#f0f921"
             ]
            ],
            "type": "histogram2d"
           }
          ],
          "histogram2dcontour": [
           {
            "colorbar": {
             "outlinewidth": 0,
             "ticks": ""
            },
            "colorscale": [
             [
              0,
              "#0d0887"
             ],
             [
              0.1111111111111111,
              "#46039f"
             ],
             [
              0.2222222222222222,
              "#7201a8"
             ],
             [
              0.3333333333333333,
              "#9c179e"
             ],
             [
              0.4444444444444444,
              "#bd3786"
             ],
             [
              0.5555555555555556,
              "#d8576b"
             ],
             [
              0.6666666666666666,
              "#ed7953"
             ],
             [
              0.7777777777777778,
              "#fb9f3a"
             ],
             [
              0.8888888888888888,
              "#fdca26"
             ],
             [
              1,
              "#f0f921"
             ]
            ],
            "type": "histogram2dcontour"
           }
          ],
          "mesh3d": [
           {
            "colorbar": {
             "outlinewidth": 0,
             "ticks": ""
            },
            "type": "mesh3d"
           }
          ],
          "parcoords": [
           {
            "line": {
             "colorbar": {
              "outlinewidth": 0,
              "ticks": ""
             }
            },
            "type": "parcoords"
           }
          ],
          "pie": [
           {
            "automargin": true,
            "type": "pie"
           }
          ],
          "scatter": [
           {
            "fillpattern": {
             "fillmode": "overlay",
             "size": 10,
             "solidity": 0.2
            },
            "type": "scatter"
           }
          ],
          "scatter3d": [
           {
            "line": {
             "colorbar": {
              "outlinewidth": 0,
              "ticks": ""
             }
            },
            "marker": {
             "colorbar": {
              "outlinewidth": 0,
              "ticks": ""
             }
            },
            "type": "scatter3d"
           }
          ],
          "scattercarpet": [
           {
            "marker": {
             "colorbar": {
              "outlinewidth": 0,
              "ticks": ""
             }
            },
            "type": "scattercarpet"
           }
          ],
          "scattergeo": [
           {
            "marker": {
             "colorbar": {
              "outlinewidth": 0,
              "ticks": ""
             }
            },
            "type": "scattergeo"
           }
          ],
          "scattergl": [
           {
            "marker": {
             "colorbar": {
              "outlinewidth": 0,
              "ticks": ""
             }
            },
            "type": "scattergl"
           }
          ],
          "scattermap": [
           {
            "marker": {
             "colorbar": {
              "outlinewidth": 0,
              "ticks": ""
             }
            },
            "type": "scattermap"
           }
          ],
          "scattermapbox": [
           {
            "marker": {
             "colorbar": {
              "outlinewidth": 0,
              "ticks": ""
             }
            },
            "type": "scattermapbox"
           }
          ],
          "scatterpolar": [
           {
            "marker": {
             "colorbar": {
              "outlinewidth": 0,
              "ticks": ""
             }
            },
            "type": "scatterpolar"
           }
          ],
          "scatterpolargl": [
           {
            "marker": {
             "colorbar": {
              "outlinewidth": 0,
              "ticks": ""
             }
            },
            "type": "scatterpolargl"
           }
          ],
          "scatterternary": [
           {
            "marker": {
             "colorbar": {
              "outlinewidth": 0,
              "ticks": ""
             }
            },
            "type": "scatterternary"
           }
          ],
          "surface": [
           {
            "colorbar": {
             "outlinewidth": 0,
             "ticks": ""
            },
            "colorscale": [
             [
              0,
              "#0d0887"
             ],
             [
              0.1111111111111111,
              "#46039f"
             ],
             [
              0.2222222222222222,
              "#7201a8"
             ],
             [
              0.3333333333333333,
              "#9c179e"
             ],
             [
              0.4444444444444444,
              "#bd3786"
             ],
             [
              0.5555555555555556,
              "#d8576b"
             ],
             [
              0.6666666666666666,
              "#ed7953"
             ],
             [
              0.7777777777777778,
              "#fb9f3a"
             ],
             [
              0.8888888888888888,
              "#fdca26"
             ],
             [
              1,
              "#f0f921"
             ]
            ],
            "type": "surface"
           }
          ],
          "table": [
           {
            "cells": {
             "fill": {
              "color": "#EBF0F8"
             },
             "line": {
              "color": "white"
             }
            },
            "header": {
             "fill": {
              "color": "#C8D4E3"
             },
             "line": {
              "color": "white"
             }
            },
            "type": "table"
           }
          ]
         },
         "layout": {
          "annotationdefaults": {
           "arrowcolor": "#2a3f5f",
           "arrowhead": 0,
           "arrowwidth": 1
          },
          "autotypenumbers": "strict",
          "coloraxis": {
           "colorbar": {
            "outlinewidth": 0,
            "ticks": ""
           }
          },
          "colorscale": {
           "diverging": [
            [
             0,
             "#8e0152"
            ],
            [
             0.1,
             "#c51b7d"
            ],
            [
             0.2,
             "#de77ae"
            ],
            [
             0.3,
             "#f1b6da"
            ],
            [
             0.4,
             "#fde0ef"
            ],
            [
             0.5,
             "#f7f7f7"
            ],
            [
             0.6,
             "#e6f5d0"
            ],
            [
             0.7,
             "#b8e186"
            ],
            [
             0.8,
             "#7fbc41"
            ],
            [
             0.9,
             "#4d9221"
            ],
            [
             1,
             "#276419"
            ]
           ],
           "sequential": [
            [
             0,
             "#0d0887"
            ],
            [
             0.1111111111111111,
             "#46039f"
            ],
            [
             0.2222222222222222,
             "#7201a8"
            ],
            [
             0.3333333333333333,
             "#9c179e"
            ],
            [
             0.4444444444444444,
             "#bd3786"
            ],
            [
             0.5555555555555556,
             "#d8576b"
            ],
            [
             0.6666666666666666,
             "#ed7953"
            ],
            [
             0.7777777777777778,
             "#fb9f3a"
            ],
            [
             0.8888888888888888,
             "#fdca26"
            ],
            [
             1,
             "#f0f921"
            ]
           ],
           "sequentialminus": [
            [
             0,
             "#0d0887"
            ],
            [
             0.1111111111111111,
             "#46039f"
            ],
            [
             0.2222222222222222,
             "#7201a8"
            ],
            [
             0.3333333333333333,
             "#9c179e"
            ],
            [
             0.4444444444444444,
             "#bd3786"
            ],
            [
             0.5555555555555556,
             "#d8576b"
            ],
            [
             0.6666666666666666,
             "#ed7953"
            ],
            [
             0.7777777777777778,
             "#fb9f3a"
            ],
            [
             0.8888888888888888,
             "#fdca26"
            ],
            [
             1,
             "#f0f921"
            ]
           ]
          },
          "colorway": [
           "#636efa",
           "#EF553B",
           "#00cc96",
           "#ab63fa",
           "#FFA15A",
           "#19d3f3",
           "#FF6692",
           "#B6E880",
           "#FF97FF",
           "#FECB52"
          ],
          "font": {
           "color": "#2a3f5f"
          },
          "geo": {
           "bgcolor": "white",
           "lakecolor": "white",
           "landcolor": "white",
           "showlakes": true,
           "showland": true,
           "subunitcolor": "#C8D4E3"
          },
          "hoverlabel": {
           "align": "left"
          },
          "hovermode": "closest",
          "mapbox": {
           "style": "light"
          },
          "paper_bgcolor": "white",
          "plot_bgcolor": "white",
          "polar": {
           "angularaxis": {
            "gridcolor": "#EBF0F8",
            "linecolor": "#EBF0F8",
            "ticks": ""
           },
           "bgcolor": "white",
           "radialaxis": {
            "gridcolor": "#EBF0F8",
            "linecolor": "#EBF0F8",
            "ticks": ""
           }
          },
          "scene": {
           "xaxis": {
            "backgroundcolor": "white",
            "gridcolor": "#DFE8F3",
            "gridwidth": 2,
            "linecolor": "#EBF0F8",
            "showbackground": true,
            "ticks": "",
            "zerolinecolor": "#EBF0F8"
           },
           "yaxis": {
            "backgroundcolor": "white",
            "gridcolor": "#DFE8F3",
            "gridwidth": 2,
            "linecolor": "#EBF0F8",
            "showbackground": true,
            "ticks": "",
            "zerolinecolor": "#EBF0F8"
           },
           "zaxis": {
            "backgroundcolor": "white",
            "gridcolor": "#DFE8F3",
            "gridwidth": 2,
            "linecolor": "#EBF0F8",
            "showbackground": true,
            "ticks": "",
            "zerolinecolor": "#EBF0F8"
           }
          },
          "shapedefaults": {
           "line": {
            "color": "#2a3f5f"
           }
          },
          "ternary": {
           "aaxis": {
            "gridcolor": "#DFE8F3",
            "linecolor": "#A2B1C6",
            "ticks": ""
           },
           "baxis": {
            "gridcolor": "#DFE8F3",
            "linecolor": "#A2B1C6",
            "ticks": ""
           },
           "bgcolor": "white",
           "caxis": {
            "gridcolor": "#DFE8F3",
            "linecolor": "#A2B1C6",
            "ticks": ""
           }
          },
          "title": {
           "x": 0.05
          },
          "xaxis": {
           "automargin": true,
           "gridcolor": "#EBF0F8",
           "linecolor": "#EBF0F8",
           "ticks": "",
           "title": {
            "standoff": 15
           },
           "zerolinecolor": "#EBF0F8",
           "zerolinewidth": 2
          },
          "yaxis": {
           "automargin": true,
           "gridcolor": "#EBF0F8",
           "linecolor": "#EBF0F8",
           "ticks": "",
           "title": {
            "standoff": 15
           },
           "zerolinecolor": "#EBF0F8",
           "zerolinewidth": 2
          }
         }
        },
        "xaxis": {
         "anchor": "y",
         "domain": [
          0,
          1
         ],
         "tickfont": {
          "size": 18
         },
         "title": {
          "font": {
           "size": 22
          },
          "text": "training_step"
         }
        },
        "yaxis": {
         "anchor": "x",
         "domain": [
          0,
          1
         ],
         "tickfont": {
          "size": 18
         },
         "title": {
          "font": {
           "size": 22
          },
          "text": "reward"
         }
        }
       }
      }
     },
     "metadata": {},
     "output_type": "display_data"
    }
   ],
   "source": [
    "comparison_maskable = pl.concat(\n",
    "    [\n",
    "        improved_reward_training_reward.with_columns(model=pl.lit(\"improved reward\")),\n",
    "        maskable_training_reward.with_columns(\n",
    "            model=pl.lit(\"maskable + improved reward\")\n",
    "        ),\n",
    "    ]\n",
    ")\n",
    "\n",
    "fig = px.line(\n",
    "    comparison_maskable,\n",
    "    x=\"Step\",\n",
    "    y=\"Value\",\n",
    "    color=\"model\",\n",
    "    template=THEME,\n",
    "    labels={\n",
    "        \"Step\": \"training_step\",\n",
    "        \"Value\": \"reward\",\n",
    "    },\n",
    ")\n",
    "\n",
    "fig.update_xaxes({\"title\": {\"font\": {\"size\": 22}}, \"tickfont\": {\"size\": 18}})\n",
    "fig.update_yaxes({\"title\": {\"font\": {\"size\": 22}}, \"tickfont\": {\"size\": 18}})\n",
    "fig.update_layout(legend_title_font_size=18, font_size=18)\n",
    "\n",
    "fig.for_each_trace(\n",
    "    lambda trace: trace.update(\n",
    "        line_color=\"#26a6a6\"\n",
    "        if trace.name == \"maskable + improved reward\"\n",
    "        else \"#612b94\"\n",
    "    ),\n",
    ")\n"
   ]
  },
  {
   "cell_type": "code",
   "execution_count": 69,
   "id": "44f4d5d2",
   "metadata": {},
   "outputs": [
    {
     "data": {
      "application/vnd.plotly.v1+json": {
       "config": {
        "plotlyServerURL": "https://plot.ly"
       },
       "data": [
        {
         "hovertemplate": "model=improved reward<br>training_step=%{x}<br>reward=%{y}<extra></extra>",
         "legendgroup": "improved reward",
         "line": {
          "color": "#612b94",
          "dash": "solid"
         },
         "marker": {
          "symbol": "circle"
         },
         "mode": "lines",
         "name": "improved reward",
         "showlegend": true,
         "type": "scattergl",
         "x": {
          "bdata": "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",
          "dtype": "i2"
         },
         "xaxis": "x",
         "y": {
          "bdata": "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",
          "dtype": "f8"
         },
         "yaxis": "y"
        },
        {
         "hovertemplate": "model=maskable + improved reward<br>training_step=%{x}<br>reward=%{y}<extra></extra>",
         "legendgroup": "maskable + improved reward",
         "line": {
          "color": "#26a6a6",
          "dash": "solid"
         },
         "marker": {
          "symbol": "circle"
         },
         "mode": "lines",
         "name": "maskable + improved reward",
         "showlegend": true,
         "type": "scattergl",
         "x": {
          "bdata": "QACAAMAAAAFAAYABwAEAAkACgALAAgADQAOAA8ADAARABIAEwAQABUAFgAXABQAGQAaABsAGAAdAB4AHwAcACEAIgAjACAAJQAmACcAJAApACoAKwAoAC0ALgAvACwAMQAyADMAMAA1ADYANwA0ADkAOgA7ADgAPQA+AD8APABBAEIAQwBAAEUARgBHAEQASQBKAEsASABNAE4ATwBMAFEAUgBTAFAAVQBWAFcAVABZAFoAWwBYAF0AXgBfAFwAYQBiAGMAYABlAGYAZwBkAGkAagBrAGgAbQBuAG8AbABxAHIAcwBwAHUAdgB3AHQAeQB6AHsAeAB9AH4AfwB8AIEAggCDAIAAhQCGAIcAhACJAIoAiwCIAI0AjgCPAIwAkQCSAJMAkACVAJYAlwCUAJkAmgCbAJgAnQCc=",
          "dtype": "i2"
         },
         "xaxis": "x",
         "y": {
          "bdata": "AAAAYEDD6z8AAABgP2XtPwAAAMBBTes/AAAAIG286j8AAABgraztPwAAAACn0ew/AAAAIHYb6j8AAACg5wHsPwAAAMDc9+s/AAAAQKGW6j8AAAAANBzrPwAAACCCRe0/AAAA4JS57T8AAADgW/DsPwAAAIAi4Ow/AAAAoPZB7T8AAADAJXzsPwAAAEAV6us/AAAAgGn97T8AAAAg7aztPwAAAOB/Q/A/AAAA4EsF8D8AAABAW9bwPwAAAMB/7vA/AAAAgNXg8D8AAACAHBvxPwAAAMDSvPA/AAAAANp/8D8AAAAAgZ3vPwAAAMAYPPA/AAAAAEcm8D8AAABgP2/wPwAAAKBpivE/AAAAoMmP8T8AAADgQdvxPwAAAKA0bvI/AAAAgOVj8z8AAAAA5D3zPwAAAIDZtvM/AAAAAKYu8z8AAADAIXXzPwAAAECSAvM/AAAAgHz28j8AAADgvPfyPwAAAAB02PI/AAAA4GYI9D8AAABgKmbzPwAAAGC70/M/AAAAYJE78z8AAAAgewTzPwAAAMDTVvM/AAAAQOc/8z8AAACgVVP0PwAAAMAtJfU/AAAA4Ca39T8AAADAhoL2PwAAAIAEH/c/AAAA4Fx69j8AAADAx2/2PwAAAIC14PU/AAAAIBsQ9j8AAAAA/M71PwAAAIAw0vQ/AAAAYJNt9T8AAADApOv0PwAAAED7v/U/AAAAYG7b9j8AAABAVC34PwAAAMDtafg/AAAAILM1+T8AAAAAqSv5PwAAAMB11Po/AAAAwInK+T8AAACg+3T4PwAAACDmYPY/AAAAYMmk9j8AAAAgmWT3PwAAACCfH/c/AAAAwHGy9j8AAAAAT8z1PwAAAOBmcPY/AAAAQPD4+D8AAACgDWD6PwAAAOBGFfs/AAAAADfA+j8AAAAgRxD7PwAAAEDPN/w/AAAAANBj/D8AAABgeAL6PwAAAMCLb/k/AAAAgOle+D8AAABgDDn4PwAAAOBGvfk/AAAAAGyP+j8AAACAxN/6PwAAAIAr9vk/AAAAIBVU+j8AAAAAcND6PwAAAKDvGvs/AAAA4LII+j8AAABAVv36PwAAAEDt3Po/AAAAgL23/D8AAABg4KP9PwAAAMACN/0/AAAAAAFa/D8AAACAKvv9PwAAAAA9Yf0/AAAA4It5/T8AAAAAiQn+PwAAAAC92/0/AAAAwNXe/j8AAAAA+Zv/PwAAAGAnLgBAAAAAYB/j/z8AAADA8iAAQAAAAKAeHwBAAAAAQIqq/z8AAADg+JD/PwAAAECQhP8/AAAA4EVZAEAAAACgSygAQAAAAACF7/8/AAAAQAItAUAAAAAgliMCQAAAAADJhQJAAAAAwFGSAkAAAABAYXYCQAAAACAkhwJAAAAAQMAsAkAAAAAgjzADQAAAAOBvMANAAAAAADGPA0AAAAAgnWECQAAAAAA4lwJAAAAAwAeeAkAAAAAAk7QCQAAAAABgkQNAAAAAYHeKA0AAAADgvDwEQAAAAGC/LANAAAAAIFSFA0AAAAAgUFEEQAAAAKChqgRAAAAAAOKABUAAAACAJXYFQAAAAIAfvAVAAAAAwEuUBkAAAAAg9BEGQAAAAKBpCQZAAAAAIBLjBUAAAABAemwGQAAAAMBfogVAAAAAINbOBUAAAABANMEFQAAAAKCwfwVAAAAAgJS0BUA=",
          "dtype": "f8"
         },
         "yaxis": "y"
        }
       ],
       "layout": {
        "font": {
         "size": 18
        },
        "legend": {
         "title": {
          "font": {
           "size": 18
          },
          "text": "model"
         },
         "tracegroupgap": 0
        },
        "margin": {
         "t": 60
        },
        "showlegend": false,
        "template": {
         "data": {
          "bar": [
           {
            "error_x": {
             "color": "#2a3f5f"
            },
            "error_y": {
             "color": "#2a3f5f"
            },
            "marker": {
             "line": {
              "color": "white",
              "width": 0.5
             },
             "pattern": {
              "fillmode": "overlay",
              "size": 10,
              "solidity": 0.2
             }
            },
            "type": "bar"
           }
          ],
          "barpolar": [
           {
            "marker": {
             "line": {
              "color": "white",
              "width": 0.5
             },
             "pattern": {
              "fillmode": "overlay",
              "size": 10,
              "solidity": 0.2
             }
            },
            "type": "barpolar"
           }
          ],
          "carpet": [
           {
            "aaxis": {
             "endlinecolor": "#2a3f5f",
             "gridcolor": "#C8D4E3",
             "linecolor": "#C8D4E3",
             "minorgridcolor": "#C8D4E3",
             "startlinecolor": "#2a3f5f"
            },
            "baxis": {
             "endlinecolor": "#2a3f5f",
             "gridcolor": "#C8D4E3",
             "linecolor": "#C8D4E3",
             "minorgridcolor": "#C8D4E3",
             "startlinecolor": "#2a3f5f"
            },
            "type": "carpet"
           }
          ],
          "choropleth": [
           {
            "colorbar": {
             "outlinewidth": 0,
             "ticks": ""
            },
            "type": "choropleth"
           }
          ],
          "contour": [
           {
            "colorbar": {
             "outlinewidth": 0,
             "ticks": ""
            },
            "colorscale": [
             [
              0,
              "#0d0887"
             ],
             [
              0.1111111111111111,
              "#46039f"
             ],
             [
              0.2222222222222222,
              "#7201a8"
             ],
             [
              0.3333333333333333,
              "#9c179e"
             ],
             [
              0.4444444444444444,
              "#bd3786"
             ],
             [
              0.5555555555555556,
              "#d8576b"
             ],
             [
              0.6666666666666666,
              "#ed7953"
             ],
             [
              0.7777777777777778,
              "#fb9f3a"
             ],
             [
              0.8888888888888888,
              "#fdca26"
             ],
             [
              1,
              "#f0f921"
             ]
            ],
            "type": "contour"
           }
          ],
          "contourcarpet": [
           {
            "colorbar": {
             "outlinewidth": 0,
             "ticks": ""
            },
            "type": "contourcarpet"
           }
          ],
          "heatmap": [
           {
            "colorbar": {
             "outlinewidth": 0,
             "ticks": ""
            },
            "colorscale": [
             [
              0,
              "#0d0887"
             ],
             [
              0.1111111111111111,
              "#46039f"
             ],
             [
              0.2222222222222222,
              "#7201a8"
             ],
             [
              0.3333333333333333,
              "#9c179e"
             ],
             [
              0.4444444444444444,
              "#bd3786"
             ],
             [
              0.5555555555555556,
              "#d8576b"
             ],
             [
              0.6666666666666666,
              "#ed7953"
             ],
             [
              0.7777777777777778,
              "#fb9f3a"
             ],
             [
              0.8888888888888888,
              "#fdca26"
             ],
             [
              1,
              "#f0f921"
             ]
            ],
            "type": "heatmap"
           }
          ],
          "histogram": [
           {
            "marker": {
             "pattern": {
              "fillmode": "overlay",
              "size": 10,
              "solidity": 0.2
             }
            },
            "type": "histogram"
           }
          ],
          "histogram2d": [
           {
            "colorbar": {
             "outlinewidth": 0,
             "ticks": ""
            },
            "colorscale": [
             [
              0,
              "#0d0887"
             ],
             [
              0.1111111111111111,
              "#46039f"
             ],
             [
              0.2222222222222222,
              "#7201a8"
             ],
             [
              0.3333333333333333,
              "#9c179e"
             ],
             [
              0.4444444444444444,
              "#bd3786"
             ],
             [
              0.5555555555555556,
              "#d8576b"
             ],
             [
              0.6666666666666666,
              "#ed7953"
             ],
             [
              0.7777777777777778,
              "#fb9f3a"
             ],
             [
              0.8888888888888888,
              "#fdca26"
             ],
             [
              1,
              "#f0f921"
             ]
            ],
            "type": "histogram2d"
           }
          ],
          "histogram2dcontour": [
           {
            "colorbar": {
             "outlinewidth": 0,
             "ticks": ""
            },
            "colorscale": [
             [
              0,
              "#0d0887"
             ],
             [
              0.1111111111111111,
              "#46039f"
             ],
             [
              0.2222222222222222,
              "#7201a8"
             ],
             [
              0.3333333333333333,
              "#9c179e"
             ],
             [
              0.4444444444444444,
              "#bd3786"
             ],
             [
              0.5555555555555556,
              "#d8576b"
             ],
             [
              0.6666666666666666,
              "#ed7953"
             ],
             [
              0.7777777777777778,
              "#fb9f3a"
             ],
             [
              0.8888888888888888,
              "#fdca26"
             ],
             [
              1,
              "#f0f921"
             ]
            ],
            "type": "histogram2dcontour"
           }
          ],
          "mesh3d": [
           {
            "colorbar": {
             "outlinewidth": 0,
             "ticks": ""
            },
            "type": "mesh3d"
           }
          ],
          "parcoords": [
           {
            "line": {
             "colorbar": {
              "outlinewidth": 0,
              "ticks": ""
             }
            },
            "type": "parcoords"
           }
          ],
          "pie": [
           {
            "automargin": true,
            "type": "pie"
           }
          ],
          "scatter": [
           {
            "fillpattern": {
             "fillmode": "overlay",
             "size": 10,
             "solidity": 0.2
            },
            "type": "scatter"
           }
          ],
          "scatter3d": [
           {
            "line": {
             "colorbar": {
              "outlinewidth": 0,
              "ticks": ""
             }
            },
            "marker": {
             "colorbar": {
              "outlinewidth": 0,
              "ticks": ""
             }
            },
            "type": "scatter3d"
           }
          ],
          "scattercarpet": [
           {
            "marker": {
             "colorbar": {
              "outlinewidth": 0,
              "ticks": ""
             }
            },
            "type": "scattercarpet"
           }
          ],
          "scattergeo": [
           {
            "marker": {
             "colorbar": {
              "outlinewidth": 0,
              "ticks": ""
             }
            },
            "type": "scattergeo"
           }
          ],
          "scattergl": [
           {
            "marker": {
             "colorbar": {
              "outlinewidth": 0,
              "ticks": ""
             }
            },
            "type": "scattergl"
           }
          ],
          "scattermap": [
           {
            "marker": {
             "colorbar": {
              "outlinewidth": 0,
              "ticks": ""
             }
            },
            "type": "scattermap"
           }
          ],
          "scattermapbox": [
           {
            "marker": {
             "colorbar": {
              "outlinewidth": 0,
              "ticks": ""
             }
            },
            "type": "scattermapbox"
           }
          ],
          "scatterpolar": [
           {
            "marker": {
             "colorbar": {
              "outlinewidth": 0,
              "ticks": ""
             }
            },
            "type": "scatterpolar"
           }
          ],
          "scatterpolargl": [
           {
            "marker": {
             "colorbar": {
              "outlinewidth": 0,
              "ticks": ""
             }
            },
            "type": "scatterpolargl"
           }
          ],
          "scatterternary": [
           {
            "marker": {
             "colorbar": {
              "outlinewidth": 0,
              "ticks": ""
             }
            },
            "type": "scatterternary"
           }
          ],
          "surface": [
           {
            "colorbar": {
             "outlinewidth": 0,
             "ticks": ""
            },
            "colorscale": [
             [
              0,
              "#0d0887"
             ],
             [
              0.1111111111111111,
              "#46039f"
             ],
             [
              0.2222222222222222,
              "#7201a8"
             ],
             [
              0.3333333333333333,
              "#9c179e"
             ],
             [
              0.4444444444444444,
              "#bd3786"
             ],
             [
              0.5555555555555556,
              "#d8576b"
             ],
             [
              0.6666666666666666,
              "#ed7953"
             ],
             [
              0.7777777777777778,
              "#fb9f3a"
             ],
             [
              0.8888888888888888,
              "#fdca26"
             ],
             [
              1,
              "#f0f921"
             ]
            ],
            "type": "surface"
           }
          ],
          "table": [
           {
            "cells": {
             "fill": {
              "color": "#EBF0F8"
             },
             "line": {
              "color": "white"
             }
            },
            "header": {
             "fill": {
              "color": "#C8D4E3"
             },
             "line": {
              "color": "white"
             }
            },
            "type": "table"
           }
          ]
         },
         "layout": {
          "annotationdefaults": {
           "arrowcolor": "#2a3f5f",
           "arrowhead": 0,
           "arrowwidth": 1
          },
          "autotypenumbers": "strict",
          "coloraxis": {
           "colorbar": {
            "outlinewidth": 0,
            "ticks": ""
           }
          },
          "colorscale": {
           "diverging": [
            [
             0,
             "#8e0152"
            ],
            [
             0.1,
             "#c51b7d"
            ],
            [
             0.2,
             "#de77ae"
            ],
            [
             0.3,
             "#f1b6da"
            ],
            [
             0.4,
             "#fde0ef"
            ],
            [
             0.5,
             "#f7f7f7"
            ],
            [
             0.6,
             "#e6f5d0"
            ],
            [
             0.7,
             "#b8e186"
            ],
            [
             0.8,
             "#7fbc41"
            ],
            [
             0.9,
             "#4d9221"
            ],
            [
             1,
             "#276419"
            ]
           ],
           "sequential": [
            [
             0,
             "#0d0887"
            ],
            [
             0.1111111111111111,
             "#46039f"
            ],
            [
             0.2222222222222222,
             "#7201a8"
            ],
            [
             0.3333333333333333,
             "#9c179e"
            ],
            [
             0.4444444444444444,
             "#bd3786"
            ],
            [
             0.5555555555555556,
             "#d8576b"
            ],
            [
             0.6666666666666666,
             "#ed7953"
            ],
            [
             0.7777777777777778,
             "#fb9f3a"
            ],
            [
             0.8888888888888888,
             "#fdca26"
            ],
            [
             1,
             "#f0f921"
            ]
           ],
           "sequentialminus": [
            [
             0,
             "#0d0887"
            ],
            [
             0.1111111111111111,
             "#46039f"
            ],
            [
             0.2222222222222222,
             "#7201a8"
            ],
            [
             0.3333333333333333,
             "#9c179e"
            ],
            [
             0.4444444444444444,
             "#bd3786"
            ],
            [
             0.5555555555555556,
             "#d8576b"
            ],
            [
             0.6666666666666666,
             "#ed7953"
            ],
            [
             0.7777777777777778,
             "#fb9f3a"
            ],
            [
             0.8888888888888888,
             "#fdca26"
            ],
            [
             1,
             "#f0f921"
            ]
           ]
          },
          "colorway": [
           "#636efa",
           "#EF553B",
           "#00cc96",
           "#ab63fa",
           "#FFA15A",
           "#19d3f3",
           "#FF6692",
           "#B6E880",
           "#FF97FF",
           "#FECB52"
          ],
          "font": {
           "color": "#2a3f5f"
          },
          "geo": {
           "bgcolor": "white",
           "lakecolor": "white",
           "landcolor": "white",
           "showlakes": true,
           "showland": true,
           "subunitcolor": "#C8D4E3"
          },
          "hoverlabel": {
           "align": "left"
          },
          "hovermode": "closest",
          "mapbox": {
           "style": "light"
          },
          "paper_bgcolor": "white",
          "plot_bgcolor": "white",
          "polar": {
           "angularaxis": {
            "gridcolor": "#EBF0F8",
            "linecolor": "#EBF0F8",
            "ticks": ""
           },
           "bgcolor": "white",
           "radialaxis": {
            "gridcolor": "#EBF0F8",
            "linecolor": "#EBF0F8",
            "ticks": ""
           }
          },
          "scene": {
           "xaxis": {
            "backgroundcolor": "white",
            "gridcolor": "#DFE8F3",
            "gridwidth": 2,
            "linecolor": "#EBF0F8",
            "showbackground": true,
            "ticks": "",
            "zerolinecolor": "#EBF0F8"
           },
           "yaxis": {
            "backgroundcolor": "white",
            "gridcolor": "#DFE8F3",
            "gridwidth": 2,
            "linecolor": "#EBF0F8",
            "showbackground": true,
            "ticks": "",
            "zerolinecolor": "#EBF0F8"
           },
           "zaxis": {
            "backgroundcolor": "white",
            "gridcolor": "#DFE8F3",
            "gridwidth": 2,
            "linecolor": "#EBF0F8",
            "showbackground": true,
            "ticks": "",
            "zerolinecolor": "#EBF0F8"
           }
          },
          "shapedefaults": {
           "line": {
            "color": "#2a3f5f"
           }
          },
          "ternary": {
           "aaxis": {
            "gridcolor": "#DFE8F3",
            "linecolor": "#A2B1C6",
            "ticks": ""
           },
           "baxis": {
            "gridcolor": "#DFE8F3",
            "linecolor": "#A2B1C6",
            "ticks": ""
           },
           "bgcolor": "white",
           "caxis": {
            "gridcolor": "#DFE8F3",
            "linecolor": "#A2B1C6",
            "ticks": ""
           }
          },
          "title": {
           "x": 0.05
          },
          "xaxis": {
           "automargin": true,
           "gridcolor": "#EBF0F8",
           "linecolor": "#EBF0F8",
           "ticks": "",
           "title": {
            "standoff": 15
           },
           "zerolinecolor": "#EBF0F8",
           "zerolinewidth": 2
          },
          "yaxis": {
           "automargin": true,
           "gridcolor": "#EBF0F8",
           "linecolor": "#EBF0F8",
           "ticks": "",
           "title": {
            "standoff": 15
           },
           "zerolinecolor": "#EBF0F8",
           "zerolinewidth": 2
          }
         }
        },
        "xaxis": {
         "anchor": "y",
         "domain": [
          0,
          1
         ],
         "tickfont": {
          "size": 18
         },
         "title": {
          "font": {
           "size": 22
          },
          "text": "training_step"
         }
        },
        "yaxis": {
         "anchor": "x",
         "domain": [
          0,
          1
         ],
         "tickfont": {
          "size": 18
         },
         "title": {
          "font": {
           "size": 22
          },
          "text": "reward"
         }
        }
       }
      }
     },
     "metadata": {},
     "output_type": "display_data"
    }
   ],
   "source": [
    "fig.update_layout(showlegend=False)"
   ]
  },
  {
   "cell_type": "markdown",
   "id": "89ea2e04",
   "metadata": {},
   "source": [
    "### Graph embeddings"
   ]
  },
  {
   "cell_type": "code",
   "execution_count": 75,
   "id": "913c51d9",
   "metadata": {},
   "outputs": [
    {
     "data": {
      "application/vnd.plotly.v1+json": {
       "config": {
        "plotlyServerURL": "https://plot.ly"
       },
       "data": [
        {
         "hovertemplate": "training_step=%{x}<br>reward=%{y}<extra></extra>",
         "legendgroup": "",
         "line": {
          "color": "#612b94",
          "dash": "solid"
         },
         "marker": {
          "symbol": "circle"
         },
         "mode": "lines",
         "name": "",
         "orientation": "v",
         "showlegend": false,
         "type": "scatter",
         "x": {
          "bdata": "gAAAAYABAAKAAgADgAMABIAEAAWABQAGgAYAB4AHAAiACAAJgAkACoAKAAuACwAMgAwADYANAA6ADgAPgA8AEIAQABGAEQASgBIAE4ATABSAFAAVgBUAFoAWABeAFwAYgBgAGYAZABqAGgAbgBsAHIAcAB2AHQAegB4AH4AfACCAIAAhgCEAIoAiACOAIwAkgCQAJYAlACaAJgAngCc=",
          "dtype": "i2"
         },
         "xaxis": "x",
         "y": {
          "bdata": "AAAA4HK96z8AAAAg0IPuPwAAAED11e4/AAAAAH9J8D8AAADAbZDwPwAAAMBCh+4/AAAAIFix8T8AAAAgWsjyPwAAAACI2/I/AAAAYEMO8D8AAABghCLxPwAAAEDenfE/AAAAIJbM8T8AAABANqPwPwAAAIBVJfI/AAAAYJSQ8j8AAAAg5MrzPwAAAMA32PE/AAAAQKQL8T8AAAAg7/PxPwAAAGCfCPM/AAAAIDD28z8AAACgSZfwPwAAAMAJlO8/AAAA4MBV7j8AAACgU1bwPwAAAOBw//A/AAAAwMiT8j8AAAAACI3zPwAAACBg+PE/AAAAgD1C8j8AAABgm7vyPwAAAKDph/M/AAAAIEn48T8AAADgRPLxPwAAAECoEfM/AAAAAPLf8j8AAACAVW7yPwAAAGBawPE/AAAA4PAj8T8AAADgJe3yPwAAAADWZvQ/AAAAIMAZ9T8AAADgaiX0PwAAAAAVx/M/AAAAYCRw9D8AAACgMVfzPwAAAAAmDvM/AAAAAE7j8j8AAADgWfD0PwAAAEBypfQ/AAAAIJrE9T8AAADAMqH2PwAAAID01PY/AAAAQEx/9z8AAACgpKH3PwAAAEDc4fQ/AAAAoLkU9z8AAAAA+BL2PwAAAEANjfY/AAAAQALW9T8AAACgNPP2PwAAAGAg9PY/AAAAIDSo9z8AAADAGgX1PwAAAIB1J/U/AAAAwBLe9T8AAADge2/3PwAAAGA+sPU/AAAAYHhR9T8AAACAw7LzPwAAAECZqfM/AAAAQJjw8j8AAAAgz2n0PwAAAKCGufU/AAAAwK/b9z8AAABgaDT3PwAAAGADJ/g/AAAAANi49z8=",
          "dtype": "f8"
         },
         "yaxis": "y"
        }
       ],
       "layout": {
        "legend": {
         "tracegroupgap": 0
        },
        "margin": {
         "t": 60
        },
        "template": {
         "data": {
          "bar": [
           {
            "error_x": {
             "color": "#2a3f5f"
            },
            "error_y": {
             "color": "#2a3f5f"
            },
            "marker": {
             "line": {
              "color": "white",
              "width": 0.5
             },
             "pattern": {
              "fillmode": "overlay",
              "size": 10,
              "solidity": 0.2
             }
            },
            "type": "bar"
           }
          ],
          "barpolar": [
           {
            "marker": {
             "line": {
              "color": "white",
              "width": 0.5
             },
             "pattern": {
              "fillmode": "overlay",
              "size": 10,
              "solidity": 0.2
             }
            },
            "type": "barpolar"
           }
          ],
          "carpet": [
           {
            "aaxis": {
             "endlinecolor": "#2a3f5f",
             "gridcolor": "#C8D4E3",
             "linecolor": "#C8D4E3",
             "minorgridcolor": "#C8D4E3",
             "startlinecolor": "#2a3f5f"
            },
            "baxis": {
             "endlinecolor": "#2a3f5f",
             "gridcolor": "#C8D4E3",
             "linecolor": "#C8D4E3",
             "minorgridcolor": "#C8D4E3",
             "startlinecolor": "#2a3f5f"
            },
            "type": "carpet"
           }
          ],
          "choropleth": [
           {
            "colorbar": {
             "outlinewidth": 0,
             "ticks": ""
            },
            "type": "choropleth"
           }
          ],
          "contour": [
           {
            "colorbar": {
             "outlinewidth": 0,
             "ticks": ""
            },
            "colorscale": [
             [
              0,
              "#0d0887"
             ],
             [
              0.1111111111111111,
              "#46039f"
             ],
             [
              0.2222222222222222,
              "#7201a8"
             ],
             [
              0.3333333333333333,
              "#9c179e"
             ],
             [
              0.4444444444444444,
              "#bd3786"
             ],
             [
              0.5555555555555556,
              "#d8576b"
             ],
             [
              0.6666666666666666,
              "#ed7953"
             ],
             [
              0.7777777777777778,
              "#fb9f3a"
             ],
             [
              0.8888888888888888,
              "#fdca26"
             ],
             [
              1,
              "#f0f921"
             ]
            ],
            "type": "contour"
           }
          ],
          "contourcarpet": [
           {
            "colorbar": {
             "outlinewidth": 0,
             "ticks": ""
            },
            "type": "contourcarpet"
           }
          ],
          "heatmap": [
           {
            "colorbar": {
             "outlinewidth": 0,
             "ticks": ""
            },
            "colorscale": [
             [
              0,
              "#0d0887"
             ],
             [
              0.1111111111111111,
              "#46039f"
             ],
             [
              0.2222222222222222,
              "#7201a8"
             ],
             [
              0.3333333333333333,
              "#9c179e"
             ],
             [
              0.4444444444444444,
              "#bd3786"
             ],
             [
              0.5555555555555556,
              "#d8576b"
             ],
             [
              0.6666666666666666,
              "#ed7953"
             ],
             [
              0.7777777777777778,
              "#fb9f3a"
             ],
             [
              0.8888888888888888,
              "#fdca26"
             ],
             [
              1,
              "#f0f921"
             ]
            ],
            "type": "heatmap"
           }
          ],
          "histogram": [
           {
            "marker": {
             "pattern": {
              "fillmode": "overlay",
              "size": 10,
              "solidity": 0.2
             }
            },
            "type": "histogram"
           }
          ],
          "histogram2d": [
           {
            "colorbar": {
             "outlinewidth": 0,
             "ticks": ""
            },
            "colorscale": [
             [
              0,
              "#0d0887"
             ],
             [
              0.1111111111111111,
              "#46039f"
             ],
             [
              0.2222222222222222,
              "#7201a8"
             ],
             [
              0.3333333333333333,
              "#9c179e"
             ],
             [
              0.4444444444444444,
              "#bd3786"
             ],
             [
              0.5555555555555556,
              "#d8576b"
             ],
             [
              0.6666666666666666,
              "#ed7953"
             ],
             [
              0.7777777777777778,
              "#fb9f3a"
             ],
             [
              0.8888888888888888,
              "#fdca26"
             ],
             [
              1,
              "#f0f921"
             ]
            ],
            "type": "histogram2d"
           }
          ],
          "histogram2dcontour": [
           {
            "colorbar": {
             "outlinewidth": 0,
             "ticks": ""
            },
            "colorscale": [
             [
              0,
              "#0d0887"
             ],
             [
              0.1111111111111111,
              "#46039f"
             ],
             [
              0.2222222222222222,
              "#7201a8"
             ],
             [
              0.3333333333333333,
              "#9c179e"
             ],
             [
              0.4444444444444444,
              "#bd3786"
             ],
             [
              0.5555555555555556,
              "#d8576b"
             ],
             [
              0.6666666666666666,
              "#ed7953"
             ],
             [
              0.7777777777777778,
              "#fb9f3a"
             ],
             [
              0.8888888888888888,
              "#fdca26"
             ],
             [
              1,
              "#f0f921"
             ]
            ],
            "type": "histogram2dcontour"
           }
          ],
          "mesh3d": [
           {
            "colorbar": {
             "outlinewidth": 0,
             "ticks": ""
            },
            "type": "mesh3d"
           }
          ],
          "parcoords": [
           {
            "line": {
             "colorbar": {
              "outlinewidth": 0,
              "ticks": ""
             }
            },
            "type": "parcoords"
           }
          ],
          "pie": [
           {
            "automargin": true,
            "type": "pie"
           }
          ],
          "scatter": [
           {
            "fillpattern": {
             "fillmode": "overlay",
             "size": 10,
             "solidity": 0.2
            },
            "type": "scatter"
           }
          ],
          "scatter3d": [
           {
            "line": {
             "colorbar": {
              "outlinewidth": 0,
              "ticks": ""
             }
            },
            "marker": {
             "colorbar": {
              "outlinewidth": 0,
              "ticks": ""
             }
            },
            "type": "scatter3d"
           }
          ],
          "scattercarpet": [
           {
            "marker": {
             "colorbar": {
              "outlinewidth": 0,
              "ticks": ""
             }
            },
            "type": "scattercarpet"
           }
          ],
          "scattergeo": [
           {
            "marker": {
             "colorbar": {
              "outlinewidth": 0,
              "ticks": ""
             }
            },
            "type": "scattergeo"
           }
          ],
          "scattergl": [
           {
            "marker": {
             "colorbar": {
              "outlinewidth": 0,
              "ticks": ""
             }
            },
            "type": "scattergl"
           }
          ],
          "scattermap": [
           {
            "marker": {
             "colorbar": {
              "outlinewidth": 0,
              "ticks": ""
             }
            },
            "type": "scattermap"
           }
          ],
          "scattermapbox": [
           {
            "marker": {
             "colorbar": {
              "outlinewidth": 0,
              "ticks": ""
             }
            },
            "type": "scattermapbox"
           }
          ],
          "scatterpolar": [
           {
            "marker": {
             "colorbar": {
              "outlinewidth": 0,
              "ticks": ""
             }
            },
            "type": "scatterpolar"
           }
          ],
          "scatterpolargl": [
           {
            "marker": {
             "colorbar": {
              "outlinewidth": 0,
              "ticks": ""
             }
            },
            "type": "scatterpolargl"
           }
          ],
          "scatterternary": [
           {
            "marker": {
             "colorbar": {
              "outlinewidth": 0,
              "ticks": ""
             }
            },
            "type": "scatterternary"
           }
          ],
          "surface": [
           {
            "colorbar": {
             "outlinewidth": 0,
             "ticks": ""
            },
            "colorscale": [
             [
              0,
              "#0d0887"
             ],
             [
              0.1111111111111111,
              "#46039f"
             ],
             [
              0.2222222222222222,
              "#7201a8"
             ],
             [
              0.3333333333333333,
              "#9c179e"
             ],
             [
              0.4444444444444444,
              "#bd3786"
             ],
             [
              0.5555555555555556,
              "#d8576b"
             ],
             [
              0.6666666666666666,
              "#ed7953"
             ],
             [
              0.7777777777777778,
              "#fb9f3a"
             ],
             [
              0.8888888888888888,
              "#fdca26"
             ],
             [
              1,
              "#f0f921"
             ]
            ],
            "type": "surface"
           }
          ],
          "table": [
           {
            "cells": {
             "fill": {
              "color": "#EBF0F8"
             },
             "line": {
              "color": "white"
             }
            },
            "header": {
             "fill": {
              "color": "#C8D4E3"
             },
             "line": {
              "color": "white"
             }
            },
            "type": "table"
           }
          ]
         },
         "layout": {
          "annotationdefaults": {
           "arrowcolor": "#2a3f5f",
           "arrowhead": 0,
           "arrowwidth": 1
          },
          "autotypenumbers": "strict",
          "coloraxis": {
           "colorbar": {
            "outlinewidth": 0,
            "ticks": ""
           }
          },
          "colorscale": {
           "diverging": [
            [
             0,
             "#8e0152"
            ],
            [
             0.1,
             "#c51b7d"
            ],
            [
             0.2,
             "#de77ae"
            ],
            [
             0.3,
             "#f1b6da"
            ],
            [
             0.4,
             "#fde0ef"
            ],
            [
             0.5,
             "#f7f7f7"
            ],
            [
             0.6,
             "#e6f5d0"
            ],
            [
             0.7,
             "#b8e186"
            ],
            [
             0.8,
             "#7fbc41"
            ],
            [
             0.9,
             "#4d9221"
            ],
            [
             1,
             "#276419"
            ]
           ],
           "sequential": [
            [
             0,
             "#0d0887"
            ],
            [
             0.1111111111111111,
             "#46039f"
            ],
            [
             0.2222222222222222,
             "#7201a8"
            ],
            [
             0.3333333333333333,
             "#9c179e"
            ],
            [
             0.4444444444444444,
             "#bd3786"
            ],
            [
             0.5555555555555556,
             "#d8576b"
            ],
            [
             0.6666666666666666,
             "#ed7953"
            ],
            [
             0.7777777777777778,
             "#fb9f3a"
            ],
            [
             0.8888888888888888,
             "#fdca26"
            ],
            [
             1,
             "#f0f921"
            ]
           ],
           "sequentialminus": [
            [
             0,
             "#0d0887"
            ],
            [
             0.1111111111111111,
             "#46039f"
            ],
            [
             0.2222222222222222,
             "#7201a8"
            ],
            [
             0.3333333333333333,
             "#9c179e"
            ],
            [
             0.4444444444444444,
             "#bd3786"
            ],
            [
             0.5555555555555556,
             "#d8576b"
            ],
            [
             0.6666666666666666,
             "#ed7953"
            ],
            [
             0.7777777777777778,
             "#fb9f3a"
            ],
            [
             0.8888888888888888,
             "#fdca26"
            ],
            [
             1,
             "#f0f921"
            ]
           ]
          },
          "colorway": [
           "#636efa",
           "#EF553B",
           "#00cc96",
           "#ab63fa",
           "#FFA15A",
           "#19d3f3",
           "#FF6692",
           "#B6E880",
           "#FF97FF",
           "#FECB52"
          ],
          "font": {
           "color": "#2a3f5f"
          },
          "geo": {
           "bgcolor": "white",
           "lakecolor": "white",
           "landcolor": "white",
           "showlakes": true,
           "showland": true,
           "subunitcolor": "#C8D4E3"
          },
          "hoverlabel": {
           "align": "left"
          },
          "hovermode": "closest",
          "mapbox": {
           "style": "light"
          },
          "paper_bgcolor": "white",
          "plot_bgcolor": "white",
          "polar": {
           "angularaxis": {
            "gridcolor": "#EBF0F8",
            "linecolor": "#EBF0F8",
            "ticks": ""
           },
           "bgcolor": "white",
           "radialaxis": {
            "gridcolor": "#EBF0F8",
            "linecolor": "#EBF0F8",
            "ticks": ""
           }
          },
          "scene": {
           "xaxis": {
            "backgroundcolor": "white",
            "gridcolor": "#DFE8F3",
            "gridwidth": 2,
            "linecolor": "#EBF0F8",
            "showbackground": true,
            "ticks": "",
            "zerolinecolor": "#EBF0F8"
           },
           "yaxis": {
            "backgroundcolor": "white",
            "gridcolor": "#DFE8F3",
            "gridwidth": 2,
            "linecolor": "#EBF0F8",
            "showbackground": true,
            "ticks": "",
            "zerolinecolor": "#EBF0F8"
           },
           "zaxis": {
            "backgroundcolor": "white",
            "gridcolor": "#DFE8F3",
            "gridwidth": 2,
            "linecolor": "#EBF0F8",
            "showbackground": true,
            "ticks": "",
            "zerolinecolor": "#EBF0F8"
           }
          },
          "shapedefaults": {
           "line": {
            "color": "#2a3f5f"
           }
          },
          "ternary": {
           "aaxis": {
            "gridcolor": "#DFE8F3",
            "linecolor": "#A2B1C6",
            "ticks": ""
           },
           "baxis": {
            "gridcolor": "#DFE8F3",
            "linecolor": "#A2B1C6",
            "ticks": ""
           },
           "bgcolor": "white",
           "caxis": {
            "gridcolor": "#DFE8F3",
            "linecolor": "#A2B1C6",
            "ticks": ""
           }
          },
          "title": {
           "x": 0.05
          },
          "xaxis": {
           "automargin": true,
           "gridcolor": "#EBF0F8",
           "linecolor": "#EBF0F8",
           "ticks": "",
           "title": {
            "standoff": 15
           },
           "zerolinecolor": "#EBF0F8",
           "zerolinewidth": 2
          },
          "yaxis": {
           "automargin": true,
           "gridcolor": "#EBF0F8",
           "linecolor": "#EBF0F8",
           "ticks": "",
           "title": {
            "standoff": 15
           },
           "zerolinecolor": "#EBF0F8",
           "zerolinewidth": 2
          }
         }
        },
        "xaxis": {
         "anchor": "y",
         "domain": [
          0,
          1
         ],
         "tickfont": {
          "size": 18
         },
         "title": {
          "font": {
           "size": 22
          },
          "text": "training_step"
         }
        },
        "yaxis": {
         "anchor": "x",
         "domain": [
          0,
          1
         ],
         "tickfont": {
          "size": 18
         },
         "title": {
          "font": {
           "size": 22
          },
          "text": "reward"
         }
        }
       }
      }
     },
     "metadata": {},
     "output_type": "display_data"
    }
   ],
   "source": [
    "graph_training_reward = pl.read_csv(\n",
    "    \"../presentation_data/plotting/PPO_best_graph_reward_env=l2rpn_case14_sandbox_iterations=10000_2025-09-15_20_54_44_PPO_1.csv\"\n",
    ")\n",
    "maskable_graph_training_reward = pl.read_csv(\n",
    "    \"../presentation_data/plotting/PPO_best_maskable_graph_reward_env=l2rpn_case14_sandbox_iterations=10000_2025-09-15_18_51_44_PPO_1.csv\"\n",
    ")\n",
    "fig = px.line(\n",
    "    graph_training_reward,\n",
    "    x=\"Step\",\n",
    "    y=\"Value\",\n",
    "    labels={\n",
    "        \"Step\": \"training_step\",\n",
    "        \"Value\": \"reward\",\n",
    "    },\n",
    "    template=THEME,\n",
    ")\n",
    "fig.update_xaxes({\"title\": {\"font\": {\"size\": 22}}, \"tickfont\": {\"size\": 18}})\n",
    "fig.update_yaxes({\"title\": {\"font\": {\"size\": 22}}, \"tickfont\": {\"size\": 18}})\n",
    "fig.update_traces(line_color=\"#612b94\")"
   ]
  },
  {
   "cell_type": "code",
   "execution_count": 76,
   "id": "78352c1d",
   "metadata": {},
   "outputs": [
    {
     "data": {
      "application/vnd.plotly.v1+json": {
       "config": {
        "plotlyServerURL": "https://plot.ly"
       },
       "data": [
        {
         "hovertemplate": "training_step=%{x}<br>reward=%{y}<extra></extra>",
         "legendgroup": "",
         "line": {
          "color": "#612b94",
          "dash": "solid"
         },
         "marker": {
          "symbol": "circle"
         },
         "mode": "lines",
         "name": "",
         "orientation": "v",
         "showlegend": false,
         "type": "scatter",
         "x": {
          "bdata": "QACAAMAAAAFAAYABwAEAAkACgALAAgADQAOAA8ADAARABIAEwAQABUAFgAXABQAGQAaABsAGAAdAB4AHwAcACEAIgAjACAAJQAmACcAJAApACoAKwAoAC0ALgAvACwAMQAyADMAMAA1ADYANwA0ADkAOgA7ADgAPQA+AD8APABBAEIAQwBAAEUARgBHAEQASQBKAEsASABNAE4ATwBMAFEAUgBTAFAAVQBWAFcAVABZAFoAWwBYAF0AXgBfAFwAYQBiAGMAYABlAGYAZwBkAGkAagBrAGgAbQBuAG8AbABxAHIAcwBwAHUAdgB3AHQAeQB6AHsAeAB9AH4AfwB8AIEAggCDAIAAhQCGAIcAhACJAIoAiwCIAI0AjgCPAIwAkQCSAJMAkACVAJYAlwCUAJkAmgCbAJgAnQCc=",
          "dtype": "i2"
         },
         "xaxis": "x",
         "y": {
          "bdata": "AAAAwMWL7z8AAABg8m3wPwAAAODabPA/AAAAQMof8T8AAABAlTnwPwAAACAY+u8/AAAAAMlg8D8AAACgT1vwPwAAAMA3N+8/AAAAQM7u7z8AAABgPGfwPwAAAKCMZPA/AAAAgFll8D8AAAAgCKrwPwAAAOCkRPE/AAAAADuW8T8AAAAgUwzxPwAAAODXBvI/AAAAgAv+8T8AAADgSKDwPwAAAAAkW/A/AAAAAMpo8T8AAAAgKRnxPwAAAECngPE/AAAA4Pd78T8AAAAAeQHyPwAAAKB1kPI/AAAAgC+j8D8AAAAghQ3vPwAAAGAqdu8/AAAA4D+Q7z8AAACgqI7wPwAAAKBPcvE/AAAAYO5Y8j8AAADgkefyPwAAAACGdfI/AAAAIEis8j8AAADg/w7xPwAAAOBOAPM/AAAAgB238z8AAADA6jXzPwAAAOCJ7/E/AAAA4P9e8j8AAAAA2WzxPwAAAEB1OvE/AAAAgElk8T8AAABAmxfyPwAAAMA6afE/AAAAwJL88D8AAACg1TnwPwAAAIBIP/A/AAAAYJtv7z8AAADguyTxPwAAAICWafA/AAAAgBop8D8AAADAgtDvPwAAAGAyc/E/AAAAgMNw8T8AAACg5iHyPwAAAKCA4/I/AAAAgPEc8T8AAABAENTxPwAAAMBIMvA/AAAAAJSf8D8AAACA7mvwPwAAAAAx3fA/AAAAwAzD7z8AAAAgGPjvPwAAACCnye4/AAAAwCfR7D8AAADA2OrsPwAAAIDQTu8/AAAAQMGn8D8AAACgx2ryPwAAAOD/CvM/AAAAgHOx8z8AAABAx5HzPwAAAOATZvI/AAAAAORc8j8AAACgsJTyPwAAAMC3lvE/AAAAoKe88T8AAADg0cDyPwAAAEDAoPA/AAAAYIxT8D8AAAAALS7wPwAAAGCaju8/AAAAwBdC8D8AAADA9sLwPwAAAAAo1fA/AAAAgFi/8D8AAADgzKzwPwAAAOAPufA/AAAAoDm58D8AAACA8a7wPwAAAOCRg/E/AAAAgKmF8j8AAABg28bxPwAAAADjofI/AAAA4HaD8j8AAADAIuHxPwAAAKA4mPA/AAAAYEaD8D8AAACg9VjtPwAAAKBW9e0/AAAA4JUp7T8AAAAgHlnvPwAAACBDUu4/AAAAoDsO8D8AAADgS03xPwAAAOB4ZPE/AAAA4JSw8T8AAABgoOnwPwAAAEAMXvE/AAAAoDlS8D8AAABAOifwPwAAAEBu2vA/AAAAQP558T8AAAAgRGTxPwAAAMD5+/E/AAAAYAnd8T8AAADgkZzyPwAAAGDai/E/AAAA4LcY8j8AAABALX7yPwAAAIDo2fM/AAAAYC0m9D8AAADgs0H0PwAAAKBVl/Q/AAAAIPPr8z8AAACAAZfzPwAAAEDhsfM/AAAAAPKp8j8AAABAbX7yPwAAAODgt/I/AAAAgF4G8z8AAACADo7xPwAAAEAGZ/I/AAAAwJax8T8AAAAAADXyPwAAAMCbffE/AAAA4Dh78T8AAADAGGPyPwAAAIBiFvI/AAAAAEYP8j8AAADgPkHxPwAAAKBFi/A/AAAAgAib7z8AAABgLXnxPwAAAGDfyvE/AAAAAGiq8j8AAADA+8zyPwAAAOBadfM/AAAA4GQZ8z8AAACAStnzPwAAAGBpefI/AAAAYNz18z8=",
          "dtype": "f8"
         },
         "yaxis": "y"
        }
       ],
       "layout": {
        "legend": {
         "tracegroupgap": 0
        },
        "margin": {
         "t": 60
        },
        "template": {
         "data": {
          "bar": [
           {
            "error_x": {
             "color": "#2a3f5f"
            },
            "error_y": {
             "color": "#2a3f5f"
            },
            "marker": {
             "line": {
              "color": "white",
              "width": 0.5
             },
             "pattern": {
              "fillmode": "overlay",
              "size": 10,
              "solidity": 0.2
             }
            },
            "type": "bar"
           }
          ],
          "barpolar": [
           {
            "marker": {
             "line": {
              "color": "white",
              "width": 0.5
             },
             "pattern": {
              "fillmode": "overlay",
              "size": 10,
              "solidity": 0.2
             }
            },
            "type": "barpolar"
           }
          ],
          "carpet": [
           {
            "aaxis": {
             "endlinecolor": "#2a3f5f",
             "gridcolor": "#C8D4E3",
             "linecolor": "#C8D4E3",
             "minorgridcolor": "#C8D4E3",
             "startlinecolor": "#2a3f5f"
            },
            "baxis": {
             "endlinecolor": "#2a3f5f",
             "gridcolor": "#C8D4E3",
             "linecolor": "#C8D4E3",
             "minorgridcolor": "#C8D4E3",
             "startlinecolor": "#2a3f5f"
            },
            "type": "carpet"
           }
          ],
          "choropleth": [
           {
            "colorbar": {
             "outlinewidth": 0,
             "ticks": ""
            },
            "type": "choropleth"
           }
          ],
          "contour": [
           {
            "colorbar": {
             "outlinewidth": 0,
             "ticks": ""
            },
            "colorscale": [
             [
              0,
              "#0d0887"
             ],
             [
              0.1111111111111111,
              "#46039f"
             ],
             [
              0.2222222222222222,
              "#7201a8"
             ],
             [
              0.3333333333333333,
              "#9c179e"
             ],
             [
              0.4444444444444444,
              "#bd3786"
             ],
             [
              0.5555555555555556,
              "#d8576b"
             ],
             [
              0.6666666666666666,
              "#ed7953"
             ],
             [
              0.7777777777777778,
              "#fb9f3a"
             ],
             [
              0.8888888888888888,
              "#fdca26"
             ],
             [
              1,
              "#f0f921"
             ]
            ],
            "type": "contour"
           }
          ],
          "contourcarpet": [
           {
            "colorbar": {
             "outlinewidth": 0,
             "ticks": ""
            },
            "type": "contourcarpet"
           }
          ],
          "heatmap": [
           {
            "colorbar": {
             "outlinewidth": 0,
             "ticks": ""
            },
            "colorscale": [
             [
              0,
              "#0d0887"
             ],
             [
              0.1111111111111111,
              "#46039f"
             ],
             [
              0.2222222222222222,
              "#7201a8"
             ],
             [
              0.3333333333333333,
              "#9c179e"
             ],
             [
              0.4444444444444444,
              "#bd3786"
             ],
             [
              0.5555555555555556,
              "#d8576b"
             ],
             [
              0.6666666666666666,
              "#ed7953"
             ],
             [
              0.7777777777777778,
              "#fb9f3a"
             ],
             [
              0.8888888888888888,
              "#fdca26"
             ],
             [
              1,
              "#f0f921"
             ]
            ],
            "type": "heatmap"
           }
          ],
          "histogram": [
           {
            "marker": {
             "pattern": {
              "fillmode": "overlay",
              "size": 10,
              "solidity": 0.2
             }
            },
            "type": "histogram"
           }
          ],
          "histogram2d": [
           {
            "colorbar": {
             "outlinewidth": 0,
             "ticks": ""
            },
            "colorscale": [
             [
              0,
              "#0d0887"
             ],
             [
              0.1111111111111111,
              "#46039f"
             ],
             [
              0.2222222222222222,
              "#7201a8"
             ],
             [
              0.3333333333333333,
              "#9c179e"
             ],
             [
              0.4444444444444444,
              "#bd3786"
             ],
             [
              0.5555555555555556,
              "#d8576b"
             ],
             [
              0.6666666666666666,
              "#ed7953"
             ],
             [
              0.7777777777777778,
              "#fb9f3a"
             ],
             [
              0.8888888888888888,
              "#fdca26"
             ],
             [
              1,
              "#f0f921"
             ]
            ],
            "type": "histogram2d"
           }
          ],
          "histogram2dcontour": [
           {
            "colorbar": {
             "outlinewidth": 0,
             "ticks": ""
            },
            "colorscale": [
             [
              0,
              "#0d0887"
             ],
             [
              0.1111111111111111,
              "#46039f"
             ],
             [
              0.2222222222222222,
              "#7201a8"
             ],
             [
              0.3333333333333333,
              "#9c179e"
             ],
             [
              0.4444444444444444,
              "#bd3786"
             ],
             [
              0.5555555555555556,
              "#d8576b"
             ],
             [
              0.6666666666666666,
              "#ed7953"
             ],
             [
              0.7777777777777778,
              "#fb9f3a"
             ],
             [
              0.8888888888888888,
              "#fdca26"
             ],
             [
              1,
              "#f0f921"
             ]
            ],
            "type": "histogram2dcontour"
           }
          ],
          "mesh3d": [
           {
            "colorbar": {
             "outlinewidth": 0,
             "ticks": ""
            },
            "type": "mesh3d"
           }
          ],
          "parcoords": [
           {
            "line": {
             "colorbar": {
              "outlinewidth": 0,
              "ticks": ""
             }
            },
            "type": "parcoords"
           }
          ],
          "pie": [
           {
            "automargin": true,
            "type": "pie"
           }
          ],
          "scatter": [
           {
            "fillpattern": {
             "fillmode": "overlay",
             "size": 10,
             "solidity": 0.2
            },
            "type": "scatter"
           }
          ],
          "scatter3d": [
           {
            "line": {
             "colorbar": {
              "outlinewidth": 0,
              "ticks": ""
             }
            },
            "marker": {
             "colorbar": {
              "outlinewidth": 0,
              "ticks": ""
             }
            },
            "type": "scatter3d"
           }
          ],
          "scattercarpet": [
           {
            "marker": {
             "colorbar": {
              "outlinewidth": 0,
              "ticks": ""
             }
            },
            "type": "scattercarpet"
           }
          ],
          "scattergeo": [
           {
            "marker": {
             "colorbar": {
              "outlinewidth": 0,
              "ticks": ""
             }
            },
            "type": "scattergeo"
           }
          ],
          "scattergl": [
           {
            "marker": {
             "colorbar": {
              "outlinewidth": 0,
              "ticks": ""
             }
            },
            "type": "scattergl"
           }
          ],
          "scattermap": [
           {
            "marker": {
             "colorbar": {
              "outlinewidth": 0,
              "ticks": ""
             }
            },
            "type": "scattermap"
           }
          ],
          "scattermapbox": [
           {
            "marker": {
             "colorbar": {
              "outlinewidth": 0,
              "ticks": ""
             }
            },
            "type": "scattermapbox"
           }
          ],
          "scatterpolar": [
           {
            "marker": {
             "colorbar": {
              "outlinewidth": 0,
              "ticks": ""
             }
            },
            "type": "scatterpolar"
           }
          ],
          "scatterpolargl": [
           {
            "marker": {
             "colorbar": {
              "outlinewidth": 0,
              "ticks": ""
             }
            },
            "type": "scatterpolargl"
           }
          ],
          "scatterternary": [
           {
            "marker": {
             "colorbar": {
              "outlinewidth": 0,
              "ticks": ""
             }
            },
            "type": "scatterternary"
           }
          ],
          "surface": [
           {
            "colorbar": {
             "outlinewidth": 0,
             "ticks": ""
            },
            "colorscale": [
             [
              0,
              "#0d0887"
             ],
             [
              0.1111111111111111,
              "#46039f"
             ],
             [
              0.2222222222222222,
              "#7201a8"
             ],
             [
              0.3333333333333333,
              "#9c179e"
             ],
             [
              0.4444444444444444,
              "#bd3786"
             ],
             [
              0.5555555555555556,
              "#d8576b"
             ],
             [
              0.6666666666666666,
              "#ed7953"
             ],
             [
              0.7777777777777778,
              "#fb9f3a"
             ],
             [
              0.8888888888888888,
              "#fdca26"
             ],
             [
              1,
              "#f0f921"
             ]
            ],
            "type": "surface"
           }
          ],
          "table": [
           {
            "cells": {
             "fill": {
              "color": "#EBF0F8"
             },
             "line": {
              "color": "white"
             }
            },
            "header": {
             "fill": {
              "color": "#C8D4E3"
             },
             "line": {
              "color": "white"
             }
            },
            "type": "table"
           }
          ]
         },
         "layout": {
          "annotationdefaults": {
           "arrowcolor": "#2a3f5f",
           "arrowhead": 0,
           "arrowwidth": 1
          },
          "autotypenumbers": "strict",
          "coloraxis": {
           "colorbar": {
            "outlinewidth": 0,
            "ticks": ""
           }
          },
          "colorscale": {
           "diverging": [
            [
             0,
             "#8e0152"
            ],
            [
             0.1,
             "#c51b7d"
            ],
            [
             0.2,
             "#de77ae"
            ],
            [
             0.3,
             "#f1b6da"
            ],
            [
             0.4,
             "#fde0ef"
            ],
            [
             0.5,
             "#f7f7f7"
            ],
            [
             0.6,
             "#e6f5d0"
            ],
            [
             0.7,
             "#b8e186"
            ],
            [
             0.8,
             "#7fbc41"
            ],
            [
             0.9,
             "#4d9221"
            ],
            [
             1,
             "#276419"
            ]
           ],
           "sequential": [
            [
             0,
             "#0d0887"
            ],
            [
             0.1111111111111111,
             "#46039f"
            ],
            [
             0.2222222222222222,
             "#7201a8"
            ],
            [
             0.3333333333333333,
             "#9c179e"
            ],
            [
             0.4444444444444444,
             "#bd3786"
            ],
            [
             0.5555555555555556,
             "#d8576b"
            ],
            [
             0.6666666666666666,
             "#ed7953"
            ],
            [
             0.7777777777777778,
             "#fb9f3a"
            ],
            [
             0.8888888888888888,
             "#fdca26"
            ],
            [
             1,
             "#f0f921"
            ]
           ],
           "sequentialminus": [
            [
             0,
             "#0d0887"
            ],
            [
             0.1111111111111111,
             "#46039f"
            ],
            [
             0.2222222222222222,
             "#7201a8"
            ],
            [
             0.3333333333333333,
             "#9c179e"
            ],
            [
             0.4444444444444444,
             "#bd3786"
            ],
            [
             0.5555555555555556,
             "#d8576b"
            ],
            [
             0.6666666666666666,
             "#ed7953"
            ],
            [
             0.7777777777777778,
             "#fb9f3a"
            ],
            [
             0.8888888888888888,
             "#fdca26"
            ],
            [
             1,
             "#f0f921"
            ]
           ]
          },
          "colorway": [
           "#636efa",
           "#EF553B",
           "#00cc96",
           "#ab63fa",
           "#FFA15A",
           "#19d3f3",
           "#FF6692",
           "#B6E880",
           "#FF97FF",
           "#FECB52"
          ],
          "font": {
           "color": "#2a3f5f"
          },
          "geo": {
           "bgcolor": "white",
           "lakecolor": "white",
           "landcolor": "white",
           "showlakes": true,
           "showland": true,
           "subunitcolor": "#C8D4E3"
          },
          "hoverlabel": {
           "align": "left"
          },
          "hovermode": "closest",
          "mapbox": {
           "style": "light"
          },
          "paper_bgcolor": "white",
          "plot_bgcolor": "white",
          "polar": {
           "angularaxis": {
            "gridcolor": "#EBF0F8",
            "linecolor": "#EBF0F8",
            "ticks": ""
           },
           "bgcolor": "white",
           "radialaxis": {
            "gridcolor": "#EBF0F8",
            "linecolor": "#EBF0F8",
            "ticks": ""
           }
          },
          "scene": {
           "xaxis": {
            "backgroundcolor": "white",
            "gridcolor": "#DFE8F3",
            "gridwidth": 2,
            "linecolor": "#EBF0F8",
            "showbackground": true,
            "ticks": "",
            "zerolinecolor": "#EBF0F8"
           },
           "yaxis": {
            "backgroundcolor": "white",
            "gridcolor": "#DFE8F3",
            "gridwidth": 2,
            "linecolor": "#EBF0F8",
            "showbackground": true,
            "ticks": "",
            "zerolinecolor": "#EBF0F8"
           },
           "zaxis": {
            "backgroundcolor": "white",
            "gridcolor": "#DFE8F3",
            "gridwidth": 2,
            "linecolor": "#EBF0F8",
            "showbackground": true,
            "ticks": "",
            "zerolinecolor": "#EBF0F8"
           }
          },
          "shapedefaults": {
           "line": {
            "color": "#2a3f5f"
           }
          },
          "ternary": {
           "aaxis": {
            "gridcolor": "#DFE8F3",
            "linecolor": "#A2B1C6",
            "ticks": ""
           },
           "baxis": {
            "gridcolor": "#DFE8F3",
            "linecolor": "#A2B1C6",
            "ticks": ""
           },
           "bgcolor": "white",
           "caxis": {
            "gridcolor": "#DFE8F3",
            "linecolor": "#A2B1C6",
            "ticks": ""
           }
          },
          "title": {
           "x": 0.05
          },
          "xaxis": {
           "automargin": true,
           "gridcolor": "#EBF0F8",
           "linecolor": "#EBF0F8",
           "ticks": "",
           "title": {
            "standoff": 15
           },
           "zerolinecolor": "#EBF0F8",
           "zerolinewidth": 2
          },
          "yaxis": {
           "automargin": true,
           "gridcolor": "#EBF0F8",
           "linecolor": "#EBF0F8",
           "ticks": "",
           "title": {
            "standoff": 15
           },
           "zerolinecolor": "#EBF0F8",
           "zerolinewidth": 2
          }
         }
        },
        "xaxis": {
         "anchor": "y",
         "domain": [
          0,
          1
         ],
         "tickfont": {
          "size": 18
         },
         "title": {
          "font": {
           "size": 22
          },
          "text": "training_step"
         }
        },
        "yaxis": {
         "anchor": "x",
         "domain": [
          0,
          1
         ],
         "tickfont": {
          "size": 18
         },
         "title": {
          "font": {
           "size": 22
          },
          "text": "reward"
         }
        }
       }
      }
     },
     "metadata": {},
     "output_type": "display_data"
    }
   ],
   "source": [
    "fig = px.line(\n",
    "    maskable_graph_training_reward,\n",
    "    x=\"Step\",\n",
    "    y=\"Value\",\n",
    "    labels={\n",
    "        \"Step\": \"training_step\",\n",
    "        \"Value\": \"reward\",\n",
    "    },\n",
    "    template=THEME,\n",
    ")\n",
    "fig.update_xaxes({\"title\": {\"font\": {\"size\": 22}}, \"tickfont\": {\"size\": 18}})\n",
    "fig.update_yaxes({\"title\": {\"font\": {\"size\": 22}}, \"tickfont\": {\"size\": 18}})\n",
    "fig.update_traces(line_color=\"#612b94\")"
   ]
  },
  {
   "cell_type": "code",
   "execution_count": null,
   "id": "d6ee0a81",
   "metadata": {},
   "outputs": [
    {
     "data": {
      "application/vnd.plotly.v1+json": {
       "config": {
        "plotlyServerURL": "https://plot.ly"
       },
       "data": [
        {
         "hovertemplate": "model=maskable + improved reward<br>training_step=%{x}<br>reward=%{y}<extra></extra>",
         "legendgroup": "maskable + improved reward",
         "line": {
          "color": "#dbb944",
          "dash": "solid"
         },
         "marker": {
          "symbol": "circle"
         },
         "mode": "lines",
         "name": "maskable + improved reward",
         "orientation": "v",
         "showlegend": true,
         "type": "scatter",
         "x": {
          "bdata": "QACAAMAAAAFAAYABwAEAAkACgALAAgADQAOAA8ADAARABIAEwAQABUAFgAXABQAGQAaABsAGAAdAB4AHwAcACEAIgAjACAAJQAmACcAJAApACoAKwAoAC0ALgAvACwAMQAyADMAMAA1ADYANwA0ADkAOgA7ADgAPQA+AD8APABBAEIAQwBAAEUARgBHAEQASQBKAEsASABNAE4ATwBMAFEAUgBTAFAAVQBWAFcAVABZAFoAWwBYAF0AXgBfAFwAYQBiAGMAYABlAGYAZwBkAGkAagBrAGgAbQBuAG8AbABxAHIAcwBwAHUAdgB3AHQAeQB6AHsAeAB9AH4AfwB8AIEAggCDAIAAhQCGAIcAhACJAIoAiwCIAI0AjgCPAIwAkQCSAJMAkACVAJYAlwCUAJkAmgCbAJgAnQCc=",
          "dtype": "i2"
         },
         "xaxis": "x",
         "y": {
          "bdata": "AAAAYEDD6z8AAABgP2XtPwAAAMBBTes/AAAAIG286j8AAABgraztPwAAAACn0ew/AAAAIHYb6j8AAACg5wHsPwAAAMDc9+s/AAAAQKGW6j8AAAAANBzrPwAAACCCRe0/AAAA4JS57T8AAADgW/DsPwAAAIAi4Ow/AAAAoPZB7T8AAADAJXzsPwAAAEAV6us/AAAAgGn97T8AAAAg7aztPwAAAOB/Q/A/AAAA4EsF8D8AAABAW9bwPwAAAMB/7vA/AAAAgNXg8D8AAACAHBvxPwAAAMDSvPA/AAAAANp/8D8AAAAAgZ3vPwAAAMAYPPA/AAAAAEcm8D8AAABgP2/wPwAAAKBpivE/AAAAoMmP8T8AAADgQdvxPwAAAKA0bvI/AAAAgOVj8z8AAAAA5D3zPwAAAIDZtvM/AAAAAKYu8z8AAADAIXXzPwAAAECSAvM/AAAAgHz28j8AAADgvPfyPwAAAAB02PI/AAAA4GYI9D8AAABgKmbzPwAAAGC70/M/AAAAYJE78z8AAAAgewTzPwAAAMDTVvM/AAAAQOc/8z8AAACgVVP0PwAAAMAtJfU/AAAA4Ca39T8AAADAhoL2PwAAAIAEH/c/AAAA4Fx69j8AAADAx2/2PwAAAIC14PU/AAAAIBsQ9j8AAAAA/M71PwAAAIAw0vQ/AAAAYJNt9T8AAADApOv0PwAAAED7v/U/AAAAYG7b9j8AAABAVC34PwAAAMDtafg/AAAAILM1+T8AAAAAqSv5PwAAAMB11Po/AAAAwInK+T8AAACg+3T4PwAAACDmYPY/AAAAYMmk9j8AAAAgmWT3PwAAACCfH/c/AAAAwHGy9j8AAAAAT8z1PwAAAOBmcPY/AAAAQPD4+D8AAACgDWD6PwAAAOBGFfs/AAAAADfA+j8AAAAgRxD7PwAAAEDPN/w/AAAAANBj/D8AAABgeAL6PwAAAMCLb/k/AAAAgOle+D8AAABgDDn4PwAAAOBGvfk/AAAAAGyP+j8AAACAxN/6PwAAAIAr9vk/AAAAIBVU+j8AAAAAcND6PwAAAKDvGvs/AAAA4LII+j8AAABAVv36PwAAAEDt3Po/AAAAgL23/D8AAABg4KP9PwAAAMACN/0/AAAAAAFa/D8AAACAKvv9PwAAAAA9Yf0/AAAA4It5/T8AAAAAiQn+PwAAAAC92/0/AAAAwNXe/j8AAAAA+Zv/PwAAAGAnLgBAAAAAYB/j/z8AAADA8iAAQAAAAKAeHwBAAAAAQIqq/z8AAADg+JD/PwAAAECQhP8/AAAA4EVZAEAAAACgSygAQAAAAACF7/8/AAAAQAItAUAAAAAgliMCQAAAAADJhQJAAAAAwFGSAkAAAABAYXYCQAAAACAkhwJAAAAAQMAsAkAAAAAgjzADQAAAAOBvMANAAAAAADGPA0AAAAAgnWECQAAAAAA4lwJAAAAAwAeeAkAAAAAAk7QCQAAAAABgkQNAAAAAYHeKA0AAAADgvDwEQAAAAGC/LANAAAAAIFSFA0AAAAAgUFEEQAAAAKChqgRAAAAAAOKABUAAAACAJXYFQAAAAIAfvAVAAAAAwEuUBkAAAAAg9BEGQAAAAKBpCQZAAAAAIBLjBUAAAABAemwGQAAAAMBfogVAAAAAINbOBUAAAABANMEFQAAAAKCwfwVAAAAAgJS0BUA=",
          "dtype": "f8"
         },
         "yaxis": "y"
        },
        {
         "hovertemplate": "model=graph + improved reward<br>training_step=%{x}<br>reward=%{y}<extra></extra>",
         "legendgroup": "graph + improved reward",
         "line": {
          "color": "#26a6a6",
          "dash": "solid"
         },
         "marker": {
          "symbol": "circle"
         },
         "mode": "lines",
         "name": "graph + improved reward",
         "orientation": "v",
         "showlegend": true,
         "type": "scatter",
         "x": {
          "bdata": "gAAAAYABAAKAAgADgAMABIAEAAWABQAGgAYAB4AHAAiACAAJgAkACoAKAAuACwAMgAwADYANAA6ADgAPgA8AEIAQABGAEQASgBIAE4ATABSAFAAVgBUAFoAWABeAFwAYgBgAGYAZABqAGgAbgBsAHIAcAB2AHQAegB4AH4AfACCAIAAhgCEAIoAiACOAIwAkgCQAJYAlACaAJgAngCc=",
          "dtype": "i2"
         },
         "xaxis": "x",
         "y": {
          "bdata": "AAAA4HK96z8AAAAg0IPuPwAAAED11e4/AAAAAH9J8D8AAADAbZDwPwAAAMBCh+4/AAAAIFix8T8AAAAgWsjyPwAAAACI2/I/AAAAYEMO8D8AAABghCLxPwAAAEDenfE/AAAAIJbM8T8AAABANqPwPwAAAIBVJfI/AAAAYJSQ8j8AAAAg5MrzPwAAAMA32PE/AAAAQKQL8T8AAAAg7/PxPwAAAGCfCPM/AAAAIDD28z8AAACgSZfwPwAAAMAJlO8/AAAA4MBV7j8AAACgU1bwPwAAAOBw//A/AAAAwMiT8j8AAAAACI3zPwAAACBg+PE/AAAAgD1C8j8AAABgm7vyPwAAAKDph/M/AAAAIEn48T8AAADgRPLxPwAAAECoEfM/AAAAAPLf8j8AAACAVW7yPwAAAGBawPE/AAAA4PAj8T8AAADgJe3yPwAAAADWZvQ/AAAAIMAZ9T8AAADgaiX0PwAAAAAVx/M/AAAAYCRw9D8AAACgMVfzPwAAAAAmDvM/AAAAAE7j8j8AAADgWfD0PwAAAEBypfQ/AAAAIJrE9T8AAADAMqH2PwAAAID01PY/AAAAQEx/9z8AAACgpKH3PwAAAEDc4fQ/AAAAoLkU9z8AAAAA+BL2PwAAAEANjfY/AAAAQALW9T8AAACgNPP2PwAAAGAg9PY/AAAAIDSo9z8AAADAGgX1PwAAAIB1J/U/AAAAwBLe9T8AAADge2/3PwAAAGA+sPU/AAAAYHhR9T8AAACAw7LzPwAAAECZqfM/AAAAQJjw8j8AAAAgz2n0PwAAAKCGufU/AAAAwK/b9z8AAABgaDT3PwAAAGADJ/g/AAAAANi49z8=",
          "dtype": "f8"
         },
         "yaxis": "y"
        },
        {
         "hovertemplate": "model=graph + maskable + improved reward<br>training_step=%{x}<br>reward=%{y}<extra></extra>",
         "legendgroup": "graph + maskable + improved reward",
         "line": {
          "color": "#612b94",
          "dash": "solid"
         },
         "marker": {
          "symbol": "circle"
         },
         "mode": "lines",
         "name": "graph + maskable + improved reward",
         "orientation": "v",
         "showlegend": true,
         "type": "scatter",
         "x": {
          "bdata": "QACAAMAAAAFAAYABwAEAAkACgALAAgADQAOAA8ADAARABIAEwAQABUAFgAXABQAGQAaABsAGAAdAB4AHwAcACEAIgAjACAAJQAmACcAJAApACoAKwAoAC0ALgAvACwAMQAyADMAMAA1ADYANwA0ADkAOgA7ADgAPQA+AD8APABBAEIAQwBAAEUARgBHAEQASQBKAEsASABNAE4ATwBMAFEAUgBTAFAAVQBWAFcAVABZAFoAWwBYAF0AXgBfAFwAYQBiAGMAYABlAGYAZwBkAGkAagBrAGgAbQBuAG8AbABxAHIAcwBwAHUAdgB3AHQAeQB6AHsAeAB9AH4AfwB8AIEAggCDAIAAhQCGAIcAhACJAIoAiwCIAI0AjgCPAIwAkQCSAJMAkACVAJYAlwCUAJkAmgCbAJgAnQCc=",
          "dtype": "i2"
         },
         "xaxis": "x",
         "y": {
          "bdata": "AAAAwMWL7z8AAABg8m3wPwAAAODabPA/AAAAQMof8T8AAABAlTnwPwAAACAY+u8/AAAAAMlg8D8AAACgT1vwPwAAAMA3N+8/AAAAQM7u7z8AAABgPGfwPwAAAKCMZPA/AAAAgFll8D8AAAAgCKrwPwAAAOCkRPE/AAAAADuW8T8AAAAgUwzxPwAAAODXBvI/AAAAgAv+8T8AAADgSKDwPwAAAAAkW/A/AAAAAMpo8T8AAAAgKRnxPwAAAECngPE/AAAA4Pd78T8AAAAAeQHyPwAAAKB1kPI/AAAAgC+j8D8AAAAghQ3vPwAAAGAqdu8/AAAA4D+Q7z8AAACgqI7wPwAAAKBPcvE/AAAAYO5Y8j8AAADgkefyPwAAAACGdfI/AAAAIEis8j8AAADg/w7xPwAAAOBOAPM/AAAAgB238z8AAADA6jXzPwAAAOCJ7/E/AAAA4P9e8j8AAAAA2WzxPwAAAEB1OvE/AAAAgElk8T8AAABAmxfyPwAAAMA6afE/AAAAwJL88D8AAACg1TnwPwAAAIBIP/A/AAAAYJtv7z8AAADguyTxPwAAAICWafA/AAAAgBop8D8AAADAgtDvPwAAAGAyc/E/AAAAgMNw8T8AAACg5iHyPwAAAKCA4/I/AAAAgPEc8T8AAABAENTxPwAAAMBIMvA/AAAAAJSf8D8AAACA7mvwPwAAAAAx3fA/AAAAwAzD7z8AAAAgGPjvPwAAACCnye4/AAAAwCfR7D8AAADA2OrsPwAAAIDQTu8/AAAAQMGn8D8AAACgx2ryPwAAAOD/CvM/AAAAgHOx8z8AAABAx5HzPwAAAOATZvI/AAAAAORc8j8AAACgsJTyPwAAAMC3lvE/AAAAoKe88T8AAADg0cDyPwAAAEDAoPA/AAAAYIxT8D8AAAAALS7wPwAAAGCaju8/AAAAwBdC8D8AAADA9sLwPwAAAAAo1fA/AAAAgFi/8D8AAADgzKzwPwAAAOAPufA/AAAAoDm58D8AAACA8a7wPwAAAOCRg/E/AAAAgKmF8j8AAABg28bxPwAAAADjofI/AAAA4HaD8j8AAADAIuHxPwAAAKA4mPA/AAAAYEaD8D8AAACg9VjtPwAAAKBW9e0/AAAA4JUp7T8AAAAgHlnvPwAAACBDUu4/AAAAoDsO8D8AAADgS03xPwAAAOB4ZPE/AAAA4JSw8T8AAABgoOnwPwAAAEAMXvE/AAAAoDlS8D8AAABAOifwPwAAAEBu2vA/AAAAQP558T8AAAAgRGTxPwAAAMD5+/E/AAAAYAnd8T8AAADgkZzyPwAAAGDai/E/AAAA4LcY8j8AAABALX7yPwAAAIDo2fM/AAAAYC0m9D8AAADgs0H0PwAAAKBVl/Q/AAAAIPPr8z8AAACAAZfzPwAAAEDhsfM/AAAAAPKp8j8AAABAbX7yPwAAAODgt/I/AAAAgF4G8z8AAACADo7xPwAAAEAGZ/I/AAAAwJax8T8AAAAAADXyPwAAAMCbffE/AAAA4Dh78T8AAADAGGPyPwAAAIBiFvI/AAAAAEYP8j8AAADgPkHxPwAAAKBFi/A/AAAAgAib7z8AAABgLXnxPwAAAGDfyvE/AAAAAGiq8j8AAADA+8zyPwAAAOBadfM/AAAA4GQZ8z8AAACAStnzPwAAAGBpefI/AAAAYNz18z8=",
          "dtype": "f8"
         },
         "yaxis": "y"
        }
       ],
       "layout": {
        "font": {
         "size": 18
        },
        "legend": {
         "title": {
          "font": {
           "size": 18
          },
          "text": "model"
         },
         "tracegroupgap": 0
        },
        "margin": {
         "t": 60
        },
        "template": {
         "data": {
          "bar": [
           {
            "error_x": {
             "color": "#2a3f5f"
            },
            "error_y": {
             "color": "#2a3f5f"
            },
            "marker": {
             "line": {
              "color": "white",
              "width": 0.5
             },
             "pattern": {
              "fillmode": "overlay",
              "size": 10,
              "solidity": 0.2
             }
            },
            "type": "bar"
           }
          ],
          "barpolar": [
           {
            "marker": {
             "line": {
              "color": "white",
              "width": 0.5
             },
             "pattern": {
              "fillmode": "overlay",
              "size": 10,
              "solidity": 0.2
             }
            },
            "type": "barpolar"
           }
          ],
          "carpet": [
           {
            "aaxis": {
             "endlinecolor": "#2a3f5f",
             "gridcolor": "#C8D4E3",
             "linecolor": "#C8D4E3",
             "minorgridcolor": "#C8D4E3",
             "startlinecolor": "#2a3f5f"
            },
            "baxis": {
             "endlinecolor": "#2a3f5f",
             "gridcolor": "#C8D4E3",
             "linecolor": "#C8D4E3",
             "minorgridcolor": "#C8D4E3",
             "startlinecolor": "#2a3f5f"
            },
            "type": "carpet"
           }
          ],
          "choropleth": [
           {
            "colorbar": {
             "outlinewidth": 0,
             "ticks": ""
            },
            "type": "choropleth"
           }
          ],
          "contour": [
           {
            "colorbar": {
             "outlinewidth": 0,
             "ticks": ""
            },
            "colorscale": [
             [
              0,
              "#0d0887"
             ],
             [
              0.1111111111111111,
              "#46039f"
             ],
             [
              0.2222222222222222,
              "#7201a8"
             ],
             [
              0.3333333333333333,
              "#9c179e"
             ],
             [
              0.4444444444444444,
              "#bd3786"
             ],
             [
              0.5555555555555556,
              "#d8576b"
             ],
             [
              0.6666666666666666,
              "#ed7953"
             ],
             [
              0.7777777777777778,
              "#fb9f3a"
             ],
             [
              0.8888888888888888,
              "#fdca26"
             ],
             [
              1,
              "#f0f921"
             ]
            ],
            "type": "contour"
           }
          ],
          "contourcarpet": [
           {
            "colorbar": {
             "outlinewidth": 0,
             "ticks": ""
            },
            "type": "contourcarpet"
           }
          ],
          "heatmap": [
           {
            "colorbar": {
             "outlinewidth": 0,
             "ticks": ""
            },
            "colorscale": [
             [
              0,
              "#0d0887"
             ],
             [
              0.1111111111111111,
              "#46039f"
             ],
             [
              0.2222222222222222,
              "#7201a8"
             ],
             [
              0.3333333333333333,
              "#9c179e"
             ],
             [
              0.4444444444444444,
              "#bd3786"
             ],
             [
              0.5555555555555556,
              "#d8576b"
             ],
             [
              0.6666666666666666,
              "#ed7953"
             ],
             [
              0.7777777777777778,
              "#fb9f3a"
             ],
             [
              0.8888888888888888,
              "#fdca26"
             ],
             [
              1,
              "#f0f921"
             ]
            ],
            "type": "heatmap"
           }
          ],
          "histogram": [
           {
            "marker": {
             "pattern": {
              "fillmode": "overlay",
              "size": 10,
              "solidity": 0.2
             }
            },
            "type": "histogram"
           }
          ],
          "histogram2d": [
           {
            "colorbar": {
             "outlinewidth": 0,
             "ticks": ""
            },
            "colorscale": [
             [
              0,
              "#0d0887"
             ],
             [
              0.1111111111111111,
              "#46039f"
             ],
             [
              0.2222222222222222,
              "#7201a8"
             ],
             [
              0.3333333333333333,
              "#9c179e"
             ],
             [
              0.4444444444444444,
              "#bd3786"
             ],
             [
              0.5555555555555556,
              "#d8576b"
             ],
             [
              0.6666666666666666,
              "#ed7953"
             ],
             [
              0.7777777777777778,
              "#fb9f3a"
             ],
             [
              0.8888888888888888,
              "#fdca26"
             ],
             [
              1,
              "#f0f921"
             ]
            ],
            "type": "histogram2d"
           }
          ],
          "histogram2dcontour": [
           {
            "colorbar": {
             "outlinewidth": 0,
             "ticks": ""
            },
            "colorscale": [
             [
              0,
              "#0d0887"
             ],
             [
              0.1111111111111111,
              "#46039f"
             ],
             [
              0.2222222222222222,
              "#7201a8"
             ],
             [
              0.3333333333333333,
              "#9c179e"
             ],
             [
              0.4444444444444444,
              "#bd3786"
             ],
             [
              0.5555555555555556,
              "#d8576b"
             ],
             [
              0.6666666666666666,
              "#ed7953"
             ],
             [
              0.7777777777777778,
              "#fb9f3a"
             ],
             [
              0.8888888888888888,
              "#fdca26"
             ],
             [
              1,
              "#f0f921"
             ]
            ],
            "type": "histogram2dcontour"
           }
          ],
          "mesh3d": [
           {
            "colorbar": {
             "outlinewidth": 0,
             "ticks": ""
            },
            "type": "mesh3d"
           }
          ],
          "parcoords": [
           {
            "line": {
             "colorbar": {
              "outlinewidth": 0,
              "ticks": ""
             }
            },
            "type": "parcoords"
           }
          ],
          "pie": [
           {
            "automargin": true,
            "type": "pie"
           }
          ],
          "scatter": [
           {
            "fillpattern": {
             "fillmode": "overlay",
             "size": 10,
             "solidity": 0.2
            },
            "type": "scatter"
           }
          ],
          "scatter3d": [
           {
            "line": {
             "colorbar": {
              "outlinewidth": 0,
              "ticks": ""
             }
            },
            "marker": {
             "colorbar": {
              "outlinewidth": 0,
              "ticks": ""
             }
            },
            "type": "scatter3d"
           }
          ],
          "scattercarpet": [
           {
            "marker": {
             "colorbar": {
              "outlinewidth": 0,
              "ticks": ""
             }
            },
            "type": "scattercarpet"
           }
          ],
          "scattergeo": [
           {
            "marker": {
             "colorbar": {
              "outlinewidth": 0,
              "ticks": ""
             }
            },
            "type": "scattergeo"
           }
          ],
          "scattergl": [
           {
            "marker": {
             "colorbar": {
              "outlinewidth": 0,
              "ticks": ""
             }
            },
            "type": "scattergl"
           }
          ],
          "scattermap": [
           {
            "marker": {
             "colorbar": {
              "outlinewidth": 0,
              "ticks": ""
             }
            },
            "type": "scattermap"
           }
          ],
          "scattermapbox": [
           {
            "marker": {
             "colorbar": {
              "outlinewidth": 0,
              "ticks": ""
             }
            },
            "type": "scattermapbox"
           }
          ],
          "scatterpolar": [
           {
            "marker": {
             "colorbar": {
              "outlinewidth": 0,
              "ticks": ""
             }
            },
            "type": "scatterpolar"
           }
          ],
          "scatterpolargl": [
           {
            "marker": {
             "colorbar": {
              "outlinewidth": 0,
              "ticks": ""
             }
            },
            "type": "scatterpolargl"
           }
          ],
          "scatterternary": [
           {
            "marker": {
             "colorbar": {
              "outlinewidth": 0,
              "ticks": ""
             }
            },
            "type": "scatterternary"
           }
          ],
          "surface": [
           {
            "colorbar": {
             "outlinewidth": 0,
             "ticks": ""
            },
            "colorscale": [
             [
              0,
              "#0d0887"
             ],
             [
              0.1111111111111111,
              "#46039f"
             ],
             [
              0.2222222222222222,
              "#7201a8"
             ],
             [
              0.3333333333333333,
              "#9c179e"
             ],
             [
              0.4444444444444444,
              "#bd3786"
             ],
             [
              0.5555555555555556,
              "#d8576b"
             ],
             [
              0.6666666666666666,
              "#ed7953"
             ],
             [
              0.7777777777777778,
              "#fb9f3a"
             ],
             [
              0.8888888888888888,
              "#fdca26"
             ],
             [
              1,
              "#f0f921"
             ]
            ],
            "type": "surface"
           }
          ],
          "table": [
           {
            "cells": {
             "fill": {
              "color": "#EBF0F8"
             },
             "line": {
              "color": "white"
             }
            },
            "header": {
             "fill": {
              "color": "#C8D4E3"
             },
             "line": {
              "color": "white"
             }
            },
            "type": "table"
           }
          ]
         },
         "layout": {
          "annotationdefaults": {
           "arrowcolor": "#2a3f5f",
           "arrowhead": 0,
           "arrowwidth": 1
          },
          "autotypenumbers": "strict",
          "coloraxis": {
           "colorbar": {
            "outlinewidth": 0,
            "ticks": ""
           }
          },
          "colorscale": {
           "diverging": [
            [
             0,
             "#8e0152"
            ],
            [
             0.1,
             "#c51b7d"
            ],
            [
             0.2,
             "#de77ae"
            ],
            [
             0.3,
             "#f1b6da"
            ],
            [
             0.4,
             "#fde0ef"
            ],
            [
             0.5,
             "#f7f7f7"
            ],
            [
             0.6,
             "#e6f5d0"
            ],
            [
             0.7,
             "#b8e186"
            ],
            [
             0.8,
             "#7fbc41"
            ],
            [
             0.9,
             "#4d9221"
            ],
            [
             1,
             "#276419"
            ]
           ],
           "sequential": [
            [
             0,
             "#0d0887"
            ],
            [
             0.1111111111111111,
             "#46039f"
            ],
            [
             0.2222222222222222,
             "#7201a8"
            ],
            [
             0.3333333333333333,
             "#9c179e"
            ],
            [
             0.4444444444444444,
             "#bd3786"
            ],
            [
             0.5555555555555556,
             "#d8576b"
            ],
            [
             0.6666666666666666,
             "#ed7953"
            ],
            [
             0.7777777777777778,
             "#fb9f3a"
            ],
            [
             0.8888888888888888,
             "#fdca26"
            ],
            [
             1,
             "#f0f921"
            ]
           ],
           "sequentialminus": [
            [
             0,
             "#0d0887"
            ],
            [
             0.1111111111111111,
             "#46039f"
            ],
            [
             0.2222222222222222,
             "#7201a8"
            ],
            [
             0.3333333333333333,
             "#9c179e"
            ],
            [
             0.4444444444444444,
             "#bd3786"
            ],
            [
             0.5555555555555556,
             "#d8576b"
            ],
            [
             0.6666666666666666,
             "#ed7953"
            ],
            [
             0.7777777777777778,
             "#fb9f3a"
            ],
            [
             0.8888888888888888,
             "#fdca26"
            ],
            [
             1,
             "#f0f921"
            ]
           ]
          },
          "colorway": [
           "#636efa",
           "#EF553B",
           "#00cc96",
           "#ab63fa",
           "#FFA15A",
           "#19d3f3",
           "#FF6692",
           "#B6E880",
           "#FF97FF",
           "#FECB52"
          ],
          "font": {
           "color": "#2a3f5f"
          },
          "geo": {
           "bgcolor": "white",
           "lakecolor": "white",
           "landcolor": "white",
           "showlakes": true,
           "showland": true,
           "subunitcolor": "#C8D4E3"
          },
          "hoverlabel": {
           "align": "left"
          },
          "hovermode": "closest",
          "mapbox": {
           "style": "light"
          },
          "paper_bgcolor": "white",
          "plot_bgcolor": "white",
          "polar": {
           "angularaxis": {
            "gridcolor": "#EBF0F8",
            "linecolor": "#EBF0F8",
            "ticks": ""
           },
           "bgcolor": "white",
           "radialaxis": {
            "gridcolor": "#EBF0F8",
            "linecolor": "#EBF0F8",
            "ticks": ""
           }
          },
          "scene": {
           "xaxis": {
            "backgroundcolor": "white",
            "gridcolor": "#DFE8F3",
            "gridwidth": 2,
            "linecolor": "#EBF0F8",
            "showbackground": true,
            "ticks": "",
            "zerolinecolor": "#EBF0F8"
           },
           "yaxis": {
            "backgroundcolor": "white",
            "gridcolor": "#DFE8F3",
            "gridwidth": 2,
            "linecolor": "#EBF0F8",
            "showbackground": true,
            "ticks": "",
            "zerolinecolor": "#EBF0F8"
           },
           "zaxis": {
            "backgroundcolor": "white",
            "gridcolor": "#DFE8F3",
            "gridwidth": 2,
            "linecolor": "#EBF0F8",
            "showbackground": true,
            "ticks": "",
            "zerolinecolor": "#EBF0F8"
           }
          },
          "shapedefaults": {
           "line": {
            "color": "#2a3f5f"
           }
          },
          "ternary": {
           "aaxis": {
            "gridcolor": "#DFE8F3",
            "linecolor": "#A2B1C6",
            "ticks": ""
           },
           "baxis": {
            "gridcolor": "#DFE8F3",
            "linecolor": "#A2B1C6",
            "ticks": ""
           },
           "bgcolor": "white",
           "caxis": {
            "gridcolor": "#DFE8F3",
            "linecolor": "#A2B1C6",
            "ticks": ""
           }
          },
          "title": {
           "x": 0.05
          },
          "xaxis": {
           "automargin": true,
           "gridcolor": "#EBF0F8",
           "linecolor": "#EBF0F8",
           "ticks": "",
           "title": {
            "standoff": 15
           },
           "zerolinecolor": "#EBF0F8",
           "zerolinewidth": 2
          },
          "yaxis": {
           "automargin": true,
           "gridcolor": "#EBF0F8",
           "linecolor": "#EBF0F8",
           "ticks": "",
           "title": {
            "standoff": 15
           },
           "zerolinecolor": "#EBF0F8",
           "zerolinewidth": 2
          }
         }
        },
        "xaxis": {
         "anchor": "y",
         "domain": [
          0,
          1
         ],
         "tickfont": {
          "size": 18
         },
         "title": {
          "font": {
           "size": 22
          },
          "text": "training_step"
         }
        },
        "yaxis": {
         "anchor": "x",
         "domain": [
          0,
          1
         ],
         "tickfont": {
          "size": 18
         },
         "title": {
          "font": {
           "size": 22
          },
          "text": "reward"
         }
        }
       }
      }
     },
     "metadata": {},
     "output_type": "display_data"
    }
   ],
   "source": [
    "comparison_graph = pl.concat(\n",
    "    [\n",
    "        maskable_training_reward.with_columns(\n",
    "            model=pl.lit(\"maskable + improved reward\")\n",
    "        ),\n",
    "        graph_training_reward.with_columns(model=pl.lit(\"graph + improved reward\")),\n",
    "        maskable_graph_training_reward.with_columns(\n",
    "            model=pl.lit(\"graph + maskable + improved reward\")\n",
    "        ),\n",
    "    ]\n",
    ")\n",
    "\n",
    "fig = px.line(\n",
    "    comparison_graph,\n",
    "    x=\"Step\",\n",
    "    y=\"Value\",\n",
    "    color=\"model\",\n",
    "    template=THEME,\n",
    "    labels={\n",
    "        \"Step\": \"training_step\",\n",
    "        \"Value\": \"reward\",\n",
    "    },\n",
    ")\n",
    "\n",
    "fig.update_xaxes({\"title\": {\"font\": {\"size\": 22}}, \"tickfont\": {\"size\": 18}})\n",
    "fig.update_yaxes({\"title\": {\"font\": {\"size\": 22}}, \"tickfont\": {\"size\": 18}})\n",
    "fig.update_layout(legend_title_font_size=18, font_size=18)\n",
    "\n",
    "fig.for_each_trace(\n",
    "    lambda trace: trace.update(\n",
    "        line_color=\"#26a6a6\"\n",
    "        if trace.name == \"graph + improved reward\"\n",
    "        else \"#612b94\"\n",
    "        if trace.name == \"graph + maskable + improved reward\"\n",
    "        else \"#dbb944\"\n",
    "    ),\n",
    ")\n"
   ]
  },
  {
   "cell_type": "code",
   "execution_count": null,
   "id": "181aae5a",
   "metadata": {},
   "outputs": [
    {
     "data": {
      "application/vnd.plotly.v1+json": {
       "config": {
        "plotlyServerURL": "https://plot.ly"
       },
       "data": [
        {
         "hovertemplate": "model=maskable + improved reward<br>training_step=%{x}<br>reward=%{y}<extra></extra>",
         "legendgroup": "maskable + improved reward",
         "line": {
          "color": "#dbb944",
          "dash": "solid"
         },
         "marker": {
          "symbol": "circle"
         },
         "mode": "lines",
         "name": "maskable + improved reward",
         "orientation": "v",
         "showlegend": true,
         "type": "scatter",
         "x": {
          "bdata": "QACAAMAAAAFAAYABwAEAAkACgALAAgADQAOAA8ADAARABIAEwAQABUAFgAXABQAGQAaABsAGAAdAB4AHwAcACEAIgAjACAAJQAmACcAJAApACoAKwAoAC0ALgAvACwAMQAyADMAMAA1ADYANwA0ADkAOgA7ADgAPQA+AD8APABBAEIAQwBAAEUARgBHAEQASQBKAEsASABNAE4ATwBMAFEAUgBTAFAAVQBWAFcAVABZAFoAWwBYAF0AXgBfAFwAYQBiAGMAYABlAGYAZwBkAGkAagBrAGgAbQBuAG8AbABxAHIAcwBwAHUAdgB3AHQAeQB6AHsAeAB9AH4AfwB8AIEAggCDAIAAhQCGAIcAhACJAIoAiwCIAI0AjgCPAIwAkQCSAJMAkACVAJYAlwCUAJkAmgCbAJgAnQCc=",
          "dtype": "i2"
         },
         "xaxis": "x",
         "y": {
          "bdata": "AAAAYEDD6z8AAABgP2XtPwAAAMBBTes/AAAAIG286j8AAABgraztPwAAAACn0ew/AAAAIHYb6j8AAACg5wHsPwAAAMDc9+s/AAAAQKGW6j8AAAAANBzrPwAAACCCRe0/AAAA4JS57T8AAADgW/DsPwAAAIAi4Ow/AAAAoPZB7T8AAADAJXzsPwAAAEAV6us/AAAAgGn97T8AAAAg7aztPwAAAOB/Q/A/AAAA4EsF8D8AAABAW9bwPwAAAMB/7vA/AAAAgNXg8D8AAACAHBvxPwAAAMDSvPA/AAAAANp/8D8AAAAAgZ3vPwAAAMAYPPA/AAAAAEcm8D8AAABgP2/wPwAAAKBpivE/AAAAoMmP8T8AAADgQdvxPwAAAKA0bvI/AAAAgOVj8z8AAAAA5D3zPwAAAIDZtvM/AAAAAKYu8z8AAADAIXXzPwAAAECSAvM/AAAAgHz28j8AAADgvPfyPwAAAAB02PI/AAAA4GYI9D8AAABgKmbzPwAAAGC70/M/AAAAYJE78z8AAAAgewTzPwAAAMDTVvM/AAAAQOc/8z8AAACgVVP0PwAAAMAtJfU/AAAA4Ca39T8AAADAhoL2PwAAAIAEH/c/AAAA4Fx69j8AAADAx2/2PwAAAIC14PU/AAAAIBsQ9j8AAAAA/M71PwAAAIAw0vQ/AAAAYJNt9T8AAADApOv0PwAAAED7v/U/AAAAYG7b9j8AAABAVC34PwAAAMDtafg/AAAAILM1+T8AAAAAqSv5PwAAAMB11Po/AAAAwInK+T8AAACg+3T4PwAAACDmYPY/AAAAYMmk9j8AAAAgmWT3PwAAACCfH/c/AAAAwHGy9j8AAAAAT8z1PwAAAOBmcPY/AAAAQPD4+D8AAACgDWD6PwAAAOBGFfs/AAAAADfA+j8AAAAgRxD7PwAAAEDPN/w/AAAAANBj/D8AAABgeAL6PwAAAMCLb/k/AAAAgOle+D8AAABgDDn4PwAAAOBGvfk/AAAAAGyP+j8AAACAxN/6PwAAAIAr9vk/AAAAIBVU+j8AAAAAcND6PwAAAKDvGvs/AAAA4LII+j8AAABAVv36PwAAAEDt3Po/AAAAgL23/D8AAABg4KP9PwAAAMACN/0/AAAAAAFa/D8AAACAKvv9PwAAAAA9Yf0/AAAA4It5/T8AAAAAiQn+PwAAAAC92/0/AAAAwNXe/j8AAAAA+Zv/PwAAAGAnLgBAAAAAYB/j/z8AAADA8iAAQAAAAKAeHwBAAAAAQIqq/z8AAADg+JD/PwAAAECQhP8/AAAA4EVZAEAAAACgSygAQAAAAACF7/8/AAAAQAItAUAAAAAgliMCQAAAAADJhQJAAAAAwFGSAkAAAABAYXYCQAAAACAkhwJAAAAAQMAsAkAAAAAgjzADQAAAAOBvMANAAAAAADGPA0AAAAAgnWECQAAAAAA4lwJAAAAAwAeeAkAAAAAAk7QCQAAAAABgkQNAAAAAYHeKA0AAAADgvDwEQAAAAGC/LANAAAAAIFSFA0AAAAAgUFEEQAAAAKChqgRAAAAAAOKABUAAAACAJXYFQAAAAIAfvAVAAAAAwEuUBkAAAAAg9BEGQAAAAKBpCQZAAAAAIBLjBUAAAABAemwGQAAAAMBfogVAAAAAINbOBUAAAABANMEFQAAAAKCwfwVAAAAAgJS0BUA=",
          "dtype": "f8"
         },
         "yaxis": "y"
        },
        {
         "hovertemplate": "model=graph + improved reward<br>training_step=%{x}<br>reward=%{y}<extra></extra>",
         "legendgroup": "graph + improved reward",
         "line": {
          "color": "#26a6a6",
          "dash": "solid"
         },
         "marker": {
          "symbol": "circle"
         },
         "mode": "lines",
         "name": "graph + improved reward",
         "orientation": "v",
         "showlegend": true,
         "type": "scatter",
         "x": {
          "bdata": "gAAAAYABAAKAAgADgAMABIAEAAWABQAGgAYAB4AHAAiACAAJgAkACoAKAAuACwAMgAwADYANAA6ADgAPgA8AEIAQABGAEQASgBIAE4ATABSAFAAVgBUAFoAWABeAFwAYgBgAGYAZABqAGgAbgBsAHIAcAB2AHQAegB4AH4AfACCAIAAhgCEAIoAiACOAIwAkgCQAJYAlACaAJgAngCc=",
          "dtype": "i2"
         },
         "xaxis": "x",
         "y": {
          "bdata": "AAAA4HK96z8AAAAg0IPuPwAAAED11e4/AAAAAH9J8D8AAADAbZDwPwAAAMBCh+4/AAAAIFix8T8AAAAgWsjyPwAAAACI2/I/AAAAYEMO8D8AAABghCLxPwAAAEDenfE/AAAAIJbM8T8AAABANqPwPwAAAIBVJfI/AAAAYJSQ8j8AAAAg5MrzPwAAAMA32PE/AAAAQKQL8T8AAAAg7/PxPwAAAGCfCPM/AAAAIDD28z8AAACgSZfwPwAAAMAJlO8/AAAA4MBV7j8AAACgU1bwPwAAAOBw//A/AAAAwMiT8j8AAAAACI3zPwAAACBg+PE/AAAAgD1C8j8AAABgm7vyPwAAAKDph/M/AAAAIEn48T8AAADgRPLxPwAAAECoEfM/AAAAAPLf8j8AAACAVW7yPwAAAGBawPE/AAAA4PAj8T8AAADgJe3yPwAAAADWZvQ/AAAAIMAZ9T8AAADgaiX0PwAAAAAVx/M/AAAAYCRw9D8AAACgMVfzPwAAAAAmDvM/AAAAAE7j8j8AAADgWfD0PwAAAEBypfQ/AAAAIJrE9T8AAADAMqH2PwAAAID01PY/AAAAQEx/9z8AAACgpKH3PwAAAEDc4fQ/AAAAoLkU9z8AAAAA+BL2PwAAAEANjfY/AAAAQALW9T8AAACgNPP2PwAAAGAg9PY/AAAAIDSo9z8AAADAGgX1PwAAAIB1J/U/AAAAwBLe9T8AAADge2/3PwAAAGA+sPU/AAAAYHhR9T8AAACAw7LzPwAAAECZqfM/AAAAQJjw8j8AAAAgz2n0PwAAAKCGufU/AAAAwK/b9z8AAABgaDT3PwAAAGADJ/g/AAAAANi49z8=",
          "dtype": "f8"
         },
         "yaxis": "y"
        },
        {
         "hovertemplate": "model=graph + maskable + improved reward<br>training_step=%{x}<br>reward=%{y}<extra></extra>",
         "legendgroup": "graph + maskable + improved reward",
         "line": {
          "color": "#612b94",
          "dash": "solid"
         },
         "marker": {
          "symbol": "circle"
         },
         "mode": "lines",
         "name": "graph + maskable + improved reward",
         "orientation": "v",
         "showlegend": true,
         "type": "scatter",
         "x": {
          "bdata": "QACAAMAAAAFAAYABwAEAAkACgALAAgADQAOAA8ADAARABIAEwAQABUAFgAXABQAGQAaABsAGAAdAB4AHwAcACEAIgAjACAAJQAmACcAJAApACoAKwAoAC0ALgAvACwAMQAyADMAMAA1ADYANwA0ADkAOgA7ADgAPQA+AD8APABBAEIAQwBAAEUARgBHAEQASQBKAEsASABNAE4ATwBMAFEAUgBTAFAAVQBWAFcAVABZAFoAWwBYAF0AXgBfAFwAYQBiAGMAYABlAGYAZwBkAGkAagBrAGgAbQBuAG8AbABxAHIAcwBwAHUAdgB3AHQAeQB6AHsAeAB9AH4AfwB8AIEAggCDAIAAhQCGAIcAhACJAIoAiwCIAI0AjgCPAIwAkQCSAJMAkACVAJYAlwCUAJkAmgCbAJgAnQCc=",
          "dtype": "i2"
         },
         "xaxis": "x",
         "y": {
          "bdata": "AAAAwMWL7z8AAABg8m3wPwAAAODabPA/AAAAQMof8T8AAABAlTnwPwAAACAY+u8/AAAAAMlg8D8AAACgT1vwPwAAAMA3N+8/AAAAQM7u7z8AAABgPGfwPwAAAKCMZPA/AAAAgFll8D8AAAAgCKrwPwAAAOCkRPE/AAAAADuW8T8AAAAgUwzxPwAAAODXBvI/AAAAgAv+8T8AAADgSKDwPwAAAAAkW/A/AAAAAMpo8T8AAAAgKRnxPwAAAECngPE/AAAA4Pd78T8AAAAAeQHyPwAAAKB1kPI/AAAAgC+j8D8AAAAghQ3vPwAAAGAqdu8/AAAA4D+Q7z8AAACgqI7wPwAAAKBPcvE/AAAAYO5Y8j8AAADgkefyPwAAAACGdfI/AAAAIEis8j8AAADg/w7xPwAAAOBOAPM/AAAAgB238z8AAADA6jXzPwAAAOCJ7/E/AAAA4P9e8j8AAAAA2WzxPwAAAEB1OvE/AAAAgElk8T8AAABAmxfyPwAAAMA6afE/AAAAwJL88D8AAACg1TnwPwAAAIBIP/A/AAAAYJtv7z8AAADguyTxPwAAAICWafA/AAAAgBop8D8AAADAgtDvPwAAAGAyc/E/AAAAgMNw8T8AAACg5iHyPwAAAKCA4/I/AAAAgPEc8T8AAABAENTxPwAAAMBIMvA/AAAAAJSf8D8AAACA7mvwPwAAAAAx3fA/AAAAwAzD7z8AAAAgGPjvPwAAACCnye4/AAAAwCfR7D8AAADA2OrsPwAAAIDQTu8/AAAAQMGn8D8AAACgx2ryPwAAAOD/CvM/AAAAgHOx8z8AAABAx5HzPwAAAOATZvI/AAAAAORc8j8AAACgsJTyPwAAAMC3lvE/AAAAoKe88T8AAADg0cDyPwAAAEDAoPA/AAAAYIxT8D8AAAAALS7wPwAAAGCaju8/AAAAwBdC8D8AAADA9sLwPwAAAAAo1fA/AAAAgFi/8D8AAADgzKzwPwAAAOAPufA/AAAAoDm58D8AAACA8a7wPwAAAOCRg/E/AAAAgKmF8j8AAABg28bxPwAAAADjofI/AAAA4HaD8j8AAADAIuHxPwAAAKA4mPA/AAAAYEaD8D8AAACg9VjtPwAAAKBW9e0/AAAA4JUp7T8AAAAgHlnvPwAAACBDUu4/AAAAoDsO8D8AAADgS03xPwAAAOB4ZPE/AAAA4JSw8T8AAABgoOnwPwAAAEAMXvE/AAAAoDlS8D8AAABAOifwPwAAAEBu2vA/AAAAQP558T8AAAAgRGTxPwAAAMD5+/E/AAAAYAnd8T8AAADgkZzyPwAAAGDai/E/AAAA4LcY8j8AAABALX7yPwAAAIDo2fM/AAAAYC0m9D8AAADgs0H0PwAAAKBVl/Q/AAAAIPPr8z8AAACAAZfzPwAAAEDhsfM/AAAAAPKp8j8AAABAbX7yPwAAAODgt/I/AAAAgF4G8z8AAACADo7xPwAAAEAGZ/I/AAAAwJax8T8AAAAAADXyPwAAAMCbffE/AAAA4Dh78T8AAADAGGPyPwAAAIBiFvI/AAAAAEYP8j8AAADgPkHxPwAAAKBFi/A/AAAAgAib7z8AAABgLXnxPwAAAGDfyvE/AAAAAGiq8j8AAADA+8zyPwAAAOBadfM/AAAA4GQZ8z8AAACAStnzPwAAAGBpefI/AAAAYNz18z8=",
          "dtype": "f8"
         },
         "yaxis": "y"
        }
       ],
       "layout": {
        "font": {
         "size": 18
        },
        "legend": {
         "title": {
          "font": {
           "size": 18
          },
          "text": "model"
         },
         "tracegroupgap": 0
        },
        "margin": {
         "t": 60
        },
        "showlegend": false,
        "template": {
         "data": {
          "bar": [
           {
            "error_x": {
             "color": "#2a3f5f"
            },
            "error_y": {
             "color": "#2a3f5f"
            },
            "marker": {
             "line": {
              "color": "white",
              "width": 0.5
             },
             "pattern": {
              "fillmode": "overlay",
              "size": 10,
              "solidity": 0.2
             }
            },
            "type": "bar"
           }
          ],
          "barpolar": [
           {
            "marker": {
             "line": {
              "color": "white",
              "width": 0.5
             },
             "pattern": {
              "fillmode": "overlay",
              "size": 10,
              "solidity": 0.2
             }
            },
            "type": "barpolar"
           }
          ],
          "carpet": [
           {
            "aaxis": {
             "endlinecolor": "#2a3f5f",
             "gridcolor": "#C8D4E3",
             "linecolor": "#C8D4E3",
             "minorgridcolor": "#C8D4E3",
             "startlinecolor": "#2a3f5f"
            },
            "baxis": {
             "endlinecolor": "#2a3f5f",
             "gridcolor": "#C8D4E3",
             "linecolor": "#C8D4E3",
             "minorgridcolor": "#C8D4E3",
             "startlinecolor": "#2a3f5f"
            },
            "type": "carpet"
           }
          ],
          "choropleth": [
           {
            "colorbar": {
             "outlinewidth": 0,
             "ticks": ""
            },
            "type": "choropleth"
           }
          ],
          "contour": [
           {
            "colorbar": {
             "outlinewidth": 0,
             "ticks": ""
            },
            "colorscale": [
             [
              0,
              "#0d0887"
             ],
             [
              0.1111111111111111,
              "#46039f"
             ],
             [
              0.2222222222222222,
              "#7201a8"
             ],
             [
              0.3333333333333333,
              "#9c179e"
             ],
             [
              0.4444444444444444,
              "#bd3786"
             ],
             [
              0.5555555555555556,
              "#d8576b"
             ],
             [
              0.6666666666666666,
              "#ed7953"
             ],
             [
              0.7777777777777778,
              "#fb9f3a"
             ],
             [
              0.8888888888888888,
              "#fdca26"
             ],
             [
              1,
              "#f0f921"
             ]
            ],
            "type": "contour"
           }
          ],
          "contourcarpet": [
           {
            "colorbar": {
             "outlinewidth": 0,
             "ticks": ""
            },
            "type": "contourcarpet"
           }
          ],
          "heatmap": [
           {
            "colorbar": {
             "outlinewidth": 0,
             "ticks": ""
            },
            "colorscale": [
             [
              0,
              "#0d0887"
             ],
             [
              0.1111111111111111,
              "#46039f"
             ],
             [
              0.2222222222222222,
              "#7201a8"
             ],
             [
              0.3333333333333333,
              "#9c179e"
             ],
             [
              0.4444444444444444,
              "#bd3786"
             ],
             [
              0.5555555555555556,
              "#d8576b"
             ],
             [
              0.6666666666666666,
              "#ed7953"
             ],
             [
              0.7777777777777778,
              "#fb9f3a"
             ],
             [
              0.8888888888888888,
              "#fdca26"
             ],
             [
              1,
              "#f0f921"
             ]
            ],
            "type": "heatmap"
           }
          ],
          "histogram": [
           {
            "marker": {
             "pattern": {
              "fillmode": "overlay",
              "size": 10,
              "solidity": 0.2
             }
            },
            "type": "histogram"
           }
          ],
          "histogram2d": [
           {
            "colorbar": {
             "outlinewidth": 0,
             "ticks": ""
            },
            "colorscale": [
             [
              0,
              "#0d0887"
             ],
             [
              0.1111111111111111,
              "#46039f"
             ],
             [
              0.2222222222222222,
              "#7201a8"
             ],
             [
              0.3333333333333333,
              "#9c179e"
             ],
             [
              0.4444444444444444,
              "#bd3786"
             ],
             [
              0.5555555555555556,
              "#d8576b"
             ],
             [
              0.6666666666666666,
              "#ed7953"
             ],
             [
              0.7777777777777778,
              "#fb9f3a"
             ],
             [
              0.8888888888888888,
              "#fdca26"
             ],
             [
              1,
              "#f0f921"
             ]
            ],
            "type": "histogram2d"
           }
          ],
          "histogram2dcontour": [
           {
            "colorbar": {
             "outlinewidth": 0,
             "ticks": ""
            },
            "colorscale": [
             [
              0,
              "#0d0887"
             ],
             [
              0.1111111111111111,
              "#46039f"
             ],
             [
              0.2222222222222222,
              "#7201a8"
             ],
             [
              0.3333333333333333,
              "#9c179e"
             ],
             [
              0.4444444444444444,
              "#bd3786"
             ],
             [
              0.5555555555555556,
              "#d8576b"
             ],
             [
              0.6666666666666666,
              "#ed7953"
             ],
             [
              0.7777777777777778,
              "#fb9f3a"
             ],
             [
              0.8888888888888888,
              "#fdca26"
             ],
             [
              1,
              "#f0f921"
             ]
            ],
            "type": "histogram2dcontour"
           }
          ],
          "mesh3d": [
           {
            "colorbar": {
             "outlinewidth": 0,
             "ticks": ""
            },
            "type": "mesh3d"
           }
          ],
          "parcoords": [
           {
            "line": {
             "colorbar": {
              "outlinewidth": 0,
              "ticks": ""
             }
            },
            "type": "parcoords"
           }
          ],
          "pie": [
           {
            "automargin": true,
            "type": "pie"
           }
          ],
          "scatter": [
           {
            "fillpattern": {
             "fillmode": "overlay",
             "size": 10,
             "solidity": 0.2
            },
            "type": "scatter"
           }
          ],
          "scatter3d": [
           {
            "line": {
             "colorbar": {
              "outlinewidth": 0,
              "ticks": ""
             }
            },
            "marker": {
             "colorbar": {
              "outlinewidth": 0,
              "ticks": ""
             }
            },
            "type": "scatter3d"
           }
          ],
          "scattercarpet": [
           {
            "marker": {
             "colorbar": {
              "outlinewidth": 0,
              "ticks": ""
             }
            },
            "type": "scattercarpet"
           }
          ],
          "scattergeo": [
           {
            "marker": {
             "colorbar": {
              "outlinewidth": 0,
              "ticks": ""
             }
            },
            "type": "scattergeo"
           }
          ],
          "scattergl": [
           {
            "marker": {
             "colorbar": {
              "outlinewidth": 0,
              "ticks": ""
             }
            },
            "type": "scattergl"
           }
          ],
          "scattermap": [
           {
            "marker": {
             "colorbar": {
              "outlinewidth": 0,
              "ticks": ""
             }
            },
            "type": "scattermap"
           }
          ],
          "scattermapbox": [
           {
            "marker": {
             "colorbar": {
              "outlinewidth": 0,
              "ticks": ""
             }
            },
            "type": "scattermapbox"
           }
          ],
          "scatterpolar": [
           {
            "marker": {
             "colorbar": {
              "outlinewidth": 0,
              "ticks": ""
             }
            },
            "type": "scatterpolar"
           }
          ],
          "scatterpolargl": [
           {
            "marker": {
             "colorbar": {
              "outlinewidth": 0,
              "ticks": ""
             }
            },
            "type": "scatterpolargl"
           }
          ],
          "scatterternary": [
           {
            "marker": {
             "colorbar": {
              "outlinewidth": 0,
              "ticks": ""
             }
            },
            "type": "scatterternary"
           }
          ],
          "surface": [
           {
            "colorbar": {
             "outlinewidth": 0,
             "ticks": ""
            },
            "colorscale": [
             [
              0,
              "#0d0887"
             ],
             [
              0.1111111111111111,
              "#46039f"
             ],
             [
              0.2222222222222222,
              "#7201a8"
             ],
             [
              0.3333333333333333,
              "#9c179e"
             ],
             [
              0.4444444444444444,
              "#bd3786"
             ],
             [
              0.5555555555555556,
              "#d8576b"
             ],
             [
              0.6666666666666666,
              "#ed7953"
             ],
             [
              0.7777777777777778,
              "#fb9f3a"
             ],
             [
              0.8888888888888888,
              "#fdca26"
             ],
             [
              1,
              "#f0f921"
             ]
            ],
            "type": "surface"
           }
          ],
          "table": [
           {
            "cells": {
             "fill": {
              "color": "#EBF0F8"
             },
             "line": {
              "color": "white"
             }
            },
            "header": {
             "fill": {
              "color": "#C8D4E3"
             },
             "line": {
              "color": "white"
             }
            },
            "type": "table"
           }
          ]
         },
         "layout": {
          "annotationdefaults": {
           "arrowcolor": "#2a3f5f",
           "arrowhead": 0,
           "arrowwidth": 1
          },
          "autotypenumbers": "strict",
          "coloraxis": {
           "colorbar": {
            "outlinewidth": 0,
            "ticks": ""
           }
          },
          "colorscale": {
           "diverging": [
            [
             0,
             "#8e0152"
            ],
            [
             0.1,
             "#c51b7d"
            ],
            [
             0.2,
             "#de77ae"
            ],
            [
             0.3,
             "#f1b6da"
            ],
            [
             0.4,
             "#fde0ef"
            ],
            [
             0.5,
             "#f7f7f7"
            ],
            [
             0.6,
             "#e6f5d0"
            ],
            [
             0.7,
             "#b8e186"
            ],
            [
             0.8,
             "#7fbc41"
            ],
            [
             0.9,
             "#4d9221"
            ],
            [
             1,
             "#276419"
            ]
           ],
           "sequential": [
            [
             0,
             "#0d0887"
            ],
            [
             0.1111111111111111,
             "#46039f"
            ],
            [
             0.2222222222222222,
             "#7201a8"
            ],
            [
             0.3333333333333333,
             "#9c179e"
            ],
            [
             0.4444444444444444,
             "#bd3786"
            ],
            [
             0.5555555555555556,
             "#d8576b"
            ],
            [
             0.6666666666666666,
             "#ed7953"
            ],
            [
             0.7777777777777778,
             "#fb9f3a"
            ],
            [
             0.8888888888888888,
             "#fdca26"
            ],
            [
             1,
             "#f0f921"
            ]
           ],
           "sequentialminus": [
            [
             0,
             "#0d0887"
            ],
            [
             0.1111111111111111,
             "#46039f"
            ],
            [
             0.2222222222222222,
             "#7201a8"
            ],
            [
             0.3333333333333333,
             "#9c179e"
            ],
            [
             0.4444444444444444,
             "#bd3786"
            ],
            [
             0.5555555555555556,
             "#d8576b"
            ],
            [
             0.6666666666666666,
             "#ed7953"
            ],
            [
             0.7777777777777778,
             "#fb9f3a"
            ],
            [
             0.8888888888888888,
             "#fdca26"
            ],
            [
             1,
             "#f0f921"
            ]
           ]
          },
          "colorway": [
           "#636efa",
           "#EF553B",
           "#00cc96",
           "#ab63fa",
           "#FFA15A",
           "#19d3f3",
           "#FF6692",
           "#B6E880",
           "#FF97FF",
           "#FECB52"
          ],
          "font": {
           "color": "#2a3f5f"
          },
          "geo": {
           "bgcolor": "white",
           "lakecolor": "white",
           "landcolor": "white",
           "showlakes": true,
           "showland": true,
           "subunitcolor": "#C8D4E3"
          },
          "hoverlabel": {
           "align": "left"
          },
          "hovermode": "closest",
          "mapbox": {
           "style": "light"
          },
          "paper_bgcolor": "white",
          "plot_bgcolor": "white",
          "polar": {
           "angularaxis": {
            "gridcolor": "#EBF0F8",
            "linecolor": "#EBF0F8",
            "ticks": ""
           },
           "bgcolor": "white",
           "radialaxis": {
            "gridcolor": "#EBF0F8",
            "linecolor": "#EBF0F8",
            "ticks": ""
           }
          },
          "scene": {
           "xaxis": {
            "backgroundcolor": "white",
            "gridcolor": "#DFE8F3",
            "gridwidth": 2,
            "linecolor": "#EBF0F8",
            "showbackground": true,
            "ticks": "",
            "zerolinecolor": "#EBF0F8"
           },
           "yaxis": {
            "backgroundcolor": "white",
            "gridcolor": "#DFE8F3",
            "gridwidth": 2,
            "linecolor": "#EBF0F8",
            "showbackground": true,
            "ticks": "",
            "zerolinecolor": "#EBF0F8"
           },
           "zaxis": {
            "backgroundcolor": "white",
            "gridcolor": "#DFE8F3",
            "gridwidth": 2,
            "linecolor": "#EBF0F8",
            "showbackground": true,
            "ticks": "",
            "zerolinecolor": "#EBF0F8"
           }
          },
          "shapedefaults": {
           "line": {
            "color": "#2a3f5f"
           }
          },
          "ternary": {
           "aaxis": {
            "gridcolor": "#DFE8F3",
            "linecolor": "#A2B1C6",
            "ticks": ""
           },
           "baxis": {
            "gridcolor": "#DFE8F3",
            "linecolor": "#A2B1C6",
            "ticks": ""
           },
           "bgcolor": "white",
           "caxis": {
            "gridcolor": "#DFE8F3",
            "linecolor": "#A2B1C6",
            "ticks": ""
           }
          },
          "title": {
           "x": 0.05
          },
          "xaxis": {
           "automargin": true,
           "gridcolor": "#EBF0F8",
           "linecolor": "#EBF0F8",
           "ticks": "",
           "title": {
            "standoff": 15
           },
           "zerolinecolor": "#EBF0F8",
           "zerolinewidth": 2
          },
          "yaxis": {
           "automargin": true,
           "gridcolor": "#EBF0F8",
           "linecolor": "#EBF0F8",
           "ticks": "",
           "title": {
            "standoff": 15
           },
           "zerolinecolor": "#EBF0F8",
           "zerolinewidth": 2
          }
         }
        },
        "xaxis": {
         "anchor": "y",
         "domain": [
          0,
          1
         ],
         "tickfont": {
          "size": 18
         },
         "title": {
          "font": {
           "size": 22
          },
          "text": "training_step"
         }
        },
        "yaxis": {
         "anchor": "x",
         "domain": [
          0,
          1
         ],
         "tickfont": {
          "size": 18
         },
         "title": {
          "font": {
           "size": 22
          },
          "text": "reward"
         }
        }
       }
      }
     },
     "metadata": {},
     "output_type": "display_data"
    }
   ],
   "source": [
    "fig.update_layout(showlegend=False)"
   ]
  },
  {
   "cell_type": "code",
   "execution_count": null,
   "id": "5ee42224",
   "metadata": {},
   "outputs": [
    {
     "data": {
      "text/html": [
       "<div><style>\n",
       ".dataframe > thead > tr,\n",
       ".dataframe > tbody > tr {\n",
       "  text-align: right;\n",
       "  white-space: pre-wrap;\n",
       "}\n",
       "</style>\n",
       "<small>shape: (1, 15)</small><table border=\"1\" class=\"dataframe\"><thead><tr><th></th><th>number</th><th>value</th><th>datetime_start</th><th>datetime_complete</th><th>duration</th><th>params_batch_size</th><th>params_gamma</th><th>params_gnn_dropout_p</th><th>params_gnn_features_dim</th><th>params_gnn_hidden_dim</th><th>params_learning_rate</th><th>params_n_steps</th><th>params_safe_max_rho</th><th>state</th></tr><tr><td>i64</td><td>i64</td><td>f64</td><td>str</td><td>str</td><td>str</td><td>i64</td><td>f64</td><td>f64</td><td>i64</td><td>i64</td><td>f64</td><td>i64</td><td>f64</td><td>str</td></tr></thead><tbody><tr><td>18</td><td>18</td><td>0.256969</td><td>&quot;2025-09-15 18:40:32.781241&quot;</td><td>&quot;2025-09-15 18:46:09.724127&quot;</td><td>&quot;0 days 00:05:36.942886&quot;</td><td>16</td><td>0.9731</td><td>0.1</td><td>128</td><td>32</td><td>0.000003</td><td>64</td><td>0.90315</td><td>&quot;COMPLETE&quot;</td></tr></tbody></table></div>"
      ],
      "text/plain": [
       "shape: (1, 15)\n",
       "┌─────┬────────┬──────────┬──────────────┬───┬──────────────┬─────────────┬─────────────┬──────────┐\n",
       "│     ┆ number ┆ value    ┆ datetime_sta ┆ … ┆ params_learn ┆ params_n_st ┆ params_safe ┆ state    │\n",
       "│ --- ┆ ---    ┆ ---      ┆ rt           ┆   ┆ ing_rate     ┆ eps         ┆ _max_rho    ┆ ---      │\n",
       "│ i64 ┆ i64    ┆ f64      ┆ ---          ┆   ┆ ---          ┆ ---         ┆ ---         ┆ str      │\n",
       "│     ┆        ┆          ┆ str          ┆   ┆ f64          ┆ i64         ┆ f64         ┆          │\n",
       "╞═════╪════════╪══════════╪══════════════╪═══╪══════════════╪═════════════╪═════════════╪══════════╡\n",
       "│ 18  ┆ 18     ┆ 0.256969 ┆ 2025-09-15   ┆ … ┆ 0.000003     ┆ 64          ┆ 0.90315     ┆ COMPLETE │\n",
       "│     ┆        ┆          ┆ 18:40:32.781 ┆   ┆              ┆             ┆             ┆          │\n",
       "│     ┆        ┆          ┆ 241          ┆   ┆              ┆             ┆             ┆          │\n",
       "└─────┴────────┴──────────┴──────────────┴───┴──────────────┴─────────────┴─────────────┴──────────┘"
      ]
     },
     "execution_count": 83,
     "metadata": {},
     "output_type": "execute_result"
    }
   ],
   "source": [
    "pl.read_csv(\n",
    "    \"../presentation_data/tuning_logs/study_MaskableGraphPPO_reward_2025-09-15_16:54:28.csv\"\n",
    ").sort(\"value\", descending=True)[0]"
   ]
  },
  {
   "cell_type": "code",
   "execution_count": null,
   "id": "17e9aed8",
   "metadata": {},
   "outputs": [],
   "source": []
  }
 ],
 "metadata": {
  "kernelspec": {
   "display_name": "ppo-on-grid2op",
   "language": "python",
   "name": "python3"
  },
  "language_info": {
   "codemirror_mode": {
    "name": "ipython",
    "version": 3
   },
   "file_extension": ".py",
   "mimetype": "text/x-python",
   "name": "python",
   "nbconvert_exporter": "python",
   "pygments_lexer": "ipython3",
   "version": "3.13.7"
  }
 },
 "nbformat": 4,
 "nbformat_minor": 5
}
