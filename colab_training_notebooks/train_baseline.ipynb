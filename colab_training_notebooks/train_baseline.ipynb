{
 "cells": [
  {
   "cell_type": "code",
   "execution_count": null,
   "id": "4717c09b",
   "metadata": {},
   "outputs": [],
   "source": [
    "# Clone repository\n",
    "!git clone https://github.com/dpaletti/ppo-on-grid2op.git"
   ]
  },
  {
   "cell_type": "code",
   "execution_count": null,
   "id": "edb32bc7",
   "metadata": {},
   "outputs": [],
   "source": [
    "# Install UV for dependencies\n",
    "!curl -LsSf https://astral.sh/uv/install.sh | sh"
   ]
  },
  {
   "cell_type": "code",
   "execution_count": null,
   "id": "80474440",
   "metadata": {},
   "outputs": [],
   "source": [
    "# Create necessary directory for logging\n",
    "!mkdir -p ppo-on-grid2op/models/"
   ]
  },
  {
   "cell_type": "code",
   "execution_count": null,
   "id": "f8cbb883",
   "metadata": {},
   "outputs": [],
   "source": [
    "# Install dependencies and run baseline training:\n",
    "# 1. hyperparameter tuning\n",
    "# 2. training best model\n",
    "# 3. evaluating trained model\n",
    "!cd ppo-on-grid2op/ && uv sync && uv run python src/ppo_on_grid2op/train_baseline.py"
   ]
  }
 ],
 "metadata": {
  "language_info": {
   "name": "python"
  }
 },
 "nbformat": 4,
 "nbformat_minor": 5
}
